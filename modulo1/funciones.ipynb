{
  "nbformat": 4,
  "nbformat_minor": 0,
  "metadata": {
    "colab": {
      "provenance": []
    },
    "kernelspec": {
      "name": "python3",
      "display_name": "Python 3"
    },
    "language_info": {
      "name": "python"
    }
  },
  "cells": [
    {
      "cell_type": "code",
      "source": [
        "import numpy as np"
      ],
      "metadata": {
        "id": "fG9YD_ToNvAa"
      },
      "execution_count": null,
      "outputs": []
    },
    {
      "cell_type": "markdown",
      "source": [
        "Funciones"
      ],
      "metadata": {
        "id": "EcTr-644_AtO"
      }
    },
    {
      "cell_type": "markdown",
      "source": [
        "Imagines que quermos sacar la suma de los clics de varias campañas"
      ],
      "metadata": {
        "id": "mPlQOu3D_FOS"
      }
    },
    {
      "cell_type": "code",
      "execution_count": null,
      "metadata": {
        "id": "oJjUdIKB-8kM"
      },
      "outputs": [],
      "source": [
        "clics = [12, 134, 123, 10]"
      ]
    },
    {
      "cell_type": "code",
      "source": [
        "sum(clics)"
      ],
      "metadata": {
        "colab": {
          "base_uri": "https://localhost:8080/"
        },
        "id": "T_I7i3Zm_QDZ",
        "outputId": "732ff7f9-a165-459e-8785-4ee33cca32b4"
      },
      "execution_count": null,
      "outputs": [
        {
          "output_type": "execute_result",
          "data": {
            "text/plain": [
              "279"
            ]
          },
          "metadata": {},
          "execution_count": 2
        }
      ]
    },
    {
      "cell_type": "code",
      "source": [
        "max(clics)"
      ],
      "metadata": {
        "colab": {
          "base_uri": "https://localhost:8080/"
        },
        "id": "rr56_UJ__aDU",
        "outputId": "82b37197-2d93-4af4-e77a-757baad455bf"
      },
      "execution_count": null,
      "outputs": [
        {
          "output_type": "execute_result",
          "data": {
            "text/plain": [
              "134"
            ]
          },
          "metadata": {},
          "execution_count": 3
        }
      ]
    },
    {
      "cell_type": "code",
      "source": [
        "min(clics)"
      ],
      "metadata": {
        "colab": {
          "base_uri": "https://localhost:8080/"
        },
        "id": "eAU4DAYCNp1Q",
        "outputId": "d6f5ae84-80c3-4f2a-88c7-9da3f7d3cd57"
      },
      "execution_count": null,
      "outputs": [
        {
          "output_type": "execute_result",
          "data": {
            "text/plain": [
              "10"
            ]
          },
          "metadata": {},
          "execution_count": 4
        }
      ]
    },
    {
      "cell_type": "code",
      "source": [
        "np.mean(clics)"
      ],
      "metadata": {
        "colab": {
          "base_uri": "https://localhost:8080/"
        },
        "id": "FduoZS9ENrsJ",
        "outputId": "108462ca-c994-4426-9ec8-ebc34fda40b4"
      },
      "execution_count": null,
      "outputs": [
        {
          "output_type": "execute_result",
          "data": {
            "text/plain": [
              "69.75"
            ]
          },
          "metadata": {},
          "execution_count": 7
        }
      ]
    },
    {
      "cell_type": "markdown",
      "source": [
        "Definir funciones en python"
      ],
      "metadata": {
        "id": "TYQHDAX__hyM"
      }
    },
    {
      "cell_type": "code",
      "source": [
        "def multiply(a, b):\n",
        "  c = a * b\n",
        "  return c"
      ],
      "metadata": {
        "id": "K14ZxpgEOHJG"
      },
      "execution_count": null,
      "outputs": []
    },
    {
      "cell_type": "code",
      "source": [
        "multiply(1,5)"
      ],
      "metadata": {
        "colab": {
          "base_uri": "https://localhost:8080/"
        },
        "id": "ETuffBCJOeGp",
        "outputId": "f31d3d9d-5fe4-4219-e304-406031346210"
      },
      "execution_count": null,
      "outputs": [
        {
          "output_type": "execute_result",
          "data": {
            "text/plain": [
              "5"
            ]
          },
          "metadata": {},
          "execution_count": 9
        }
      ]
    },
    {
      "cell_type": "code",
      "source": [
        "def calcular_roas(costo, ingreso):\n",
        "  roas = ingreso/costo\n",
        "  return roas\n"
      ],
      "metadata": {
        "id": "t13TA2jL_dVB"
      },
      "execution_count": null,
      "outputs": []
    },
    {
      "cell_type": "code",
      "source": [
        "calcular_roas(costo=50, ingreso=100)"
      ],
      "metadata": {
        "colab": {
          "base_uri": "https://localhost:8080/"
        },
        "id": "kV0DQT_f_3nJ",
        "outputId": "7dbde424-6964-4d3b-8b69-becd0e7a5ccb"
      },
      "execution_count": null,
      "outputs": [
        {
          "output_type": "execute_result",
          "data": {
            "text/plain": [
              "2.0"
            ]
          },
          "metadata": {},
          "execution_count": 12
        }
      ]
    },
    {
      "cell_type": "code",
      "source": [
        "def calcular_ctr(clics, impressions):\n",
        "  ctr = clics/impressions\n",
        "  ctr = ctr*100\n",
        "  ctr = str(round(ctr, 2)) + '%' #aquí lo convierto en un texto\n",
        "  return ctr"
      ],
      "metadata": {
        "id": "6ojuDt33AfxM"
      },
      "execution_count": null,
      "outputs": []
    },
    {
      "cell_type": "code",
      "source": [
        "test = calcular_ctr(10, 10000)"
      ],
      "metadata": {
        "id": "8KJ5L597BGS8"
      },
      "execution_count": null,
      "outputs": []
    },
    {
      "cell_type": "code",
      "source": [
        "type(test)"
      ],
      "metadata": {
        "colab": {
          "base_uri": "https://localhost:8080/"
        },
        "id": "jqTcmQ-KBtV1",
        "outputId": "5f0b64be-451a-4f47-db09-051af367cf88"
      },
      "execution_count": null,
      "outputs": [
        {
          "output_type": "execute_result",
          "data": {
            "text/plain": [
              "str"
            ]
          },
          "metadata": {},
          "execution_count": 18
        }
      ]
    },
    {
      "cell_type": "code",
      "source": [
        "test * 10"
      ],
      "metadata": {
        "colab": {
          "base_uri": "https://localhost:8080/",
          "height": 35
        },
        "id": "JJSPSPjLCM4F",
        "outputId": "1405a6cf-3c20-4034-955f-d9cdc0ceb08d"
      },
      "execution_count": null,
      "outputs": [
        {
          "output_type": "execute_result",
          "data": {
            "text/plain": [
              "'0.1%0.1%0.1%0.1%0.1%0.1%0.1%0.1%0.1%0.1%'"
            ],
            "application/vnd.google.colaboratory.intrinsic+json": {
              "type": "string"
            }
          },
          "metadata": {},
          "execution_count": 19
        }
      ]
    },
    {
      "cell_type": "code",
      "source": [],
      "metadata": {
        "id": "sIb5SsJwCRGa"
      },
      "execution_count": null,
      "outputs": []
    }
  ]
}