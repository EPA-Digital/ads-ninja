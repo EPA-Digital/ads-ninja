{
 "cells": [
  {
   "cell_type": "markdown",
   "metadata": {
    "id": "HS3-evn_guQr"
   },
   "source": [
    "## Variables"
   ]
  },
  {
   "cell_type": "code",
   "execution_count": null,
   "metadata": {
    "colab": {
     "base_uri": "https://localhost:8080/"
    },
    "id": "r-DTk_6Dixhk",
    "outputId": "22fc3963-cbfe-4997-bc65-29edd68f4591"
   },
   "outputs": [
    {
     "data": {
      "text/plain": [
       "str"
      ]
     },
     "execution_count": 1,
     "metadata": {},
     "output_type": "execute_result"
    }
   ],
   "source": [
    "texto = \"Hola Mundo\"\n",
    "type(texto)"
   ]
  },
  {
   "cell_type": "code",
   "execution_count": null,
   "metadata": {
    "colab": {
     "base_uri": "https://localhost:8080/"
    },
    "id": "vjekoh-Ni7Tu",
    "outputId": "0a9a16f7-9d2f-43cd-c294-49a8ddb81ce8"
   },
   "outputs": [
    {
     "data": {
      "text/plain": [
       "str"
      ]
     },
     "execution_count": 3,
     "metadata": {},
     "output_type": "execute_result"
    }
   ],
   "source": [
    "booleano = True\n",
    "type(booleano)"
   ]
  },
  {
   "cell_type": "code",
   "execution_count": null,
   "metadata": {
    "colab": {
     "base_uri": "https://localhost:8080/"
    },
    "id": "ZXarV3YOjNC4",
    "outputId": "3d567626-09b8-4ef8-ae6c-aab33027b1aa"
   },
   "outputs": [
    {
     "data": {
      "text/plain": [
       "False"
      ]
     },
     "execution_count": 5,
     "metadata": {},
     "output_type": "execute_result"
    }
   ],
   "source": [
    "1 == 2"
   ]
  },
  {
   "cell_type": "code",
   "execution_count": null,
   "metadata": {
    "colab": {
     "base_uri": "https://localhost:8080/"
    },
    "id": "LjDFYbLRjmdX",
    "outputId": "5bf38da5-abc2-4459-d38c-5d8cf4a68436"
   },
   "outputs": [
    {
     "data": {
      "text/plain": [
       "True"
      ]
     },
     "execution_count": 6,
     "metadata": {},
     "output_type": "execute_result"
    }
   ],
   "source": [
    "2 != 3"
   ]
  },
  {
   "cell_type": "markdown",
   "metadata": {
    "id": "SqzyRUuZg1Bd"
   },
   "source": [
    "## Tipos de datos"
   ]
  },
  {
   "cell_type": "markdown",
   "metadata": {
    "id": "gowmLu_Ng5Mj"
   },
   "source": [
    "## Operadores"
   ]
  },
  {
   "cell_type": "markdown",
   "metadata": {
    "id": "rBF-iLjXgUq9"
   },
   "source": [
    "## Listas"
   ]
  },
  {
   "cell_type": "code",
   "execution_count": null,
   "metadata": {
    "id": "0lgEPlSDXDFH"
   },
   "outputs": [],
   "source": [
    "campaigns = [\n",
    "    \"aw_coppel_tnd_do_pmax_cat_hogar_y_muebles\",\n",
    "    \"aw_coppel_tnd_do_pmax_cat_todos_productos\",\n",
    "    \"aw_coppel_tnd_do_pmax_cat_juguetes\",\n",
    "    \"aw_coppel_tnd_do_pmax_cat_cocina_y_electrodomesticos\"\n",
    "]"
   ]
  },
  {
   "cell_type": "code",
   "execution_count": null,
   "metadata": {
    "colab": {
     "base_uri": "https://localhost:8080/"
    },
    "id": "ey-VGy59K9mV",
    "outputId": "52a9e206-5848-455a-9fd7-9627abc47c0b"
   },
   "outputs": [
    {
     "data": {
      "text/plain": [
       "list"
      ]
     },
     "execution_count": 2,
     "metadata": {},
     "output_type": "execute_result"
    }
   ],
   "source": [
    "type(campaigns)"
   ]
  }
 ],
 "metadata": {
  "colab": {
   "provenance": []
  },
  "kernelspec": {
   "display_name": "Python 3",
   "name": "python3"
  },
  "language_info": {
   "name": "python"
  }
 },
 "nbformat": 4,
 "nbformat_minor": 0
}
