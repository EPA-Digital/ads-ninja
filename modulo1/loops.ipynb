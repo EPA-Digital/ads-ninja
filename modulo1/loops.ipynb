{
  "nbformat": 4,
  "nbformat_minor": 0,
  "metadata": {
    "colab": {
      "provenance": []
    },
    "kernelspec": {
      "name": "python3",
      "display_name": "Python 3"
    },
    "language_info": {
      "name": "python"
    }
  },
  "cells": [
    {
      "cell_type": "markdown",
      "source": [
        "# Loop while"
      ],
      "metadata": {
        "id": "5TIiVEx0qO_n"
      }
    },
    {
      "cell_type": "code",
      "execution_count": null,
      "metadata": {
        "id": "BDdZcHcNn_zo",
        "colab": {
          "base_uri": "https://localhost:8080/"
        },
        "outputId": "aa6c4660-7a19-442c-a06d-add0a0de5fe6"
      },
      "outputs": [
        {
          "output_type": "stream",
          "name": "stdout",
          "text": [
            "12.5\n",
            "3.125\n",
            "0.78125\n"
          ]
        }
      ],
      "source": [
        "# Mientras el error sea mayor a 1 se ejecuta el loop\n",
        "error = 50.0\n",
        "\n",
        "while error > 1 :\n",
        "  error = error / 4 # importante que se actualice la variable error o de lo contrario correra para siempre\n",
        "  print(error)"
      ]
    },
    {
      "cell_type": "code",
      "source": [
        "intentos = 0\n",
        "\n",
        "while intentos < 5:\n",
        "  intentos = intentos + 1\n",
        "  # codigo para llamar a la API de google anlytics\n",
        "  print(intentos)\n"
      ],
      "metadata": {
        "colab": {
          "base_uri": "https://localhost:8080/"
        },
        "id": "odl_g7jwrAI_",
        "outputId": "2b4ac261-c43a-4d92-d308-8afe085225fe"
      },
      "execution_count": null,
      "outputs": [
        {
          "output_type": "stream",
          "name": "stdout",
          "text": [
            "1\n",
            "2\n",
            "3\n",
            "4\n",
            "5\n"
          ]
        }
      ]
    },
    {
      "cell_type": "markdown",
      "source": [
        "# Loop For"
      ],
      "metadata": {
        "id": "osmhT1dQth5N"
      }
    },
    {
      "cell_type": "code",
      "source": [
        "campaigns = [\n",
        "\"aw_coppel_tnd_do_pmax_cat_apuesta\",\n",
        "'aw_coppel_tnd_do_pmax_cat_celulares',\n",
        "'aw_coppel_tnd_do_pmax_cat_cocina_y_electrodomesticos',\n",
        "'aw_coppel_tnd_do_pmax_cat_colchones',\n",
        "'aw_coppel_tnd_do_pmax_cat_cuidado_personal_y_accesorios',\n",
        "'aw_coppel_tnd_do_pmax_cat_electronica',\n",
        "'aw_coppel_tnd_do_pmax_cat_hogar_y_muebles',\n",
        "'aw_coppel_tnd_do_pmax_cat_juguetes',\n",
        "'aw_coppel_tnd_do_pmax_cat_moda',\n",
        "'aw_coppel_tnd_do_pmax_cat_motos_y_automotriz',\n",
        "'aw_coppel_tnd_do_pmax_cat_todos_productos',\n",
        "'aw_coppel_tnd_do_pmax_cat_villanos',\n",
        "'aw_coppel_tnd_do_pmax_cat_zapatos',\n",
        "'aw_coppel_tnd_do_pmax_cat_zapatos',\n",
        "'aw_coppel_tnd_do_pmax_cat_linea_blanca'\n",
        "]"
      ],
      "metadata": {
        "id": "3mo9TMVXrUJc"
      },
      "execution_count": null,
      "outputs": []
    },
    {
      "cell_type": "code",
      "source": [
        "for campaign in campaigns: # Por cada campaña dentro de la lista de campañas\n",
        "  # Quiero que hagas x\n",
        "  #print(campaign)\n",
        "  print(campaign.replace('aw_coppel_tnd_do_pmax_cat_', ''))"
      ],
      "metadata": {
        "colab": {
          "base_uri": "https://localhost:8080/"
        },
        "id": "LR_qNLSyuDB-",
        "outputId": "23ef8f20-54a4-42a8-dfb5-294812ea2c1b"
      },
      "execution_count": null,
      "outputs": [
        {
          "output_type": "stream",
          "name": "stdout",
          "text": [
            "apuesta\n",
            "celulares\n",
            "cocina_y_electrodomesticos\n",
            "colchones\n",
            "cuidado_personal_y_accesorios\n",
            "electronica\n",
            "hogar_y_muebles\n",
            "juguetes\n",
            "moda\n",
            "motos_y_automotriz\n",
            "todos_productos\n",
            "villanos\n",
            "zapatos\n",
            "zapatos\n",
            "linea_blanca\n"
          ]
        }
      ]
    },
    {
      "cell_type": "code",
      "source": [
        "costos_usd = [100, 123221, 12, 12, 234]"
      ],
      "metadata": {
        "id": "ntIxuntZvUQR"
      },
      "execution_count": null,
      "outputs": []
    },
    {
      "cell_type": "code",
      "source": [
        "costos_mx = []\n",
        "\n",
        "for costo in costos_usd:\n",
        "  costos_mx.append(costo * 20)"
      ],
      "metadata": {
        "id": "DjJ3_P1Awn0a"
      },
      "execution_count": null,
      "outputs": []
    },
    {
      "cell_type": "code",
      "source": [
        "costos_mx"
      ],
      "metadata": {
        "id": "2tEHW4HVwwuF",
        "outputId": "228f3c94-67d7-4548-b509-38f01d278d43",
        "colab": {
          "base_uri": "https://localhost:8080/"
        }
      },
      "execution_count": null,
      "outputs": [
        {
          "output_type": "execute_result",
          "data": {
            "text/plain": [
              "[2000, 2464420, 240, 240, 4680]"
            ]
          },
          "metadata": {},
          "execution_count": 5
        }
      ]
    },
    {
      "cell_type": "markdown",
      "source": [
        "## Iterar un diccionario"
      ],
      "metadata": {
        "id": "I988g_Ya0tZp"
      }
    },
    {
      "cell_type": "code",
      "source": [
        "campaigns = {\n",
        "    'aw_coppel_tnd_do_pmax_cat_apuesta': 1000,\n",
        "    'aw_coppel_tnd_do_pmax_cat_celulares': 2000,\n",
        "    'aw_coppel_tnd_do_pmax_cat_cocina_y_electrodomesticos': 3000,\n",
        "    'aw_coppel_tnd_do_pmax_cat_colchones': 4000\n",
        "}"
      ],
      "metadata": {
        "id": "wyW8VgXowxcr"
      },
      "execution_count": null,
      "outputs": []
    },
    {
      "cell_type": "code",
      "source": [
        "type(campaigns)"
      ],
      "metadata": {
        "colab": {
          "base_uri": "https://localhost:8080/"
        },
        "id": "s9TSMSLF1cEg",
        "outputId": "0e18e999-6a50-41ff-bf27-7a8f87152dc1"
      },
      "execution_count": null,
      "outputs": [
        {
          "output_type": "execute_result",
          "data": {
            "text/plain": [
              "dict"
            ]
          },
          "metadata": {},
          "execution_count": 11
        }
      ]
    },
    {
      "cell_type": "code",
      "source": [
        "campaigns['aw_coppel_tnd_do_pmax_cat_apuesta']"
      ],
      "metadata": {
        "colab": {
          "base_uri": "https://localhost:8080/"
        },
        "id": "JmhgP-odJxrr",
        "outputId": "66b66607-cca5-4861-a8f9-a82d92c4d475"
      },
      "execution_count": null,
      "outputs": [
        {
          "output_type": "execute_result",
          "data": {
            "text/plain": [
              "1000"
            ]
          },
          "metadata": {},
          "execution_count": 24
        }
      ]
    },
    {
      "cell_type": "code",
      "source": [
        "for campaign, cost in campaigns.items():\n",
        "  print(campaign.replace('aw_coppel_tnd_do_pmax_cat_',''), cost*5)"
      ],
      "metadata": {
        "colab": {
          "base_uri": "https://localhost:8080/"
        },
        "id": "nEhhqRuY06bA",
        "outputId": "ee003b1c-70e5-480a-ad97-683c8a6e086c"
      },
      "execution_count": null,
      "outputs": [
        {
          "output_type": "stream",
          "name": "stdout",
          "text": [
            "apuesta 5000\n",
            "celulares 10000\n",
            "cocina_y_electrodomesticos 15000\n",
            "colchones 20000\n"
          ]
        }
      ]
    },
    {
      "cell_type": "code",
      "source": [
        "prueba = {\n",
        "    'a': {\n",
        "        \"b\": {\n",
        "            \"c\": 1\n",
        "        }\n",
        "    }\n",
        "    }"
      ],
      "metadata": {
        "id": "zcrojPXkNWZb"
      },
      "execution_count": null,
      "outputs": []
    },
    {
      "cell_type": "code",
      "source": [
        "prueba"
      ],
      "metadata": {
        "id": "Lt0iM_aPNga1",
        "outputId": "48eb1497-042d-4d36-d2f2-385e57e0da62",
        "colab": {
          "base_uri": "https://localhost:8080/"
        }
      },
      "execution_count": null,
      "outputs": [
        {
          "output_type": "execute_result",
          "data": {
            "text/plain": [
              "{'a': {'b': {'c': 1}}}"
            ]
          },
          "metadata": {},
          "execution_count": 27
        }
      ]
    },
    {
      "cell_type": "markdown",
      "source": [
        "# Iterar un dataframe"
      ],
      "metadata": {
        "id": "5YY6Ebvz2G7f"
      }
    },
    {
      "cell_type": "code",
      "source": [
        "import pandas as pd"
      ],
      "metadata": {
        "id": "XLJ66ID71D9v"
      },
      "execution_count": null,
      "outputs": []
    },
    {
      "cell_type": "code",
      "source": [
        "employees = pd.read_csv('https://gist.githubusercontent.com/kevin336/acbb2271e66c10a5b73aacf82ca82784/raw/e38afe62e088394d61ed30884dd50a6826eee0a8/employees.csv')"
      ],
      "metadata": {
        "id": "FDMRLSwp2SFA"
      },
      "execution_count": null,
      "outputs": []
    },
    {
      "cell_type": "code",
      "source": [
        "employees.head()"
      ],
      "metadata": {
        "colab": {
          "base_uri": "https://localhost:8080/",
          "height": 206
        },
        "id": "b-MabQYY2eoS",
        "outputId": "e0f6da59-138b-4920-dab4-4d0249d29995"
      },
      "execution_count": null,
      "outputs": [
        {
          "output_type": "execute_result",
          "data": {
            "text/plain": [
              "   EMPLOYEE_ID FIRST_NAME  LAST_NAME     EMAIL  PHONE_NUMBER  HIRE_DATE  \\\n",
              "0          198     Donald   OConnell  DOCONNEL  650.507.9833  21-JUN-07   \n",
              "1          199    Douglas      Grant    DGRANT  650.507.9844  13-JAN-08   \n",
              "2          200   Jennifer     Whalen   JWHALEN  515.123.4444  17-SEP-03   \n",
              "3          201    Michael  Hartstein  MHARTSTE  515.123.5555  17-FEB-04   \n",
              "4          202        Pat        Fay      PFAY  603.123.6666  17-AUG-05   \n",
              "\n",
              "     JOB_ID  SALARY COMMISSION_PCT MANAGER_ID  DEPARTMENT_ID  \n",
              "0  SH_CLERK    2600             -         124             50  \n",
              "1  SH_CLERK    2600             -         124             50  \n",
              "2   AD_ASST    4400             -         101             10  \n",
              "3    MK_MAN   13000             -         100             20  \n",
              "4    MK_REP    6000             -         201             20  "
            ],
            "text/html": [
              "\n",
              "  <div id=\"df-d460b4e5-e2c3-4f93-a0c7-49f811547ae4\" class=\"colab-df-container\">\n",
              "    <div>\n",
              "<style scoped>\n",
              "    .dataframe tbody tr th:only-of-type {\n",
              "        vertical-align: middle;\n",
              "    }\n",
              "\n",
              "    .dataframe tbody tr th {\n",
              "        vertical-align: top;\n",
              "    }\n",
              "\n",
              "    .dataframe thead th {\n",
              "        text-align: right;\n",
              "    }\n",
              "</style>\n",
              "<table border=\"1\" class=\"dataframe\">\n",
              "  <thead>\n",
              "    <tr style=\"text-align: right;\">\n",
              "      <th></th>\n",
              "      <th>EMPLOYEE_ID</th>\n",
              "      <th>FIRST_NAME</th>\n",
              "      <th>LAST_NAME</th>\n",
              "      <th>EMAIL</th>\n",
              "      <th>PHONE_NUMBER</th>\n",
              "      <th>HIRE_DATE</th>\n",
              "      <th>JOB_ID</th>\n",
              "      <th>SALARY</th>\n",
              "      <th>COMMISSION_PCT</th>\n",
              "      <th>MANAGER_ID</th>\n",
              "      <th>DEPARTMENT_ID</th>\n",
              "    </tr>\n",
              "  </thead>\n",
              "  <tbody>\n",
              "    <tr>\n",
              "      <th>0</th>\n",
              "      <td>198</td>\n",
              "      <td>Donald</td>\n",
              "      <td>OConnell</td>\n",
              "      <td>DOCONNEL</td>\n",
              "      <td>650.507.9833</td>\n",
              "      <td>21-JUN-07</td>\n",
              "      <td>SH_CLERK</td>\n",
              "      <td>2600</td>\n",
              "      <td>-</td>\n",
              "      <td>124</td>\n",
              "      <td>50</td>\n",
              "    </tr>\n",
              "    <tr>\n",
              "      <th>1</th>\n",
              "      <td>199</td>\n",
              "      <td>Douglas</td>\n",
              "      <td>Grant</td>\n",
              "      <td>DGRANT</td>\n",
              "      <td>650.507.9844</td>\n",
              "      <td>13-JAN-08</td>\n",
              "      <td>SH_CLERK</td>\n",
              "      <td>2600</td>\n",
              "      <td>-</td>\n",
              "      <td>124</td>\n",
              "      <td>50</td>\n",
              "    </tr>\n",
              "    <tr>\n",
              "      <th>2</th>\n",
              "      <td>200</td>\n",
              "      <td>Jennifer</td>\n",
              "      <td>Whalen</td>\n",
              "      <td>JWHALEN</td>\n",
              "      <td>515.123.4444</td>\n",
              "      <td>17-SEP-03</td>\n",
              "      <td>AD_ASST</td>\n",
              "      <td>4400</td>\n",
              "      <td>-</td>\n",
              "      <td>101</td>\n",
              "      <td>10</td>\n",
              "    </tr>\n",
              "    <tr>\n",
              "      <th>3</th>\n",
              "      <td>201</td>\n",
              "      <td>Michael</td>\n",
              "      <td>Hartstein</td>\n",
              "      <td>MHARTSTE</td>\n",
              "      <td>515.123.5555</td>\n",
              "      <td>17-FEB-04</td>\n",
              "      <td>MK_MAN</td>\n",
              "      <td>13000</td>\n",
              "      <td>-</td>\n",
              "      <td>100</td>\n",
              "      <td>20</td>\n",
              "    </tr>\n",
              "    <tr>\n",
              "      <th>4</th>\n",
              "      <td>202</td>\n",
              "      <td>Pat</td>\n",
              "      <td>Fay</td>\n",
              "      <td>PFAY</td>\n",
              "      <td>603.123.6666</td>\n",
              "      <td>17-AUG-05</td>\n",
              "      <td>MK_REP</td>\n",
              "      <td>6000</td>\n",
              "      <td>-</td>\n",
              "      <td>201</td>\n",
              "      <td>20</td>\n",
              "    </tr>\n",
              "  </tbody>\n",
              "</table>\n",
              "</div>\n",
              "    <div class=\"colab-df-buttons\">\n",
              "\n",
              "  <div class=\"colab-df-container\">\n",
              "    <button class=\"colab-df-convert\" onclick=\"convertToInteractive('df-d460b4e5-e2c3-4f93-a0c7-49f811547ae4')\"\n",
              "            title=\"Convert this dataframe to an interactive table.\"\n",
              "            style=\"display:none;\">\n",
              "\n",
              "  <svg xmlns=\"http://www.w3.org/2000/svg\" height=\"24px\" viewBox=\"0 -960 960 960\">\n",
              "    <path d=\"M120-120v-720h720v720H120Zm60-500h600v-160H180v160Zm220 220h160v-160H400v160Zm0 220h160v-160H400v160ZM180-400h160v-160H180v160Zm440 0h160v-160H620v160ZM180-180h160v-160H180v160Zm440 0h160v-160H620v160Z\"/>\n",
              "  </svg>\n",
              "    </button>\n",
              "\n",
              "  <style>\n",
              "    .colab-df-container {\n",
              "      display:flex;\n",
              "      gap: 12px;\n",
              "    }\n",
              "\n",
              "    .colab-df-convert {\n",
              "      background-color: #E8F0FE;\n",
              "      border: none;\n",
              "      border-radius: 50%;\n",
              "      cursor: pointer;\n",
              "      display: none;\n",
              "      fill: #1967D2;\n",
              "      height: 32px;\n",
              "      padding: 0 0 0 0;\n",
              "      width: 32px;\n",
              "    }\n",
              "\n",
              "    .colab-df-convert:hover {\n",
              "      background-color: #E2EBFA;\n",
              "      box-shadow: 0px 1px 2px rgba(60, 64, 67, 0.3), 0px 1px 3px 1px rgba(60, 64, 67, 0.15);\n",
              "      fill: #174EA6;\n",
              "    }\n",
              "\n",
              "    .colab-df-buttons div {\n",
              "      margin-bottom: 4px;\n",
              "    }\n",
              "\n",
              "    [theme=dark] .colab-df-convert {\n",
              "      background-color: #3B4455;\n",
              "      fill: #D2E3FC;\n",
              "    }\n",
              "\n",
              "    [theme=dark] .colab-df-convert:hover {\n",
              "      background-color: #434B5C;\n",
              "      box-shadow: 0px 1px 3px 1px rgba(0, 0, 0, 0.15);\n",
              "      filter: drop-shadow(0px 1px 2px rgba(0, 0, 0, 0.3));\n",
              "      fill: #FFFFFF;\n",
              "    }\n",
              "  </style>\n",
              "\n",
              "    <script>\n",
              "      const buttonEl =\n",
              "        document.querySelector('#df-d460b4e5-e2c3-4f93-a0c7-49f811547ae4 button.colab-df-convert');\n",
              "      buttonEl.style.display =\n",
              "        google.colab.kernel.accessAllowed ? 'block' : 'none';\n",
              "\n",
              "      async function convertToInteractive(key) {\n",
              "        const element = document.querySelector('#df-d460b4e5-e2c3-4f93-a0c7-49f811547ae4');\n",
              "        const dataTable =\n",
              "          await google.colab.kernel.invokeFunction('convertToInteractive',\n",
              "                                                    [key], {});\n",
              "        if (!dataTable) return;\n",
              "\n",
              "        const docLinkHtml = 'Like what you see? Visit the ' +\n",
              "          '<a target=\"_blank\" href=https://colab.research.google.com/notebooks/data_table.ipynb>data table notebook</a>'\n",
              "          + ' to learn more about interactive tables.';\n",
              "        element.innerHTML = '';\n",
              "        dataTable['output_type'] = 'display_data';\n",
              "        await google.colab.output.renderOutput(dataTable, element);\n",
              "        const docLink = document.createElement('div');\n",
              "        docLink.innerHTML = docLinkHtml;\n",
              "        element.appendChild(docLink);\n",
              "      }\n",
              "    </script>\n",
              "  </div>\n",
              "\n",
              "\n",
              "<div id=\"df-b33346b4-51ec-45c8-b985-62f871e26bc3\">\n",
              "  <button class=\"colab-df-quickchart\" onclick=\"quickchart('df-b33346b4-51ec-45c8-b985-62f871e26bc3')\"\n",
              "            title=\"Suggest charts\"\n",
              "            style=\"display:none;\">\n",
              "\n",
              "<svg xmlns=\"http://www.w3.org/2000/svg\" height=\"24px\"viewBox=\"0 0 24 24\"\n",
              "     width=\"24px\">\n",
              "    <g>\n",
              "        <path d=\"M19 3H5c-1.1 0-2 .9-2 2v14c0 1.1.9 2 2 2h14c1.1 0 2-.9 2-2V5c0-1.1-.9-2-2-2zM9 17H7v-7h2v7zm4 0h-2V7h2v10zm4 0h-2v-4h2v4z\"/>\n",
              "    </g>\n",
              "</svg>\n",
              "  </button>\n",
              "\n",
              "<style>\n",
              "  .colab-df-quickchart {\n",
              "      --bg-color: #E8F0FE;\n",
              "      --fill-color: #1967D2;\n",
              "      --hover-bg-color: #E2EBFA;\n",
              "      --hover-fill-color: #174EA6;\n",
              "      --disabled-fill-color: #AAA;\n",
              "      --disabled-bg-color: #DDD;\n",
              "  }\n",
              "\n",
              "  [theme=dark] .colab-df-quickchart {\n",
              "      --bg-color: #3B4455;\n",
              "      --fill-color: #D2E3FC;\n",
              "      --hover-bg-color: #434B5C;\n",
              "      --hover-fill-color: #FFFFFF;\n",
              "      --disabled-bg-color: #3B4455;\n",
              "      --disabled-fill-color: #666;\n",
              "  }\n",
              "\n",
              "  .colab-df-quickchart {\n",
              "    background-color: var(--bg-color);\n",
              "    border: none;\n",
              "    border-radius: 50%;\n",
              "    cursor: pointer;\n",
              "    display: none;\n",
              "    fill: var(--fill-color);\n",
              "    height: 32px;\n",
              "    padding: 0;\n",
              "    width: 32px;\n",
              "  }\n",
              "\n",
              "  .colab-df-quickchart:hover {\n",
              "    background-color: var(--hover-bg-color);\n",
              "    box-shadow: 0 1px 2px rgba(60, 64, 67, 0.3), 0 1px 3px 1px rgba(60, 64, 67, 0.15);\n",
              "    fill: var(--button-hover-fill-color);\n",
              "  }\n",
              "\n",
              "  .colab-df-quickchart-complete:disabled,\n",
              "  .colab-df-quickchart-complete:disabled:hover {\n",
              "    background-color: var(--disabled-bg-color);\n",
              "    fill: var(--disabled-fill-color);\n",
              "    box-shadow: none;\n",
              "  }\n",
              "\n",
              "  .colab-df-spinner {\n",
              "    border: 2px solid var(--fill-color);\n",
              "    border-color: transparent;\n",
              "    border-bottom-color: var(--fill-color);\n",
              "    animation:\n",
              "      spin 1s steps(1) infinite;\n",
              "  }\n",
              "\n",
              "  @keyframes spin {\n",
              "    0% {\n",
              "      border-color: transparent;\n",
              "      border-bottom-color: var(--fill-color);\n",
              "      border-left-color: var(--fill-color);\n",
              "    }\n",
              "    20% {\n",
              "      border-color: transparent;\n",
              "      border-left-color: var(--fill-color);\n",
              "      border-top-color: var(--fill-color);\n",
              "    }\n",
              "    30% {\n",
              "      border-color: transparent;\n",
              "      border-left-color: var(--fill-color);\n",
              "      border-top-color: var(--fill-color);\n",
              "      border-right-color: var(--fill-color);\n",
              "    }\n",
              "    40% {\n",
              "      border-color: transparent;\n",
              "      border-right-color: var(--fill-color);\n",
              "      border-top-color: var(--fill-color);\n",
              "    }\n",
              "    60% {\n",
              "      border-color: transparent;\n",
              "      border-right-color: var(--fill-color);\n",
              "    }\n",
              "    80% {\n",
              "      border-color: transparent;\n",
              "      border-right-color: var(--fill-color);\n",
              "      border-bottom-color: var(--fill-color);\n",
              "    }\n",
              "    90% {\n",
              "      border-color: transparent;\n",
              "      border-bottom-color: var(--fill-color);\n",
              "    }\n",
              "  }\n",
              "</style>\n",
              "\n",
              "  <script>\n",
              "    async function quickchart(key) {\n",
              "      const quickchartButtonEl =\n",
              "        document.querySelector('#' + key + ' button');\n",
              "      quickchartButtonEl.disabled = true;  // To prevent multiple clicks.\n",
              "      quickchartButtonEl.classList.add('colab-df-spinner');\n",
              "      try {\n",
              "        const charts = await google.colab.kernel.invokeFunction(\n",
              "            'suggestCharts', [key], {});\n",
              "      } catch (error) {\n",
              "        console.error('Error during call to suggestCharts:', error);\n",
              "      }\n",
              "      quickchartButtonEl.classList.remove('colab-df-spinner');\n",
              "      quickchartButtonEl.classList.add('colab-df-quickchart-complete');\n",
              "    }\n",
              "    (() => {\n",
              "      let quickchartButtonEl =\n",
              "        document.querySelector('#df-b33346b4-51ec-45c8-b985-62f871e26bc3 button');\n",
              "      quickchartButtonEl.style.display =\n",
              "        google.colab.kernel.accessAllowed ? 'block' : 'none';\n",
              "    })();\n",
              "  </script>\n",
              "</div>\n",
              "\n",
              "    </div>\n",
              "  </div>\n"
            ],
            "application/vnd.google.colaboratory.intrinsic+json": {
              "type": "dataframe",
              "variable_name": "employees",
              "summary": "{\n  \"name\": \"employees\",\n  \"rows\": 50,\n  \"fields\": [\n    {\n      \"column\": \"EMPLOYEE_ID\",\n      \"properties\": {\n        \"dtype\": \"number\",\n        \"std\": 33,\n        \"min\": 100,\n        \"max\": 206,\n        \"num_unique_values\": 50,\n        \"samples\": [\n          104,\n          130,\n          121\n        ],\n        \"semantic_type\": \"\",\n        \"description\": \"\"\n      }\n    },\n    {\n      \"column\": \"FIRST_NAME\",\n      \"properties\": {\n        \"dtype\": \"string\",\n        \"num_unique_values\": 45,\n        \"samples\": [\n          \"Jason\",\n          \"Sigal\",\n          \"Guy\"\n        ],\n        \"semantic_type\": \"\",\n        \"description\": \"\"\n      }\n    },\n    {\n      \"column\": \"LAST_NAME\",\n      \"properties\": {\n        \"dtype\": \"string\",\n        \"num_unique_values\": 50,\n        \"samples\": [\n          \"Ernst\",\n          \"Atkinson\",\n          \"Fripp\"\n        ],\n        \"semantic_type\": \"\",\n        \"description\": \"\"\n      }\n    },\n    {\n      \"column\": \"EMAIL\",\n      \"properties\": {\n        \"dtype\": \"string\",\n        \"num_unique_values\": 50,\n        \"samples\": [\n          \"BERNST\",\n          \"MATKINSO\",\n          \"AFRIPP\"\n        ],\n        \"semantic_type\": \"\",\n        \"description\": \"\"\n      }\n    },\n    {\n      \"column\": \"PHONE_NUMBER\",\n      \"properties\": {\n        \"dtype\": \"string\",\n        \"num_unique_values\": 50,\n        \"samples\": [\n          \"590.423.4568\",\n          \"650.124.6234\",\n          \"650.123.2234\"\n        ],\n        \"semantic_type\": \"\",\n        \"description\": \"\"\n      }\n    },\n    {\n      \"column\": \"HIRE_DATE\",\n      \"properties\": {\n        \"dtype\": \"object\",\n        \"num_unique_values\": 47,\n        \"samples\": [\n          \"10-APR-05\",\n          \"14-JUN-04\",\n          \"18-JUL-04\"\n        ],\n        \"semantic_type\": \"\",\n        \"description\": \"\"\n      }\n    },\n    {\n      \"column\": \"JOB_ID\",\n      \"properties\": {\n        \"dtype\": \"category\",\n        \"num_unique_values\": 17,\n        \"samples\": [\n          \"SH_CLERK\",\n          \"AD_ASST\",\n          \"PR_REP\"\n        ],\n        \"semantic_type\": \"\",\n        \"description\": \"\"\n      }\n    },\n    {\n      \"column\": \"SALARY\",\n      \"properties\": {\n        \"dtype\": \"number\",\n        \"std\": 4586,\n        \"min\": 2100,\n        \"max\": 24000,\n        \"num_unique_values\": 32,\n        \"samples\": [\n          3300,\n          7800,\n          5800\n        ],\n        \"semantic_type\": \"\",\n        \"description\": \"\"\n      }\n    },\n    {\n      \"column\": \"COMMISSION_PCT\",\n      \"properties\": {\n        \"dtype\": \"category\",\n        \"num_unique_values\": 1,\n        \"samples\": [\n          \" - \"\n        ],\n        \"semantic_type\": \"\",\n        \"description\": \"\"\n      }\n    },\n    {\n      \"column\": \"MANAGER_ID\",\n      \"properties\": {\n        \"dtype\": \"category\",\n        \"num_unique_values\": 14,\n        \"samples\": [\n          \"114\"\n        ],\n        \"semantic_type\": \"\",\n        \"description\": \"\"\n      }\n    },\n    {\n      \"column\": \"DEPARTMENT_ID\",\n      \"properties\": {\n        \"dtype\": \"number\",\n        \"std\": 25,\n        \"min\": 10,\n        \"max\": 110,\n        \"num_unique_values\": 10,\n        \"samples\": [\n          100\n        ],\n        \"semantic_type\": \"\",\n        \"description\": \"\"\n      }\n    }\n  ]\n}"
            }
          },
          "metadata": {},
          "execution_count": 14
        }
      ]
    },
    {
      "cell_type": "code",
      "source": [
        "# iterate over SALARY to convert to MXN from USD\n",
        "for index, row in employees.iterrows():\n",
        "  employees.loc[index, 'SALARY'] = row['SALARY'] * 20"
      ],
      "metadata": {
        "id": "OoL5EVzZ2zWT"
      },
      "execution_count": null,
      "outputs": []
    },
    {
      "cell_type": "code",
      "source": [
        "# Empleando funciones lambda\n",
        "employees['SALARY'] = employees['SALARY'].apply(lambda x: x * 20)\n",
        "employees['SALARY'].head()"
      ],
      "metadata": {
        "colab": {
          "base_uri": "https://localhost:8080/",
          "height": 241
        },
        "id": "7EvoW9VQ4Cau",
        "outputId": "facefef8-c22b-4d61-becf-4cbea8902f83"
      },
      "execution_count": null,
      "outputs": [
        {
          "output_type": "execute_result",
          "data": {
            "text/plain": [
              "0     52000\n",
              "1     52000\n",
              "2     88000\n",
              "3    260000\n",
              "4    120000\n",
              "Name: SALARY, dtype: int64"
            ],
            "text/html": [
              "<div>\n",
              "<style scoped>\n",
              "    .dataframe tbody tr th:only-of-type {\n",
              "        vertical-align: middle;\n",
              "    }\n",
              "\n",
              "    .dataframe tbody tr th {\n",
              "        vertical-align: top;\n",
              "    }\n",
              "\n",
              "    .dataframe thead th {\n",
              "        text-align: right;\n",
              "    }\n",
              "</style>\n",
              "<table border=\"1\" class=\"dataframe\">\n",
              "  <thead>\n",
              "    <tr style=\"text-align: right;\">\n",
              "      <th></th>\n",
              "      <th>SALARY</th>\n",
              "    </tr>\n",
              "  </thead>\n",
              "  <tbody>\n",
              "    <tr>\n",
              "      <th>0</th>\n",
              "      <td>52000</td>\n",
              "    </tr>\n",
              "    <tr>\n",
              "      <th>1</th>\n",
              "      <td>52000</td>\n",
              "    </tr>\n",
              "    <tr>\n",
              "      <th>2</th>\n",
              "      <td>88000</td>\n",
              "    </tr>\n",
              "    <tr>\n",
              "      <th>3</th>\n",
              "      <td>260000</td>\n",
              "    </tr>\n",
              "    <tr>\n",
              "      <th>4</th>\n",
              "      <td>120000</td>\n",
              "    </tr>\n",
              "  </tbody>\n",
              "</table>\n",
              "</div><br><label><b>dtype:</b> int64</label>"
            ]
          },
          "metadata": {},
          "execution_count": 24
        }
      ]
    },
    {
      "cell_type": "code",
      "source": [
        "def convert_salary(salary):\n",
        "  return salary * 20"
      ],
      "metadata": {
        "id": "wugANhaz4jBF"
      },
      "execution_count": null,
      "outputs": []
    },
    {
      "cell_type": "code",
      "source": [
        "# Efficently iterate over SALARY to convert to MXN from USD\n",
        "employees['SALARY'] = employees['SALARY'].apply(convert_salary)\n",
        "employees['SALARY'].head()"
      ],
      "metadata": {
        "colab": {
          "base_uri": "https://localhost:8080/",
          "height": 241
        },
        "id": "h2hQeYrp3OD9",
        "outputId": "cf70200a-6e6d-471e-ac42-511d04a93aea"
      },
      "execution_count": null,
      "outputs": [
        {
          "output_type": "execute_result",
          "data": {
            "text/plain": [
              "0     52000\n",
              "1     52000\n",
              "2     88000\n",
              "3    260000\n",
              "4    120000\n",
              "Name: SALARY, dtype: int64"
            ],
            "text/html": [
              "<div>\n",
              "<style scoped>\n",
              "    .dataframe tbody tr th:only-of-type {\n",
              "        vertical-align: middle;\n",
              "    }\n",
              "\n",
              "    .dataframe tbody tr th {\n",
              "        vertical-align: top;\n",
              "    }\n",
              "\n",
              "    .dataframe thead th {\n",
              "        text-align: right;\n",
              "    }\n",
              "</style>\n",
              "<table border=\"1\" class=\"dataframe\">\n",
              "  <thead>\n",
              "    <tr style=\"text-align: right;\">\n",
              "      <th></th>\n",
              "      <th>SALARY</th>\n",
              "    </tr>\n",
              "  </thead>\n",
              "  <tbody>\n",
              "    <tr>\n",
              "      <th>0</th>\n",
              "      <td>52000</td>\n",
              "    </tr>\n",
              "    <tr>\n",
              "      <th>1</th>\n",
              "      <td>52000</td>\n",
              "    </tr>\n",
              "    <tr>\n",
              "      <th>2</th>\n",
              "      <td>88000</td>\n",
              "    </tr>\n",
              "    <tr>\n",
              "      <th>3</th>\n",
              "      <td>260000</td>\n",
              "    </tr>\n",
              "    <tr>\n",
              "      <th>4</th>\n",
              "      <td>120000</td>\n",
              "    </tr>\n",
              "  </tbody>\n",
              "</table>\n",
              "</div><br><label><b>dtype:</b> int64</label>"
            ]
          },
          "metadata": {},
          "execution_count": 26
        }
      ]
    },
    {
      "cell_type": "code",
      "source": [
        "import polars as pl"
      ],
      "metadata": {
        "id": "2gyA19AX3y1D"
      },
      "execution_count": null,
      "outputs": []
    },
    {
      "cell_type": "code",
      "source": [
        "employees_pl = pl.from_pandas(employees)"
      ],
      "metadata": {
        "id": "-xufmJIJ44Sv"
      },
      "execution_count": null,
      "outputs": []
    },
    {
      "cell_type": "code",
      "source": [
        "# calculate salary in MXN\n",
        "employees_pl = employees_pl.with_columns(\n",
        "    (pl.col('SALARY') * 20).alias('SALARY_MXN')\n",
        ")"
      ],
      "metadata": {
        "id": "aBSJBpsT5EDl"
      },
      "execution_count": null,
      "outputs": []
    },
    {
      "cell_type": "code",
      "source": [
        "employees_pl.head()"
      ],
      "metadata": {
        "colab": {
          "base_uri": "https://localhost:8080/",
          "height": 255
        },
        "id": "XkbwWDXB5MG7",
        "outputId": "cc9345f0-b349-46eb-8f8e-1153e100b172"
      },
      "execution_count": null,
      "outputs": [
        {
          "output_type": "execute_result",
          "data": {
            "text/plain": [
              "shape: (5, 12)\n",
              "┌───────────┬───────────┬───────────┬──────────┬───┬───────────┬───────────┬───────────┬───────────┐\n",
              "│ EMPLOYEE_ ┆ FIRST_NAM ┆ LAST_NAME ┆ EMAIL    ┆ … ┆ COMMISSIO ┆ MANAGER_I ┆ DEPARTMEN ┆ SALARY_MX │\n",
              "│ ID        ┆ E         ┆ ---       ┆ ---      ┆   ┆ N_PCT     ┆ D         ┆ T_ID      ┆ N         │\n",
              "│ ---       ┆ ---       ┆ str       ┆ str      ┆   ┆ ---       ┆ ---       ┆ ---       ┆ ---       │\n",
              "│ i64       ┆ str       ┆           ┆          ┆   ┆ str       ┆ str       ┆ i64       ┆ i64       │\n",
              "╞═══════════╪═══════════╪═══════════╪══════════╪═══╪═══════════╪═══════════╪═══════════╪═══════════╡\n",
              "│ 198       ┆ Donald    ┆ OConnell  ┆ DOCONNEL ┆ … ┆  -        ┆ 124       ┆ 50        ┆ 1040000   │\n",
              "│ 199       ┆ Douglas   ┆ Grant     ┆ DGRANT   ┆ … ┆  -        ┆ 124       ┆ 50        ┆ 1040000   │\n",
              "│ 200       ┆ Jennifer  ┆ Whalen    ┆ JWHALEN  ┆ … ┆  -        ┆ 101       ┆ 10        ┆ 1760000   │\n",
              "│ 201       ┆ Michael   ┆ Hartstein ┆ MHARTSTE ┆ … ┆  -        ┆ 100       ┆ 20        ┆ 5200000   │\n",
              "│ 202       ┆ Pat       ┆ Fay       ┆ PFAY     ┆ … ┆  -        ┆ 201       ┆ 20        ┆ 2400000   │\n",
              "└───────────┴───────────┴───────────┴──────────┴───┴───────────┴───────────┴───────────┴───────────┘"
            ],
            "text/html": [
              "<div><style>\n",
              ".dataframe > thead > tr,\n",
              ".dataframe > tbody > tr {\n",
              "  text-align: right;\n",
              "  white-space: pre-wrap;\n",
              "}\n",
              "</style>\n",
              "<small>shape: (5, 12)</small><table border=\"1\" class=\"dataframe\"><thead><tr><th>EMPLOYEE_ID</th><th>FIRST_NAME</th><th>LAST_NAME</th><th>EMAIL</th><th>PHONE_NUMBER</th><th>HIRE_DATE</th><th>JOB_ID</th><th>SALARY</th><th>COMMISSION_PCT</th><th>MANAGER_ID</th><th>DEPARTMENT_ID</th><th>SALARY_MXN</th></tr><tr><td>i64</td><td>str</td><td>str</td><td>str</td><td>str</td><td>str</td><td>str</td><td>i64</td><td>str</td><td>str</td><td>i64</td><td>i64</td></tr></thead><tbody><tr><td>198</td><td>&quot;Donald&quot;</td><td>&quot;OConnell&quot;</td><td>&quot;DOCONNEL&quot;</td><td>&quot;650.507.9833&quot;</td><td>&quot;21-JUN-07&quot;</td><td>&quot;SH_CLERK&quot;</td><td>52000</td><td>&quot; - &quot;</td><td>&quot;124&quot;</td><td>50</td><td>1040000</td></tr><tr><td>199</td><td>&quot;Douglas&quot;</td><td>&quot;Grant&quot;</td><td>&quot;DGRANT&quot;</td><td>&quot;650.507.9844&quot;</td><td>&quot;13-JAN-08&quot;</td><td>&quot;SH_CLERK&quot;</td><td>52000</td><td>&quot; - &quot;</td><td>&quot;124&quot;</td><td>50</td><td>1040000</td></tr><tr><td>200</td><td>&quot;Jennifer&quot;</td><td>&quot;Whalen&quot;</td><td>&quot;JWHALEN&quot;</td><td>&quot;515.123.4444&quot;</td><td>&quot;17-SEP-03&quot;</td><td>&quot;AD_ASST&quot;</td><td>88000</td><td>&quot; - &quot;</td><td>&quot;101&quot;</td><td>10</td><td>1760000</td></tr><tr><td>201</td><td>&quot;Michael&quot;</td><td>&quot;Hartstein&quot;</td><td>&quot;MHARTSTE&quot;</td><td>&quot;515.123.5555&quot;</td><td>&quot;17-FEB-04&quot;</td><td>&quot;MK_MAN&quot;</td><td>260000</td><td>&quot; - &quot;</td><td>&quot;100&quot;</td><td>20</td><td>5200000</td></tr><tr><td>202</td><td>&quot;Pat&quot;</td><td>&quot;Fay&quot;</td><td>&quot;PFAY&quot;</td><td>&quot;603.123.6666&quot;</td><td>&quot;17-AUG-05&quot;</td><td>&quot;MK_REP&quot;</td><td>120000</td><td>&quot; - &quot;</td><td>&quot;201&quot;</td><td>20</td><td>2400000</td></tr></tbody></table></div>"
            ]
          },
          "metadata": {},
          "execution_count": 31
        }
      ]
    },
    {
      "cell_type": "code",
      "source": [],
      "metadata": {
        "id": "kOASwuiL5NbK"
      },
      "execution_count": null,
      "outputs": []
    }
  ]
}