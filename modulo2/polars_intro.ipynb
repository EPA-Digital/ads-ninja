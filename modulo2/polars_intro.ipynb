{
  "cells": [
    {
      "cell_type": "markdown",
      "metadata": {
        "id": "yQf5K6eAtBDi"
      },
      "source": [
        "# Práctica de Polars para Marketing Digital 📊"
      ]
    },
    {
      "cell_type": "code",
      "execution_count": null,
      "metadata": {
        "id": "ldIWFpgTtBDj"
      },
      "outputs": [],
      "source": [
        "import polars as pl\n",
        "import numpy as np"
      ]
    },
    {
      "cell_type": "markdown",
      "metadata": {
        "id": "6bx0Txv9tBDk"
      },
      "source": [
        "## 1. Creación de DataFrames en Polars\n",
        "\n",
        "Polars nos permite crear DataFrames de varias maneras:\n",
        "- A partir de diccionarios\n",
        "- A partir de listas\n",
        "- Leyendo archivos (CSV, Excel, etc.)"
      ]
    },
    {
      "cell_type": "code",
      "execution_count": null,
      "metadata": {
        "id": "5BiSBiuFtBDk"
      },
      "outputs": [],
      "source": [
        "# Ejemplo: Datos de campañas publicitarias\n",
        "data_campañas = {\n",
        "    'campaña': ['Search_Brand', 'Display_Remarketing', 'Social_Awareness'],\n",
        "    'impresiones': [15000, 25000, 35000],\n",
        "    'clics': [750, 500, 800],\n",
        "    'conversiones': [50, 30, 45],\n",
        "    'costo': [1500.0, 750.0, 1200.0]\n",
        "}"
      ]
    },
    {
      "cell_type": "code",
      "execution_count": null,
      "metadata": {
        "colab": {
          "base_uri": "https://localhost:8080/",
          "height": 192
        },
        "id": "7yfTmiN_tBDl",
        "outputId": "ab03f019-5ac9-4cf4-fa1b-eaa82276141c"
      },
      "outputs": [
        {
          "output_type": "execute_result",
          "data": {
            "text/plain": [
              "shape: (3, 5)\n",
              "┌─────────────────────┬─────────────┬───────┬──────────────┬────────┐\n",
              "│ campaña             ┆ impresiones ┆ clics ┆ conversiones ┆ costo  │\n",
              "│ ---                 ┆ ---         ┆ ---   ┆ ---          ┆ ---    │\n",
              "│ str                 ┆ i64         ┆ i64   ┆ i64          ┆ f64    │\n",
              "╞═════════════════════╪═════════════╪═══════╪══════════════╪════════╡\n",
              "│ Search_Brand        ┆ 15000       ┆ 750   ┆ 50           ┆ 1500.0 │\n",
              "│ Display_Remarketing ┆ 25000       ┆ 500   ┆ 30           ┆ 750.0  │\n",
              "│ Social_Awareness    ┆ 35000       ┆ 800   ┆ 45           ┆ 1200.0 │\n",
              "└─────────────────────┴─────────────┴───────┴──────────────┴────────┘"
            ],
            "text/html": [
              "<div><style>\n",
              ".dataframe > thead > tr,\n",
              ".dataframe > tbody > tr {\n",
              "  text-align: right;\n",
              "  white-space: pre-wrap;\n",
              "}\n",
              "</style>\n",
              "<small>shape: (3, 5)</small><table border=\"1\" class=\"dataframe\"><thead><tr><th>campaña</th><th>impresiones</th><th>clics</th><th>conversiones</th><th>costo</th></tr><tr><td>str</td><td>i64</td><td>i64</td><td>i64</td><td>f64</td></tr></thead><tbody><tr><td>&quot;Search_Brand&quot;</td><td>15000</td><td>750</td><td>50</td><td>1500.0</td></tr><tr><td>&quot;Display_Remarketing&quot;</td><td>25000</td><td>500</td><td>30</td><td>750.0</td></tr><tr><td>&quot;Social_Awareness&quot;</td><td>35000</td><td>800</td><td>45</td><td>1200.0</td></tr></tbody></table></div>"
            ]
          },
          "metadata": {},
          "execution_count": 3
        }
      ],
      "source": [
        "df = pl.DataFrame(data_campañas)\n",
        "df"
      ]
    },
    {
      "cell_type": "code",
      "execution_count": null,
      "metadata": {
        "id": "cSITg3qctBDl"
      },
      "outputs": [],
      "source": [
        "# 🎯 Ejercicio 1: Creación de DataFrame\n",
        "\"\"\"\n",
        "Crea un DataFrame con los siguientes datos de campañas de email marketing:\n",
        "- campaña: ['Newsletter_Ene', 'Promo_Feb', 'Evento_Mar']\n",
        "- enviados: [5000, 7500, 6000]\n",
        "- aperturas: [2000, 3500, 2400]\n",
        "- clics: [150, 280, 190]"
      ]
    },
    {
      "cell_type": "markdown",
      "metadata": {
        "id": "zU8Y2uQAtBDl"
      },
      "source": [
        "### 🎯 Ejercicio 1: Creación de DataFrame\n",
        "Crea un DataFrame con los siguientes datos de campañas de email marketing:\n",
        "- campaña: ['Newsletter_Ene', 'Promo_Feb', 'Evento_Mar']\n",
        "- enviados: [5000, 7500, 6000]\n",
        "- aperturas: [2000, 3500, 2400]\n",
        "- clics: [150, 280, 190]\n"
      ]
    },
    {
      "cell_type": "code",
      "execution_count": null,
      "metadata": {
        "id": "H9P-wWvLtBDm"
      },
      "outputs": [],
      "source": [
        "# Tu código aquí\n",
        "# df_email = pl.DataFrame(...)"
      ]
    },
    {
      "cell_type": "markdown",
      "metadata": {
        "id": "lgjJhcWUtBDm"
      },
      "source": [
        "## 2. Inspección de Datos"
      ]
    },
    {
      "cell_type": "markdown",
      "metadata": {
        "id": "a7QFcjtxtBDm"
      },
      "source": [
        "Polars ofrece varias funciones para explorar nuestros datos:\n",
        "- shape: dimensiones del DataFrame\n",
        "- describe(): estadísticas descriptivas\n",
        "- dtypes: tipos de datos\n",
        "- head()/tail(): primeras/últimas filas"
      ]
    },
    {
      "cell_type": "code",
      "execution_count": null,
      "metadata": {
        "id": "UadpwscVtBDm",
        "outputId": "c9dfd350-f45d-4033-b10e-154358546641"
      },
      "outputs": [
        {
          "name": "stdout",
          "output_type": "stream",
          "text": [
            "\n",
            "Inspección básica:\n",
            "Dimensiones: (3, 5)\n",
            "\n",
            "Tipos de datos:\n",
            "[String, Int64, Int64, Int64, Float64]\n",
            "\n",
            "Estadísticas descriptivas:\n",
            "shape: (9, 6)\n",
            "┌────────────┬─────────────────────┬─────────────┬────────────┬──────────────┬────────────┐\n",
            "│ statistic  ┆ campaña             ┆ impresiones ┆ clics      ┆ conversiones ┆ costo      │\n",
            "│ ---        ┆ ---                 ┆ ---         ┆ ---        ┆ ---          ┆ ---        │\n",
            "│ str        ┆ str                 ┆ f64         ┆ f64        ┆ f64          ┆ f64        │\n",
            "╞════════════╪═════════════════════╪═════════════╪════════════╪══════════════╪════════════╡\n",
            "│ count      ┆ 3                   ┆ 3.0         ┆ 3.0        ┆ 3.0          ┆ 3.0        │\n",
            "│ null_count ┆ 0                   ┆ 0.0         ┆ 0.0        ┆ 0.0          ┆ 0.0        │\n",
            "│ mean       ┆ null                ┆ 25000.0     ┆ 683.333333 ┆ 41.666667    ┆ 1150.0     │\n",
            "│ std        ┆ null                ┆ 10000.0     ┆ 160.727513 ┆ 10.40833     ┆ 377.491722 │\n",
            "│ min        ┆ Display_Remarketing ┆ 15000.0     ┆ 500.0      ┆ 30.0         ┆ 750.0      │\n",
            "│ 25%        ┆ null                ┆ 25000.0     ┆ 750.0      ┆ 45.0         ┆ 1200.0     │\n",
            "│ 50%        ┆ null                ┆ 25000.0     ┆ 750.0      ┆ 45.0         ┆ 1200.0     │\n",
            "│ 75%        ┆ null                ┆ 35000.0     ┆ 800.0      ┆ 50.0         ┆ 1500.0     │\n",
            "│ max        ┆ Social_Awareness    ┆ 35000.0     ┆ 800.0      ┆ 50.0         ┆ 1500.0     │\n",
            "└────────────┴─────────────────────┴─────────────┴────────────┴──────────────┴────────────┘\n"
          ]
        }
      ],
      "source": [
        "print(\"\\nInspección básica:\")\n",
        "print(\"Dimensiones:\", df.shape)\n",
        "print(\"\\nTipos de datos:\")\n",
        "print(df.dtypes)\n",
        "print(\"\\nEstadísticas descriptivas:\")\n",
        "print(df.describe())"
      ]
    },
    {
      "cell_type": "markdown",
      "metadata": {
        "id": "Ysuk3dVBtBDm"
      },
      "source": [
        "### 🎯 Ejercicio 2: Inspección\n",
        "Con el DataFrame de email marketing que creaste:\n",
        "1. Muestra sus dimensiones\n",
        "2. Obtén las estadísticas descriptivas\n",
        "3. Muestra los tipos de datos de cada columna"
      ]
    },
    {
      "cell_type": "code",
      "execution_count": null,
      "metadata": {
        "id": "gXIHQjBAtBDm"
      },
      "outputs": [],
      "source": [
        "# Tu código aquí"
      ]
    },
    {
      "cell_type": "markdown",
      "metadata": {
        "id": "lObyYasUtBDm"
      },
      "source": [
        "##  3. Selección y Filtrado\n",
        "En Polars podemos:\n",
        "- Seleccionar columnas: df.select([...])\n",
        "- Filtrar filas: df.filter(...)\n",
        "- Combinar operaciones con expresiones"
      ]
    },
    {
      "cell_type": "code",
      "execution_count": null,
      "metadata": {
        "id": "ivvbxUOItBDm",
        "outputId": "638d01f9-8eb0-45ca-c78a-54ea12544778"
      },
      "outputs": [
        {
          "name": "stdout",
          "output_type": "stream",
          "text": [
            "\n",
            "Solo métricas principales:\n",
            "shape: (3, 3)\n",
            "┌─────────────────────┬───────┬──────────────┐\n",
            "│ campaña             ┆ clics ┆ conversiones │\n",
            "│ ---                 ┆ ---   ┆ ---          │\n",
            "│ str                 ┆ i64   ┆ i64          │\n",
            "╞═════════════════════╪═══════╪══════════════╡\n",
            "│ Search_Brand        ┆ 750   ┆ 50           │\n",
            "│ Display_Remarketing ┆ 500   ┆ 30           │\n",
            "│ Social_Awareness    ┆ 800   ┆ 45           │\n",
            "└─────────────────────┴───────┴──────────────┘\n",
            "\n",
            "Campañas con más de 700 clics:\n",
            "shape: (2, 5)\n",
            "┌──────────────────┬─────────────┬───────┬──────────────┬────────┐\n",
            "│ campaña          ┆ impresiones ┆ clics ┆ conversiones ┆ costo  │\n",
            "│ ---              ┆ ---         ┆ ---   ┆ ---          ┆ ---    │\n",
            "│ str              ┆ i64         ┆ i64   ┆ i64          ┆ f64    │\n",
            "╞══════════════════╪═════════════╪═══════╪══════════════╪════════╡\n",
            "│ Search_Brand     ┆ 15000       ┆ 750   ┆ 50           ┆ 1500.0 │\n",
            "│ Social_Awareness ┆ 35000       ┆ 800   ┆ 45           ┆ 1200.0 │\n",
            "└──────────────────┴─────────────┴───────┴──────────────┴────────┘\n"
          ]
        }
      ],
      "source": [
        "print(\"\\nSolo métricas principales:\")\n",
        "print(df.select(['campaña', 'clics', 'conversiones']))\n",
        "\n",
        "# Filtrado de filas\n",
        "print(\"\\nCampañas con más de 700 clics:\")\n",
        "print(df.filter(pl.col('clics') > 700))"
      ]
    },
    {
      "cell_type": "markdown",
      "metadata": {
        "id": "KHn7xm2jtBDm"
      },
      "source": [
        "### 🎯 Ejercicio 3: Selección y Filtrado\n",
        "Con el DataFrame de campañas:\n",
        "1. Selecciona solo las columnas 'campaña' y 'costo'\n",
        "2. Filtra las campañas que tienen más de 40 conversiones\n",
        "3. Combina ambas operaciones en una sola expresión"
      ]
    },
    {
      "cell_type": "code",
      "execution_count": null,
      "metadata": {
        "id": "KHnDbuwjtBDm"
      },
      "outputs": [],
      "source": [
        "# Tu código aquí"
      ]
    },
    {
      "cell_type": "markdown",
      "metadata": {
        "id": "F3uSNlD1tBDm"
      },
      "source": [
        "## 4. Operaciones con Columnas\n",
        "\n",
        "Podemos:\n",
        "- Crear nuevas columnas\n",
        "- Realizar cálculos\n",
        "- Aplicar transformaciones"
      ]
    },
    {
      "cell_type": "code",
      "execution_count": null,
      "metadata": {
        "id": "lYnsRw0ktBDn",
        "outputId": "1ecbd6a1-7727-49fe-d082-f1b07ea4a10d"
      },
      "outputs": [
        {
          "name": "stdout",
          "output_type": "stream",
          "text": [
            "\n",
            "DataFrame con métricas calculadas:\n",
            "shape: (3, 8)\n",
            "┌─────────────────────┬─────────────┬───────┬──────────────┬────────┬──────────┬─────┬───────────┐\n",
            "│ campaña             ┆ impresiones ┆ clics ┆ conversiones ┆ costo  ┆ ctr      ┆ cpc ┆ conv_rate │\n",
            "│ ---                 ┆ ---         ┆ ---   ┆ ---          ┆ ---    ┆ ---      ┆ --- ┆ ---       │\n",
            "│ str                 ┆ i64         ┆ i64   ┆ i64          ┆ f64    ┆ f64      ┆ f64 ┆ f64       │\n",
            "╞═════════════════════╪═════════════╪═══════╪══════════════╪════════╪══════════╪═════╪═══════════╡\n",
            "│ Search_Brand        ┆ 15000       ┆ 750   ┆ 50           ┆ 1500.0 ┆ 5.0      ┆ 2.0 ┆ 6.666667  │\n",
            "│ Display_Remarketing ┆ 25000       ┆ 500   ┆ 30           ┆ 750.0  ┆ 2.0      ┆ 1.5 ┆ 6.0       │\n",
            "│ Social_Awareness    ┆ 35000       ┆ 800   ┆ 45           ┆ 1200.0 ┆ 2.285714 ┆ 1.5 ┆ 5.625     │\n",
            "└─────────────────────┴─────────────┴───────┴──────────────┴────────┴──────────┴─────┴───────────┘\n"
          ]
        }
      ],
      "source": [
        "# Cálculo de métricas comunes en marketing\n",
        "df_metrics = df.with_columns([\n",
        "    (pl.col('clics') / pl.col('impresiones') * 100).alias('ctr'),\n",
        "    (pl.col('costo') / pl.col('clics')).alias('cpc'),\n",
        "    (pl.col('conversiones') / pl.col('clics') * 100).alias('conv_rate')\n",
        "])\n",
        "\n",
        "print(\"\\nDataFrame con métricas calculadas:\")\n",
        "print(df_metrics)"
      ]
    },
    {
      "cell_type": "markdown",
      "metadata": {
        "id": "5llYy8DStBDn"
      },
      "source": [
        "### 🎯 Ejercicio 4: Cálculo de Métricas\n",
        "Para el DataFrame de email marketing:\n",
        "1. Calcula la tasa de apertura (aperturas/enviados)\n",
        "2. Calcula la tasa de clics (clics/aperturas)\n",
        "3. Calcula el costo por envío (asumiendo un costo total de $100 por campaña)"
      ]
    },
    {
      "cell_type": "code",
      "execution_count": null,
      "metadata": {
        "id": "nbm-CWmmtBDn"
      },
      "outputs": [],
      "source": [
        "# Tu código aquí"
      ]
    },
    {
      "cell_type": "markdown",
      "metadata": {
        "id": "Gd-dUZURtBDn"
      },
      "source": [
        "## 5. Agrupación y Agregación\n",
        "Podemos:\n",
        "- Agrupar por una o más columnas\n",
        "- Aplicar diferentes funciones de agregación\n",
        "- Crear resúmenes estadísticos"
      ]
    },
    {
      "cell_type": "code",
      "execution_count": null,
      "metadata": {
        "colab": {
          "base_uri": "https://localhost:8080/"
        },
        "id": "XN7LT_nAtBDn",
        "outputId": "e19552b7-0d61-4052-e6f4-b78be6bd1c12"
      },
      "outputs": [
        {
          "output_type": "stream",
          "name": "stdout",
          "text": [
            "\n",
            "Métricas por canal:\n",
            "shape: (2, 5)\n",
            "┌─────────┬─────────────┬───────┬────────┬─────┐\n",
            "│ canal   ┆ impresiones ┆ clics ┆ costo  ┆ ctr │\n",
            "│ ---     ┆ ---         ┆ ---   ┆ ---    ┆ --- │\n",
            "│ str     ┆ i64         ┆ i64   ┆ f64    ┆ f64 │\n",
            "╞═════════╪═════════════╪═══════╪════════╪═════╡\n",
            "│ Display ┆ 16500       ┆ 330   ┆ 825.0  ┆ 2.0 │\n",
            "│ Search  ┆ 10500       ┆ 525   ┆ 1050.0 ┆ 5.0 │\n",
            "└─────────┴─────────────┴───────┴────────┴─────┘\n"
          ]
        }
      ],
      "source": [
        "# Creamos más datos para ejemplo\n",
        "data_extendido = {\n",
        "    'fecha': ['2024-01-01', '2024-01-01', '2024-01-02', '2024-01-02'],\n",
        "    'canal': ['Search', 'Display', 'Search', 'Display'],\n",
        "    'impresiones': [5000, 8000, 5500, 8500],\n",
        "    'clics': [250, 160, 275, 170],\n",
        "    'costo': [500.0, 400.0, 550.0, 425.0]\n",
        "}\n",
        "\n",
        "df_diario = pl.DataFrame(data_extendido)\n",
        "\n",
        "# Agrupación por canal\n",
        "print(\"\\nMétricas por canal:\")\n",
        "print(df_diario.group_by('canal').agg([\n",
        "    pl.col('impresiones').sum(),\n",
        "    pl.col('clics').sum(),\n",
        "    pl.col('costo').sum(),\n",
        "    (pl.col('clics').sum() / pl.col('impresiones').sum() * 100).alias('ctr')\n",
        "]))"
      ]
    },
    {
      "cell_type": "markdown",
      "metadata": {
        "id": "uxCIEXgBtBDn"
      },
      "source": [
        "# 🎯 Ejercicio 5: Agrupación\n",
        "\n",
        "Crea un DataFrame con datos de ventas por región y producto:\n",
        "- fecha: ['2024-01-01', '2024-01-01', '2024-01-02', '2024-01-02']\n",
        "- región: ['Norte', 'Sur', 'Norte', 'Sur']\n",
        "- producto: ['A', 'A', 'B', 'B']\n",
        "- ventas: [1000, 1200, 800, 1500]\n",
        "- unidades: [100, 120, 80, 150]\n",
        "\n",
        "Luego:\n",
        "1. Agrupa por región y calcula total de ventas y unidades\n",
        "2. Calcula el precio promedio por unidad para cada región\n",
        "3. Encuentra la región con más ventas\n"
      ]
    },
    {
      "cell_type": "code",
      "execution_count": null,
      "metadata": {
        "id": "uvNL_jAhtBDn"
      },
      "outputs": [],
      "source": [
        "# Tu código aquí"
      ]
    },
    {
      "cell_type": "markdown",
      "metadata": {
        "id": "ARNnuR8LtBDn"
      },
      "source": [
        "## 6. Ordenamiento y Ranking\n",
        "Podemos:\n",
        "- Ordenar por una o más columnas\n",
        "- Ordenar ascendente o descendente\n",
        "- Crear rankings"
      ]
    },
    {
      "cell_type": "code",
      "execution_count": null,
      "metadata": {
        "id": "esZYse6RtBDn",
        "outputId": "70763faa-1c3f-46fb-db38-3fff9e790c40"
      },
      "outputs": [
        {
          "name": "stdout",
          "output_type": "stream",
          "text": [
            "\n",
            "Campañas ordenadas por CTR descendente:\n",
            "shape: (3, 8)\n",
            "┌─────────────────────┬─────────────┬───────┬──────────────┬────────┬──────────┬─────┬───────────┐\n",
            "│ campaña             ┆ impresiones ┆ clics ┆ conversiones ┆ costo  ┆ ctr      ┆ cpc ┆ conv_rate │\n",
            "│ ---                 ┆ ---         ┆ ---   ┆ ---          ┆ ---    ┆ ---      ┆ --- ┆ ---       │\n",
            "│ str                 ┆ i64         ┆ i64   ┆ i64          ┆ f64    ┆ f64      ┆ f64 ┆ f64       │\n",
            "╞═════════════════════╪═════════════╪═══════╪══════════════╪════════╪══════════╪═════╪═══════════╡\n",
            "│ Search_Brand        ┆ 15000       ┆ 750   ┆ 50           ┆ 1500.0 ┆ 5.0      ┆ 2.0 ┆ 6.666667  │\n",
            "│ Social_Awareness    ┆ 35000       ┆ 800   ┆ 45           ┆ 1200.0 ┆ 2.285714 ┆ 1.5 ┆ 5.625     │\n",
            "│ Display_Remarketing ┆ 25000       ┆ 500   ┆ 30           ┆ 750.0  ┆ 2.0      ┆ 1.5 ┆ 6.0       │\n",
            "└─────────────────────┴─────────────┴───────┴──────────────┴────────┴──────────┴─────┴───────────┘\n"
          ]
        }
      ],
      "source": [
        "print(\"\\nCampañas ordenadas por CTR descendente:\")\n",
        "df_sorted = df_metrics.sort(by='ctr', descending=True)\n",
        "print(df_sorted)"
      ]
    },
    {
      "cell_type": "markdown",
      "metadata": {
        "id": "8h54iAWXtBDn"
      },
      "source": [
        "### 🎯 Ejercicio 6: Ordenamiento\n",
        "\n",
        "Con el DataFrame de métricas que creaste:\n",
        "1. Ordena las campañas por tasa de conversión descendente\n",
        "2. Muestra solo las 2 campañas con mejor CPC\n",
        "3. Crea un ranking de campañas basado en múltiples métricas"
      ]
    },
    {
      "cell_type": "code",
      "execution_count": null,
      "metadata": {
        "id": "UiQHlL_-tBDn"
      },
      "outputs": [],
      "source": [
        "# Tu código aquí"
      ]
    },
    {
      "cell_type": "code",
      "source": [
        "df = pl.DataFrame(data_extendido)\n",
        "df"
      ],
      "metadata": {
        "colab": {
          "base_uri": "https://localhost:8080/",
          "height": 224
        },
        "id": "Sy8A-_i4qJs8",
        "outputId": "0bbd1510-a76f-4c1d-9278-0f74705e4804"
      },
      "execution_count": null,
      "outputs": [
        {
          "output_type": "execute_result",
          "data": {
            "text/plain": [
              "shape: (4, 5)\n",
              "┌────────────┬─────────┬─────────────┬───────┬───────┐\n",
              "│ fecha      ┆ canal   ┆ impresiones ┆ clics ┆ costo │\n",
              "│ ---        ┆ ---     ┆ ---         ┆ ---   ┆ ---   │\n",
              "│ str        ┆ str     ┆ i64         ┆ i64   ┆ f64   │\n",
              "╞════════════╪═════════╪═════════════╪═══════╪═══════╡\n",
              "│ 2024-01-01 ┆ Search  ┆ 5000        ┆ 250   ┆ 500.0 │\n",
              "│ 2024-01-01 ┆ Display ┆ 8000        ┆ 160   ┆ 400.0 │\n",
              "│ 2024-01-02 ┆ Search  ┆ 5500        ┆ 275   ┆ 550.0 │\n",
              "│ 2024-01-02 ┆ Display ┆ 8500        ┆ 170   ┆ 425.0 │\n",
              "└────────────┴─────────┴─────────────┴───────┴───────┘"
            ],
            "text/html": [
              "<div><style>\n",
              ".dataframe > thead > tr,\n",
              ".dataframe > tbody > tr {\n",
              "  text-align: right;\n",
              "  white-space: pre-wrap;\n",
              "}\n",
              "</style>\n",
              "<small>shape: (4, 5)</small><table border=\"1\" class=\"dataframe\"><thead><tr><th>fecha</th><th>canal</th><th>impresiones</th><th>clics</th><th>costo</th></tr><tr><td>str</td><td>str</td><td>i64</td><td>i64</td><td>f64</td></tr></thead><tbody><tr><td>&quot;2024-01-01&quot;</td><td>&quot;Search&quot;</td><td>5000</td><td>250</td><td>500.0</td></tr><tr><td>&quot;2024-01-01&quot;</td><td>&quot;Display&quot;</td><td>8000</td><td>160</td><td>400.0</td></tr><tr><td>&quot;2024-01-02&quot;</td><td>&quot;Search&quot;</td><td>5500</td><td>275</td><td>550.0</td></tr><tr><td>&quot;2024-01-02&quot;</td><td>&quot;Display&quot;</td><td>8500</td><td>170</td><td>425.0</td></tr></tbody></table></div>"
            ]
          },
          "metadata": {},
          "execution_count": 8
        }
      ]
    },
    {
      "cell_type": "code",
      "execution_count": null,
      "metadata": {
        "id": "rJy7-_PYtBDn",
        "colab": {
          "base_uri": "https://localhost:8080/",
          "height": 161
        },
        "outputId": "cbea5650-82f3-4879-8f0e-a1d6562912fa"
      },
      "outputs": [
        {
          "output_type": "execute_result",
          "data": {
            "text/plain": [
              "shape: (2, 2)\n",
              "┌────────────┬─────────────┐\n",
              "│ fecha      ┆ impresiones │\n",
              "│ ---        ┆ ---         │\n",
              "│ str        ┆ i64         │\n",
              "╞════════════╪═════════════╡\n",
              "│ 2024-01-01 ┆ 13000       │\n",
              "│ 2024-01-02 ┆ 14000       │\n",
              "└────────────┴─────────────┘"
            ],
            "text/html": [
              "<div><style>\n",
              ".dataframe > thead > tr,\n",
              ".dataframe > tbody > tr {\n",
              "  text-align: right;\n",
              "  white-space: pre-wrap;\n",
              "}\n",
              "</style>\n",
              "<small>shape: (2, 2)</small><table border=\"1\" class=\"dataframe\"><thead><tr><th>fecha</th><th>impresiones</th></tr><tr><td>str</td><td>i64</td></tr></thead><tbody><tr><td>&quot;2024-01-01&quot;</td><td>13000</td></tr><tr><td>&quot;2024-01-02&quot;</td><td>14000</td></tr></tbody></table></div>"
            ]
          },
          "metadata": {},
          "execution_count": 9
        }
      ],
      "source": [
        "(\n",
        "    df\n",
        " .group_by('fecha').agg(\n",
        "    pl.col('impresiones').sum()\n",
        ")\n",
        "  .filter(pl.col('fecha') > '2024-01-01')\n",
        "  .sort(by='fecha')\n",
        ")"
      ]
    },
    {
      "cell_type": "code",
      "source": [],
      "metadata": {
        "id": "rp3RKl-1qHTd"
      },
      "execution_count": null,
      "outputs": []
    }
  ],
  "metadata": {
    "kernelspec": {
      "display_name": "Python 3",
      "language": "python",
      "name": "python3"
    },
    "language_info": {
      "codemirror_mode": {
        "name": "ipython",
        "version": 3
      },
      "file_extension": ".py",
      "mimetype": "text/x-python",
      "name": "python",
      "nbconvert_exporter": "python",
      "pygments_lexer": "ipython3",
      "version": "3.12.5"
    },
    "colab": {
      "provenance": []
    }
  },
  "nbformat": 4,
  "nbformat_minor": 0
}