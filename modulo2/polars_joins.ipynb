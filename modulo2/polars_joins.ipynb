{
  "nbformat": 4,
  "nbformat_minor": 0,
  "metadata": {
    "colab": {
      "provenance": []
    },
    "kernelspec": {
      "name": "python3",
      "display_name": "Python 3"
    },
    "language_info": {
      "name": "python"
    }
  },
  "cells": [
    {
      "cell_type": "markdown",
      "source": [
        "# 🎉 La Gran Fiesta de los Joins en Polars 🎉"
      ],
      "metadata": {
        "id": "0CQ7uFQDe5zf"
      }
    },
    {
      "cell_type": "markdown",
      "source": [
        "## Efecto post-campaña o \"conversion lag\"\n",
        "### Escenario 1:\n",
        "\n",
        "- Una campaña se ejecuta hasta el 31 de enero\n",
        "- Un usuario hace clic en un anuncio el 31 de enero a las 23:59\n",
        "- El usuario completa la compra el 1 de febrero a las 00:01\n",
        "- **No hay forma de atribuir la venta a la campaña porque click y venta no son del mismo día**\n",
        "\n",
        "### Escenario 2:\n",
        "- Tenemos una campaña de facebook que ha tenido ventas hasta el día de ayer y se apaga.\n",
        "- El día de hoy alguien que guardo el enlace con la UTM de esa campaña de facebook realiza una compra.\n",
        "- **La campaña ya está \"apagada\" cuando ocurre la conversión y no aparece en facebook para hoy, pero si en google analytics.**\n",
        "\n",
        "\n",
        "### Por qué es un problema en Google Sheets:\n",
        "\n",
        "\n",
        "En Sheets, típicamente tenemos los datos separados:\n",
        "\n",
        "- Una tabla con datos de costos/clics por día\n",
        "- Otra con datos de las ventas por día\n",
        "\n",
        "\n",
        "Al usar VLOOKUP o BUSCARV para unir estos datos por fecha y nombre de campaña las conversiones que ocurren en días posteriores no se asocian con sus clics originales.\n",
        "\n",
        "**Esto lleva a subestimar el ROAS de las campañas**"
      ],
      "metadata": {
        "id": "AbXVMycWi5-g"
      }
    },
    {
      "cell_type": "code",
      "source": [
        "import polars as pl\n",
        "import numpy as np"
      ],
      "metadata": {
        "id": "aTbF4XnEe8t6"
      },
      "execution_count": null,
      "outputs": []
    },
    {
      "cell_type": "markdown",
      "source": [
        "## 🎭 Introducción: La Fiesta del Siglo\n",
        "Imagina que estás organizando LA FIESTA DEL SIGLO y tienes dos listas:\n",
        "- Una lista de invitados con sus preferencias de comida 🍽️\n",
        "- Una lista de confirmaciones con el regalo que traerán 🎁\n",
        "\n",
        "¡Necesitas juntar esta información de manera eficiente!\n",
        "Aquí es donde entran nuestros amigos los JOINS."
      ],
      "metadata": {
        "id": "xCexS2hhe_Fu"
      }
    },
    {
      "cell_type": "code",
      "source": [
        "# Creamos nuestras listas de ejemplo\n",
        "invitados = pl.DataFrame({\n",
        "    'nombre': ['Ana Laura', 'Carlos', 'Mario', 'Elizabeth', 'Michelle'],\n",
        "    'comida': ['Vegetariano', 'Todo', 'Vegano', 'Todo', 'Vegetariano'],\n",
        "    'edad': [27, 34, 32, 30, 24]\n",
        "})\n",
        "\n",
        "confirmaciones = pl.DataFrame({\n",
        "    'nombre': ['Ana Laura', 'Carlos', 'Andrés', 'Elizabeth', 'Josseline'],\n",
        "    'regalo': ['Vino', 'Postre', 'Snacks', 'Música', 'Bebidas'],\n",
        "    'invitados_extra': [0, 2, 1, 0, 1]\n",
        "})\n",
        "\n",
        "print(\"Lista de Invitados Original:\")\n",
        "print(invitados)\n",
        "print(\"\\nLista de Confirmaciones:\")\n",
        "print(confirmaciones)"
      ],
      "metadata": {
        "colab": {
          "base_uri": "https://localhost:8080/"
        },
        "id": "QWUmCtiHfFlW",
        "outputId": "8d6a79f8-2221-4f1f-8018-dd5cf93acf26"
      },
      "execution_count": null,
      "outputs": [
        {
          "output_type": "stream",
          "name": "stdout",
          "text": [
            "Lista de Invitados Original:\n",
            "shape: (5, 3)\n",
            "┌───────────┬─────────────┬──────┐\n",
            "│ nombre    ┆ comida      ┆ edad │\n",
            "│ ---       ┆ ---         ┆ ---  │\n",
            "│ str       ┆ str         ┆ i64  │\n",
            "╞═══════════╪═════════════╪══════╡\n",
            "│ Ana Laura ┆ Vegetariano ┆ 27   │\n",
            "│ Carlos    ┆ Todo        ┆ 34   │\n",
            "│ Mario     ┆ Vegano      ┆ 32   │\n",
            "│ Elizabeth ┆ Todo        ┆ 30   │\n",
            "│ Michelle  ┆ Vegetariano ┆ 24   │\n",
            "└───────────┴─────────────┴──────┘\n",
            "\n",
            "Lista de Confirmaciones:\n",
            "shape: (5, 3)\n",
            "┌───────────┬─────────┬─────────────────┐\n",
            "│ nombre    ┆ regalo  ┆ invitados_extra │\n",
            "│ ---       ┆ ---     ┆ ---             │\n",
            "│ str       ┆ str     ┆ i64             │\n",
            "╞═══════════╪═════════╪═════════════════╡\n",
            "│ Ana Laura ┆ Vino    ┆ 0               │\n",
            "│ Carlos    ┆ Postre  ┆ 2               │\n",
            "│ Andrés    ┆ Snacks  ┆ 1               │\n",
            "│ Elizabeth ┆ Música  ┆ 0               │\n",
            "│ Josseline ┆ Bebidas ┆ 1               │\n",
            "└───────────┴─────────┴─────────────────┘\n"
          ]
        }
      ]
    },
    {
      "cell_type": "markdown",
      "source": [
        "## 🤝 1. INNER JOIN: Los que están en ambas listas\n",
        "El INNER JOIN es como los invitados VIP: solo entran si están en AMBAS listas.\n",
        "Es el más exclusivo de los joins, ¡no acepta nadie que no haya sido invitado o que no haya confirmado!\n",
        "\n",
        "Ejemplo:\n",
        "- Quieres saber qué regalo traerá cada invitado, pero solo de los que\n",
        "  CONFIRMARON su asistencia."
      ],
      "metadata": {
        "id": "jHMPAdZsfUpK"
      }
    },
    {
      "cell_type": "code",
      "source": [
        "inner_party = invitados.join(\n",
        "    confirmaciones,\n",
        "    on='nombre',\n",
        "    how='inner'\n",
        ")\n",
        "\n",
        "print(\"\\n🌟 VIP (Inner Join):\")\n",
        "print(inner_party)"
      ],
      "metadata": {
        "colab": {
          "base_uri": "https://localhost:8080/"
        },
        "id": "4aeDs56DflXe",
        "outputId": "2c093868-7bce-4d9f-c077-4546abcaa98e"
      },
      "execution_count": null,
      "outputs": [
        {
          "output_type": "stream",
          "name": "stdout",
          "text": [
            "\n",
            "🌟 VIP (Inner Join):\n",
            "shape: (3, 5)\n",
            "┌───────────┬─────────────┬──────┬────────┬─────────────────┐\n",
            "│ nombre    ┆ comida      ┆ edad ┆ regalo ┆ invitados_extra │\n",
            "│ ---       ┆ ---         ┆ ---  ┆ ---    ┆ ---             │\n",
            "│ str       ┆ str         ┆ i64  ┆ str    ┆ i64             │\n",
            "╞═══════════╪═════════════╪══════╪════════╪═════════════════╡\n",
            "│ Ana Laura ┆ Vegetariano ┆ 27   ┆ Vino   ┆ 0               │\n",
            "│ Carlos    ┆ Todo        ┆ 34   ┆ Postre ┆ 2               │\n",
            "│ Elizabeth ┆ Todo        ┆ 30   ┆ Música ┆ 0               │\n",
            "└───────────┴─────────────┴──────┴────────┴─────────────────┘\n"
          ]
        }
      ]
    },
    {
      "cell_type": "markdown",
      "source": [
        "## 👈 2. LEFT JOIN: Todos mis invitados (y sus regalos si confirmaron)\n",
        "\n",
        "El LEFT JOIN es como decir: \"Quiero saber de TODOS mis invitados originales,\n",
        "y si confirmaron, también quiero saber qué regalo traerán\"\n",
        "\n",
        "Es como la tía que dice: \"¿Y Fulanito? ¿No viene?\" aunque no haya confirmado."
      ],
      "metadata": {
        "id": "x4oppkLJfyNm"
      }
    },
    {
      "cell_type": "code",
      "source": [
        "left_party = invitados.join(\n",
        "    confirmaciones,\n",
        "    on='nombre',\n",
        "    how='left'\n",
        ")\n",
        "\n",
        "print(\"\\n👥 Todos los Invitados (Left Join):\")\n",
        "print(left_party)"
      ],
      "metadata": {
        "colab": {
          "base_uri": "https://localhost:8080/"
        },
        "id": "XVK_Hss7f4Vi",
        "outputId": "77fe2f92-3be2-4c9d-a115-ba11d32e5784"
      },
      "execution_count": null,
      "outputs": [
        {
          "output_type": "stream",
          "name": "stdout",
          "text": [
            "\n",
            "👥 Todos los Invitados (Left Join):\n",
            "shape: (5, 5)\n",
            "┌───────────┬─────────────┬──────┬────────┬─────────────────┐\n",
            "│ nombre    ┆ comida      ┆ edad ┆ regalo ┆ invitados_extra │\n",
            "│ ---       ┆ ---         ┆ ---  ┆ ---    ┆ ---             │\n",
            "│ str       ┆ str         ┆ i64  ┆ str    ┆ i64             │\n",
            "╞═══════════╪═════════════╪══════╪════════╪═════════════════╡\n",
            "│ Ana Laura ┆ Vegetariano ┆ 27   ┆ Vino   ┆ 0               │\n",
            "│ Carlos    ┆ Todo        ┆ 34   ┆ Postre ┆ 2               │\n",
            "│ Mario     ┆ Vegano      ┆ 32   ┆ null   ┆ null            │\n",
            "│ Elizabeth ┆ Todo        ┆ 30   ┆ Música ┆ 0               │\n",
            "│ Michelle  ┆ Vegetariano ┆ 24   ┆ null   ┆ null            │\n",
            "└───────────┴─────────────┴──────┴────────┴─────────────────┘\n"
          ]
        }
      ]
    },
    {
      "cell_type": "markdown",
      "source": [
        "## 👉 3. RIGHT JOIN: Todos los que confirmaron (estén o no invitados)\n",
        "\n",
        "El RIGHT JOIN es como cuando alguien confirma que viene...\n",
        "¡pero no recuerdas haberlo invitado! 😅\n",
        "\n",
        "Muestra todos los que confirmaron asistencia, aunque no estén en la lista original."
      ],
      "metadata": {
        "id": "Gaid3sq8gDKh"
      }
    },
    {
      "cell_type": "code",
      "source": [
        "right_party = invitados.join(\n",
        "    confirmaciones,\n",
        "    on='nombre',\n",
        "    how='right'\n",
        ")\n",
        "\n",
        "print(\"\\n🎁 Todos los que Confirmaron (Right Join):\")\n",
        "print(right_party)"
      ],
      "metadata": {
        "colab": {
          "base_uri": "https://localhost:8080/"
        },
        "id": "Nijg7TB_gLMD",
        "outputId": "3931e79f-1c61-49c1-9d90-964a109f7541"
      },
      "execution_count": null,
      "outputs": [
        {
          "output_type": "stream",
          "name": "stdout",
          "text": [
            "\n",
            "🎁 Todos los que Confirmaron (Right Join):\n",
            "shape: (5, 5)\n",
            "┌─────────────┬──────┬───────────┬─────────┬─────────────────┐\n",
            "│ comida      ┆ edad ┆ nombre    ┆ regalo  ┆ invitados_extra │\n",
            "│ ---         ┆ ---  ┆ ---       ┆ ---     ┆ ---             │\n",
            "│ str         ┆ i64  ┆ str       ┆ str     ┆ i64             │\n",
            "╞═════════════╪══════╪═══════════╪═════════╪═════════════════╡\n",
            "│ Vegetariano ┆ 27   ┆ Ana Laura ┆ Vino    ┆ 0               │\n",
            "│ Todo        ┆ 34   ┆ Carlos    ┆ Postre  ┆ 2               │\n",
            "│ null        ┆ null ┆ Andrés    ┆ Snacks  ┆ 1               │\n",
            "│ Todo        ┆ 30   ┆ Elizabeth ┆ Música  ┆ 0               │\n",
            "│ null        ┆ null ┆ Josseline ┆ Bebidas ┆ 1               │\n",
            "└─────────────┴──────┴───────────┴─────────┴─────────────────┘\n"
          ]
        }
      ]
    },
    {
      "cell_type": "markdown",
      "source": [
        "## 🤗 4. OUTER JOIN: ¡Que no falte nadie!\n",
        "El OUTER JOIN es como decir: \"¡Mientras más seamos, mejor!\"\n",
        "Muestra TODOS, hayan o no confirmado, estén o no invitados originalmente.\n",
        "\n",
        "Es la versión más inclusiva de los joins, ¡nadie se queda fuera!\n"
      ],
      "metadata": {
        "id": "ORP6UTrtg2FY"
      }
    },
    {
      "cell_type": "code",
      "source": [
        "outer_party = invitados.join(\n",
        "    confirmaciones,\n",
        "    on='nombre',\n",
        "    how='full' # también se conoce como full join\n",
        ")\n",
        "\n",
        "print(\"\\n🌈 ¡Todos Incluidos! (Outer Join):\")\n",
        "print(outer_party)"
      ],
      "metadata": {
        "colab": {
          "base_uri": "https://localhost:8080/"
        },
        "id": "VT5OsDhog1yX",
        "outputId": "84eb9949-841d-4771-d116-924c22d76f11"
      },
      "execution_count": null,
      "outputs": [
        {
          "output_type": "stream",
          "name": "stdout",
          "text": [
            "\n",
            "🌈 ¡Todos Incluidos! (Outer Join):\n",
            "shape: (7, 6)\n",
            "┌───────────┬─────────────┬──────┬──────────────┬─────────┬─────────────────┐\n",
            "│ nombre    ┆ comida      ┆ edad ┆ nombre_right ┆ regalo  ┆ invitados_extra │\n",
            "│ ---       ┆ ---         ┆ ---  ┆ ---          ┆ ---     ┆ ---             │\n",
            "│ str       ┆ str         ┆ i64  ┆ str          ┆ str     ┆ i64             │\n",
            "╞═══════════╪═════════════╪══════╪══════════════╪═════════╪═════════════════╡\n",
            "│ Ana Laura ┆ Vegetariano ┆ 27   ┆ Ana Laura    ┆ Vino    ┆ 0               │\n",
            "│ Carlos    ┆ Todo        ┆ 34   ┆ Carlos       ┆ Postre  ┆ 2               │\n",
            "│ null      ┆ null        ┆ null ┆ Andrés       ┆ Snacks  ┆ 1               │\n",
            "│ Elizabeth ┆ Todo        ┆ 30   ┆ Elizabeth    ┆ Música  ┆ 0               │\n",
            "│ null      ┆ null        ┆ null ┆ Josseline    ┆ Bebidas ┆ 1               │\n",
            "│ Mario     ┆ Vegano      ┆ 32   ┆ null         ┆ null    ┆ null            │\n",
            "│ Michelle  ┆ Vegetariano ┆ 24   ┆ null         ┆ null    ┆ null            │\n",
            "└───────────┴─────────────┴──────┴──────────────┴─────────┴─────────────────┘\n"
          ]
        }
      ]
    },
    {
      "cell_type": "markdown",
      "source": [
        "### 🎯 Ejercicio Práctico: La Fiesta de Marketing\n",
        "\n",
        "Ahora vamos a aplicar esto a un escenario de marketing digital.\n",
        "Tenemos dos DataFrames:\n",
        "\n",
        "1. campañas_activas:\n",
        "   - campaña_id\n",
        "   - nombre_campaña\n",
        "   - presupuesto_diario\n",
        "   - objetivo\n",
        "\n",
        "2. rendimiento_campañas:\n",
        "   - campaña_id\n",
        "   - impresiones\n",
        "   - clics\n",
        "   - conversiones\n",
        "   - costo\n",
        "\n",
        "Crea estos DataFrames y practica cada tipo de join para:\n",
        "1. Ver qué campañas activas tienen datos de rendimiento\n",
        "2. Identificar campañas sin datos de rendimiento\n",
        "3. Encontrar datos de rendimiento de campañas no activas\n",
        "4. Obtener una vista completa de todas las campañas"
      ],
      "metadata": {
        "id": "ZMKJSE9zhJt4"
      }
    },
    {
      "cell_type": "code",
      "source": [
        "# Datos de ejemplo\n",
        "campanas_activas = pl.DataFrame({\n",
        "    'campaña_id': ['C001', 'C002', 'C003', 'C004', 'C005'],\n",
        "    'nombre_campaña': ['Search_Brand', 'Display_Remark', 'Social_Awareness',\n",
        "                      'Search_NonBrand', 'Display_Prosp'],\n",
        "    'presupuesto_diario': [100, 150, 200, 300, 250],\n",
        "    'objetivo': ['Conversiones', 'Awareness', 'Tráfico',\n",
        "                'Conversiones', 'Awareness']\n",
        "})\n",
        "\n",
        "rendimiento_campanas = pl.DataFrame({\n",
        "    'campaña_id': ['C001', 'C002', 'C006', 'C004', 'C007'],\n",
        "    'impresiones': [10000, 25000, 15000, 30000, 20000],\n",
        "    'clics': [500, 300, 400, 600, 350],\n",
        "    'conversiones': [50, 20, 30, 45, 25],\n",
        "    'costo': [95, 140, 180, 280, 200]\n",
        "})\n",
        "\n",
        "print(campanas_activas)\n",
        "print(rendimiento_campanas)"
      ],
      "metadata": {
        "colab": {
          "base_uri": "https://localhost:8080/"
        },
        "id": "iUeGJ3UuhTze",
        "outputId": "7b1ad366-5d04-4ff8-db99-770b80440301"
      },
      "execution_count": null,
      "outputs": [
        {
          "output_type": "stream",
          "name": "stdout",
          "text": [
            "shape: (5, 4)\n",
            "┌────────────┬──────────────────┬────────────────────┬──────────────┐\n",
            "│ campaña_id ┆ nombre_campaña   ┆ presupuesto_diario ┆ objetivo     │\n",
            "│ ---        ┆ ---              ┆ ---                ┆ ---          │\n",
            "│ str        ┆ str              ┆ i64                ┆ str          │\n",
            "╞════════════╪══════════════════╪════════════════════╪══════════════╡\n",
            "│ C001       ┆ Search_Brand     ┆ 100                ┆ Conversiones │\n",
            "│ C002       ┆ Display_Remark   ┆ 150                ┆ Awareness    │\n",
            "│ C003       ┆ Social_Awareness ┆ 200                ┆ Tráfico      │\n",
            "│ C004       ┆ Search_NonBrand  ┆ 300                ┆ Conversiones │\n",
            "│ C005       ┆ Display_Prosp    ┆ 250                ┆ Awareness    │\n",
            "└────────────┴──────────────────┴────────────────────┴──────────────┘\n",
            "shape: (5, 5)\n",
            "┌────────────┬─────────────┬───────┬──────────────┬───────┐\n",
            "│ campaña_id ┆ impresiones ┆ clics ┆ conversiones ┆ costo │\n",
            "│ ---        ┆ ---         ┆ ---   ┆ ---          ┆ ---   │\n",
            "│ str        ┆ i64         ┆ i64   ┆ i64          ┆ i64   │\n",
            "╞════════════╪═════════════╪═══════╪══════════════╪═══════╡\n",
            "│ C001       ┆ 10000       ┆ 500   ┆ 50           ┆ 95    │\n",
            "│ C002       ┆ 25000       ┆ 300   ┆ 20           ┆ 140   │\n",
            "│ C006       ┆ 15000       ┆ 400   ┆ 30           ┆ 180   │\n",
            "│ C004       ┆ 30000       ┆ 600   ┆ 45           ┆ 280   │\n",
            "│ C007       ┆ 20000       ┆ 350   ┆ 25           ┆ 200   │\n",
            "└────────────┴─────────────┴───────┴──────────────┴───────┘\n"
          ]
        }
      ]
    },
    {
      "cell_type": "code",
      "source": [
        "# Tu código aquí"
      ],
      "metadata": {
        "id": "8ZVipQi9hWBq"
      },
      "execution_count": null,
      "outputs": []
    },
    {
      "cell_type": "markdown",
      "source": [
        "## 💡 Bonus: Casos Especiales\n",
        "\n",
        "1. CROSS JOIN: La fiesta se descontrola\n",
        "   - Combina cada fila con todas las filas del otro DataFrame\n",
        "   - Útil para crear todas las combinaciones posibles\n",
        "   - ¡Cuidado! Puede crear muchos datos\n",
        "\n",
        "2. SEMI JOIN: Los tímidos\n",
        "   - Solo muestra filas del primer DataFrame que tienen match\n",
        "   - No duplica columnas como el INNER JOIN\n",
        "   - Útil para filtrar sin aumentar el tamaño de los datos\n",
        "\n",
        "3. ANTI JOIN: Los rebeldes\n",
        "   - Muestra las filas que NO tienen match\n",
        "   - Perfecto para encontrar anomalías o datos faltantes"
      ],
      "metadata": {
        "id": "C140hRMkiFWz"
      }
    },
    {
      "cell_type": "markdown",
      "source": [
        "## 🎓 Consejos Finales\n",
        "\n",
        "1. Siempre verifica tus datos antes y después del join (puedes usar la propiedad .shape para ver la cantidad de filas y columnas)\n",
        "2. Considera el orden de las tablas (left vs right)\n",
        "3. Revisa los valores nulos en el resultado\n",
        "4. Piensa en el rendimiento con grandes conjuntos de datos\n",
        "5. Siempre que sea posible usa IDs en vez de strings para la columna de union\n"
      ],
      "metadata": {
        "id": "qzlliV5siTF_"
      }
    },
    {
      "cell_type": "code",
      "source": [],
      "metadata": {
        "id": "WIGdLHYZiTXT"
      },
      "execution_count": null,
      "outputs": []
    }
  ]
}