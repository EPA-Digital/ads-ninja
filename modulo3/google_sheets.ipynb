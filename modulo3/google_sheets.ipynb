{
  "nbformat": 4,
  "nbformat_minor": 0,
  "metadata": {
    "colab": {
      "provenance": []
    },
    "kernelspec": {
      "name": "python3",
      "display_name": "Python 3"
    },
    "language_info": {
      "name": "python"
    }
  },
  "cells": [
    {
      "cell_type": "code",
      "execution_count": null,
      "metadata": {
        "id": "T5TIOWVpzKKW"
      },
      "outputs": [],
      "source": [
        "import pandas as pd\n",
        "import gspread as gs\n",
        "from google.colab import auth\n",
        "from google.auth import default"
      ]
    },
    {
      "cell_type": "code",
      "source": [
        "auth.authenticate_user()\n",
        "\n",
        "creds, _ = default()\n",
        "\n",
        "gc = gs.authorize(creds)"
      ],
      "metadata": {
        "id": "P54q_dHJzNf6"
      },
      "execution_count": null,
      "outputs": []
    },
    {
      "cell_type": "code",
      "source": [
        "ss = gc.open_by_key('1AaKFSPe8wFsQwk5WBUSXmN50EeEFGc5N-Y_cUsIU0tw')"
      ],
      "metadata": {
        "id": "_OS3xl1j1BYc"
      },
      "execution_count": null,
      "outputs": []
    },
    {
      "cell_type": "code",
      "source": [
        "sheet = ss.worksheet('campanas_2024')"
      ],
      "metadata": {
        "id": "rbdRD_7G1Z8E"
      },
      "execution_count": null,
      "outputs": []
    },
    {
      "cell_type": "code",
      "source": [
        "df = pd.DataFrame(sheet.get_all_records())"
      ],
      "metadata": {
        "id": "CO-oLMcX1h87"
      },
      "execution_count": null,
      "outputs": []
    },
    {
      "cell_type": "code",
      "source": [
        "sheet1 = ss.worksheet('data')"
      ],
      "metadata": {
        "id": "ZxJ8cjKg2gfg"
      },
      "execution_count": null,
      "outputs": []
    },
    {
      "cell_type": "code",
      "source": [
        "sheet1.update([df.columns.values.tolist()] + df.values.tolist())"
      ],
      "metadata": {
        "colab": {
          "base_uri": "https://localhost:8080/"
        },
        "id": "m9fwF98Z1uAE",
        "outputId": "e9b6af7f-1fce-4d50-d4b4-a05b774262ff"
      },
      "execution_count": null,
      "outputs": [
        {
          "output_type": "execute_result",
          "data": {
            "text/plain": [
              "{'spreadsheetId': '1AaKFSPe8wFsQwk5WBUSXmN50EeEFGc5N-Y_cUsIU0tw',\n",
              " 'updatedRange': 'data!A1:G56',\n",
              " 'updatedRows': 56,\n",
              " 'updatedColumns': 7,\n",
              " 'updatedCells': 392}"
            ]
          },
          "metadata": {},
          "execution_count": 19
        }
      ]
    },
    {
      "cell_type": "code",
      "source": [],
      "metadata": {
        "id": "tzeDjgPy2pwk"
      },
      "execution_count": null,
      "outputs": []
    }
  ]
}