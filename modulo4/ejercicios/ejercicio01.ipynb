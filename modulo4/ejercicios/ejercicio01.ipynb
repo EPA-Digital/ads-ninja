{
 "cells": [
  {
   "cell_type": "markdown",
   "metadata": {},
   "source": [
    "# Ejercicio 01"
   ]
  },
  {
   "cell_type": "markdown",
   "metadata": {},
   "source": [
    "## Objetivo\n",
    "Crear un análisis integrado de campañas publicitarias combinando datos de Google Ads, Facebook Ads y Google Analytics, realizando un análisis predictivo simple y visualizando los resultados.\n"
   ]
  },
  {
   "cell_type": "code",
   "execution_count": null,
   "metadata": {},
   "outputs": [],
   "source": [
    "from facebook_business.adobjects.adaccount import AdAccount\n",
    "from gaarf.report_fetcher import AdsReportFetcher\n",
    "from facebook_business.api import FacebookAdsApi\n",
    "from datetime import datetime, timedelta\n",
    "from gaarf import GoogleAdsApiClient\n",
    "from collections import defaultdict\n",
    "from dotenv import load_dotenv\n",
    "import plotly.express as px\n",
    "from auth import ga_auth\n",
    "import statsmodels\n",
    "import polars as pl\n",
    "import os\n",
    "\n",
    "# Cargar variables de entorno\n",
    "load_dotenv()"
   ]
  },
  {
   "cell_type": "markdown",
   "metadata": {},
   "source": [
    "## 1. Configuración de Variables\n",
    "Definir las fechas y cuentas para el análisis:"
   ]
  },
  {
   "cell_type": "code",
   "execution_count": null,
   "metadata": {},
   "outputs": [],
   "source": [
    "# Tu código aquí:\n",
    "# 1. Define una fecha fin (end_date) usando datetime.now()\n",
    "# 2. Define una fecha inicio (start_date) 30 días antes que end_date\n",
    "# 3. Define los IDs de las cuentas de Google Ads, Facebook Ads y Analytics\n",
    "\n",
    "\n",
    "# Resultados esperados similares a:\n",
    "# end_date = \"2024-01-15\"\n",
    "# start_date = \"2023-12-15\"\n",
    "# google_ads_account = \"1234567890\"\n",
    "# facebook_ads_account = \"9876543210\"\n",
    "# analytics_property = \"1112223330\""
   ]
  },
  {
   "cell_type": "markdown",
   "metadata": {},
   "source": [
    "## 2. Extracción de Datos de Google Ads\n",
    "Obtén los datos de Google Ads usando la librería gaarf:"
   ]
  },
  {
   "cell_type": "code",
   "execution_count": null,
   "metadata": {},
   "outputs": [],
   "source": [
    "# Tu código aquí:\n",
    "# 1. Crea el cliente de Google Ads\n",
    "# 2. Crea una query GAQL para obtener:\n",
    "#    - date\n",
    "#    - campaign name\n",
    "#    - cost\n",
    "#    - impressions\n",
    "#    - clicks\n",
    "# 3. Ejecuta la query y convierte a DataFrame de Polars\n",
    "# 4. Renombra las columnas y ajusta los tipos de datos según sea necesario\n",
    "\n",
    "# PISTA: Para el costo, recuerda dividir cost_micros entre 1,000,000\n"
   ]
  },
  {
   "cell_type": "markdown",
   "metadata": {},
   "source": [
    "## 3. Extracción de Datos de Facebook Ads\n",
    "Obtén los datos de Facebook Ads usando el SDK oficial:"
   ]
  },
  {
   "cell_type": "code",
   "execution_count": null,
   "metadata": {},
   "outputs": [],
   "source": [
    "# Tu código aquí:\n",
    "# 1. Inicializa la API de Facebook\n",
    "# 2. Define los campos requeridos (similares a Google Ads)\n",
    "# 3. Define los parámetros de la consulta (fechas y nivel de agregación)\n",
    "# 4. Obtén los insights y conviértelos a DataFrame de Polars\n",
    "# 5. Asegúrate que los nombres de columnas coincidan con el DataFrame de Google Ads"
   ]
  },
  {
   "cell_type": "code",
   "execution_count": null,
   "metadata": {},
   "outputs": [],
   "source": [
    "df_facebook_ads = df.with_columns([\n",
    "    (pl.lit(\"facebook\").alias(\"medio\")),\n",
    "    (pl.col(\"date_start\").str.to_date(\"%Y-%m-%d\").alias(\"date\")),\n",
    "    (pl.col(\"campaign_name\").alias(\"campaign\")),\n",
    "    (pl.col(\"spend\").cast(pl.Float64).alias(\"cost\")),\n",
    "    (pl.col(\"impressions\").cast(pl.Int64)),\n",
    "    (pl.col(\"clicks\").cast(pl.Int64))\n",
    "]).select([\n",
    "    \"date\",\n",
    "    \"medio\",\n",
    "    \"campaign\",\n",
    "    \"cost\",\n",
    "    \"impressions\",\n",
    "    \"clicks\"\n",
    "    ])"
   ]
  },
  {
   "cell_type": "markdown",
   "metadata": {},
   "source": [
    "## 4. Extracción de Datos de Google Analytics\n",
    "Para obtener datos de Analytics, usaremos una función helper proporcionada:"
   ]
  },
  {
   "cell_type": "code",
   "execution_count": null,
   "metadata": {},
   "outputs": [],
   "source": [
    "def ga_data(property_id, start_date, end_date, dimensions, metrics, filter_expr=None):\n",
    "    analytics = ga_auth(['https://www.googleapis.com/auth/analytics.readonly'])\n",
    "    request = {\n",
    "        \"requests\": [{\n",
    "            \"dateRanges\": [{\n",
    "                \"startDate\": start_date,\n",
    "                \"endDate\": end_date\n",
    "            }],\n",
    "            \"dimensions\": [{\"name\": dim} for dim in dimensions],\n",
    "            \"metrics\": [{\"name\": met} for met in metrics],\n",
    "            \"limit\": 250000\n",
    "        }]\n",
    "    }\n",
    "    \n",
    "    # Agregar filtro si se especifica\n",
    "    if filter_expr:\n",
    "        request[\"requests\"][0][\"dimensionFilter\"] = {\n",
    "            \"filter\": filter_expr\n",
    "        }\n",
    "    \n",
    "    # Obtener datos\n",
    "    response = analytics.properties().batchRunReports(\n",
    "        property=f'properties/{property_id}', \n",
    "        body=request\n",
    "    ).execute()\n",
    "    \n",
    "    # Procesar respuesta\n",
    "    data = defaultdict(list)\n",
    "    for row in response['reports'][0]['rows']:\n",
    "        # Agregar dimensiones\n",
    "        for dim, value in zip(dimensions, row['dimensionValues']):\n",
    "            data[dim].append(value['value'])\n",
    "        # Agregar métricas\n",
    "        for met, value in zip(metrics, row['metricValues']):\n",
    "            data[met].append(value['value'])\n",
    "            \n",
    "    return pl.DataFrame(data)\n"
   ]
  },
  {
   "cell_type": "code",
   "execution_count": null,
   "metadata": {},
   "outputs": [],
   "source": [
    "# Tu código aquí:\n",
    "# 1. Define las dimensiones necesarias (date, sessionCampaignName)\n",
    "# 2. Define las métricas necesarias (sessions, transactions, purchaseRevenue)\n",
    "# 3. Crea un filtro para campañas (opcional)\n",
    "# 4. Ejecuta la función y procesa el resultado"
   ]
  },
  {
   "cell_type": "markdown",
   "metadata": {},
   "source": [
    "## 5. Integración de Datos\n",
    "Combina los datos de las tres fuentes:"
   ]
  },
  {
   "cell_type": "code",
   "execution_count": null,
   "metadata": {},
   "outputs": [],
   "source": [
    "# Tu código aquí:\n",
    "# 1. Combina los DataFrames de Google Ads y Facebook Ads usando pl.concat\n",
    "# 2. Realiza un left join con los datos de Analytics\n",
    "# 3. Verifica que las columnas estén correctamente alineadas"
   ]
  },
  {
   "cell_type": "markdown",
   "metadata": {},
   "source": [
    "## 6. Análisis y Visualización\n",
    "Crea visualizaciones para entender los datos:"
   ]
  },
  {
   "cell_type": "code",
   "execution_count": null,
   "metadata": {},
   "outputs": [],
   "source": [
    "# Tu código aquí:\n",
    "# 1. Crea un gráfico de barras comparando costos por plataforma\n",
    "# 2. Crea un gráfico de barras comparando ingresos por plataforma\n",
    "# 3. Visualiza la tendencia de costos en el tiempo\n",
    "# 4. Visualiza la tendencia de ingresos en el tiempo\n",
    "# 5. Crea un scatter plot de costo vs ingresos con línea de tendencia\n",
    "# 6. Bonus: Crea scatter plots separados por plataforma"
   ]
  },
  {
   "cell_type": "markdown",
   "metadata": {},
   "source": [
    "## Recursos Adicionales:\n",
    "- Documentación de Polars: https://pola-rs.github.io/polars/\n",
    "- Documentación de Plotly Express: https://plotly.com/python-api-reference/plotly.express.html\n",
    "- Guía de GAQL: https://developers.google.com/google-ads/api/docs/query/overview"
   ]
  }
 ],
 "metadata": {
  "kernelspec": {
   "display_name": "Python 3",
   "language": "python",
   "name": "python3"
  },
  "language_info": {
   "codemirror_mode": {
    "name": "ipython",
    "version": 3
   },
   "file_extension": ".py",
   "mimetype": "text/x-python",
   "name": "python",
   "nbconvert_exporter": "python",
   "pygments_lexer": "ipython3",
   "version": "3.11.6"
  }
 },
 "nbformat": 4,
 "nbformat_minor": 2
}
