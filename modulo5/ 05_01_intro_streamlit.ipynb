{
 "cells": [
  {
   "cell_type": "markdown",
   "metadata": {},
   "source": [
    "# Introducción a Streamlit"
   ]
  },
  {
   "cell_type": "markdown",
   "metadata": {},
   "source": [
    "## Objetivos\n",
    "\n",
    "- Entender qué es Streamlit y sus casos de uso\n",
    "- Aprender la estructura básica de una aplicación Streamlit\n",
    "- Conocer los componentes fundamentales\n",
    "- Crear una aplicación simple de análisis de datos\n",
    "\n",
    "## Estructura de Ejemplos\n",
    "Para cada ejemplo en este notebook, crearemos un script independiente con el formato:\n",
    "```\n",
    "app_XX.py\n",
    "```\n",
    "donde XX es el número del ejemplo."
   ]
  },
  {
   "cell_type": "markdown",
   "metadata": {},
   "source": [
    "## 1. ¿Qué es Streamlit?\n",
    "Streamlit es una biblioteca de Python que permite crear aplicaciones web interactivas para ciencia de datos y machine learning de manera rápida y sencilla. Sus principales ventajas son:\n",
    "- No requiere conocimientos de HTML/CSS/JavaScript\n",
    "- Convierte scripts de Python en aplicaciones web\n",
    "- Actualización automática al modificar el código\n",
    "- Amplia variedad de componentes predefinidos\n",
    "- Excelente para visualización de datos"
   ]
  },
  {
   "cell_type": "markdown",
   "metadata": {},
   "source": [
    "## 2. Configuración del Entorno\n"
   ]
  },
  {
   "cell_type": "code",
   "execution_count": null,
   "metadata": {},
   "outputs": [],
   "source": [
    "# Instalación de las librerías necesarias\n",
    "# Recuerda que puedes agregar las librarías al requirements.txt para mejorar el mantenimiento de tu proyecto\n",
    "! pip install streamlit plotly polars"
   ]
  },
  {
   "cell_type": "markdown",
   "metadata": {},
   "source": [
    "## 3. Estructura Básica\n",
    "Las aplicaciones Streamlit se escriben como scripts de Python normales. Aquí hay un ejemplo básico:"
   ]
  },
  {
   "cell_type": "markdown",
   "metadata": {},
   "source": [
    "```python\n",
    "# app.py\n",
    "import streamlit as st\n",
    "import polars as pl\n",
    "import plotly.express as px\n",
    "\n",
    "# Título de la aplicación\n",
    "st.title(\"Mi Primera App con Streamlit\")\n",
    "\n",
    "# Texto explicativo\n",
    "st.write(\"Esta es una aplicación de ejemplo para análisis de datos.\")\n",
    "\n",
    "# Mostrar datos\n",
    "data = pl.DataFrame({\n",
    "    'x': range(1, 11),\n",
    "    'y': [i**2 for i in range(1, 11)]\n",
    "})\n",
    "st.dataframe(data)\n",
    "\n",
    "# Crear una gráfica\n",
    "fig = px.line(data.to_pandas(), x='x', y='y', title='Función Cuadrática')\n",
    "st.plotly_chart(fig)\n",
    "```"
   ]
  },
  {
   "cell_type": "markdown",
   "metadata": {},
   "source": [
    "Para ejecutar la aplicación usamos esto en la terminal:\n",
    "\n",
    "```bash\n",
    "streamlit run app.py\n",
    "```"
   ]
  },
  {
   "cell_type": "markdown",
   "metadata": {},
   "source": [
    "## 4. Componentes Fundamentales\n",
    "### 4.1 Texto y Markdown"
   ]
  },
  {
   "cell_type": "markdown",
   "metadata": {},
   "source": [
    "**Diferentes formas de mostrar texto**\n",
    "```python\n",
    "st.title(\"Título Principal\")\n",
    "st.header(\"Encabezado\")\n",
    "st.subheader(\"Subencabezado\")\n",
    "st.text(\"Texto plano\")\n",
    "st.markdown(\"**Texto** en *Markdown*\")\n",
    "st.write(\"Método versátil que acepta múltiples tipos de datos\")\n",
    "```"
   ]
  },
  {
   "cell_type": "markdown",
   "metadata": {},
   "source": [
    "### 4.2 Entrada de Datos\n",
    "\n",
    "```python\n",
    "# Widgets de entrada\n",
    "nombre = st.text_input(\"Ingresa tu nombre\")\n",
    "edad = st.number_input(\"Ingresa tu edad\", min_value=0, max_value=120)\n",
    "fecha = st.date_input(\"Selecciona una fecha\")\n",
    "opcion = st.selectbox(\"Elige una opción\", [\"A\", \"B\", \"C\"])\n",
    "```"
   ]
  },
  {
   "cell_type": "markdown",
   "metadata": {},
   "source": [
    "### 4.3 Visualización de Datos\n",
    "\n",
    "```python\n",
    "import polars as pl\n",
    "import plotly.express as px\n",
    "\n",
    "# Crear datos de ejemplo\n",
    "df = pl.DataFrame({\n",
    "    'fecha': pl.date_range(low=datetime(2024, 1, 1), \n",
    "                          high=datetime(2024, 1, 31), \n",
    "                          interval='1d'),\n",
    "    'ventas': np.random.randint(100, 1000, 31)\n",
    "})\n",
    "\n",
    "# Mostrar DataFrame\n",
    "st.dataframe(df)\n",
    "\n",
    "# Gráfico con Plotly\n",
    "fig = px.line(df.to_pandas(), x='fecha', y='ventas', \n",
    "              title='Ventas Diarias')\n",
    "st.plotly_chart(fig)\n",
    "```"
   ]
  },
  {
   "cell_type": "markdown",
   "metadata": {},
   "source": [
    "## 5. Ejercicio Práctico: Dashboard Simple de Marketing\n",
    "Vamos a crear un dashboard simple para analizar datos de campañas publicitarias:\n",
    "\n",
    "```python\n",
    "import streamlit as st\n",
    "import polars as pl\n",
    "import plotly.express as px\n",
    "import numpy as np\n",
    "import pandas as pd\n",
    "\n",
    "\n",
    "# Configuración de la página\n",
    "st.set_page_config(\n",
    "    page_title=\"Dashboard de Marketing\",\n",
    "    layout=\"wide\"\n",
    ")\n",
    "\n",
    "# Título\n",
    "st.title(\"Dashboard de Marketing\")\n",
    "\n",
    "# Crear datos de ejemplo\n",
    "data = {\n",
    "    'Fecha': pd.date_range('2024-01-01', '2024-01-31'),\n",
    "    'Impresiones': np.random.randint(1000, 5000, 31),\n",
    "    'Clics': np.random.randint(50, 200, 31),\n",
    "    'Conversiones': np.random.randint(5, 20, 31),\n",
    "    'Costo': np.random.uniform(100, 500, 31)\n",
    "}\n",
    "\n",
    "df = pl.DataFrame(data)\n",
    "\n",
    "# Sidebar para filtros\n",
    "st.sidebar.header(\"Filtros\")\n",
    "fecha_inicio = st.sidebar.date_input(\n",
    "    \"Fecha Inicio\",\n",
    "    df['Fecha'].min()\n",
    ")\n",
    "fecha_fin = st.sidebar.date_input(\n",
    "    \"Fecha Fin\",\n",
    "    df['Fecha'].max()\n",
    ")\n",
    "\n",
    "# Filtrar datos\n",
    "df_filtrado = df.filter(\n",
    "    (pl.col('Fecha') >= fecha_inicio) & \n",
    "    (pl.col('Fecha') <= fecha_fin)\n",
    ")\n",
    "\n",
    "# Métricas principales\n",
    "col1, col2, col3, col4 = st.columns(4)\n",
    "\n",
    "with col1:\n",
    "    st.metric(\"Total Impresiones\", \n",
    "              f\"{df_filtrado['Impresiones'].sum():,.0f}\")\n",
    "    \n",
    "with col2:\n",
    "    st.metric(\"Total Clics\", \n",
    "              f\"{df_filtrado['Clics'].sum():,.0f}\")\n",
    "    \n",
    "with col3:\n",
    "    st.metric(\"Total Conversiones\", \n",
    "              f\"{df_filtrado['Conversiones'].sum():,.0f}\")\n",
    "    \n",
    "with col4:\n",
    "    st.metric(\"Costo Total\", \n",
    "              f\"${df_filtrado['Costo'].sum():,.2f}\")\n",
    "\n",
    "# Gráficos\n",
    "fig1 = px.line(df_filtrado.to_pandas(), \n",
    "               x='Fecha', \n",
    "               y=['Impresiones', 'Clics'], \n",
    "               title='Tendencia de Impresiones y Clics')\n",
    "st.plotly_chart(fig1)\n",
    "\n",
    "fig2 = px.scatter(df_filtrado.to_pandas(), \n",
    "                 x='Clics', \n",
    "                 y='Conversiones',\n",
    "                 size='Costo',\n",
    "                 title='Relación entre Clics y Conversiones')\n",
    "st.plotly_chart(fig2)\n",
    "```"
   ]
  },
  {
   "cell_type": "markdown",
   "metadata": {},
   "source": [
    "## 6. Mejores Prácticas\n",
    "\n",
    "1. Organización del Código:\n",
    "\n",
    "- Separar la lógica de la aplicación en funciones\n",
    "- Usar archivos separados para diferentes secciones\n",
    "- Mantener un estilo consistente\n",
    "\n",
    "\n",
    "2. Rendimiento:\n",
    "\n",
    "- Usar caching para operaciones costosas (@st.cache_data)\n",
    "- Evitar recalcular datos innecesariamente\n",
    "- Optimizar consultas y transformaciones de datos\n",
    "\n",
    "\n",
    "3. Diseño:\n",
    "\n",
    "- Mantener una interfaz limpia y ordenada\n",
    "- Usar columnas para organizar el contenido\n",
    "- Proporcionar feedback visual al usuario\n",
    "\n",
    "\n",
    "4. Interactividad:\n",
    "\n",
    "- Implementar filtros relevantes\n",
    "- Permitir la exploración de datos\n",
    "- Proporcionar explicaciones claras"
   ]
  },
  {
   "cell_type": "markdown",
   "metadata": {},
   "source": [
    "## Referencias y Recursos\n",
    "\n",
    "- [Documentación oficial de Streamlit](https://docs.streamlit.io/)\n",
    "- [Galería de ejemplos](https://streamlit.io/gallery)\n",
    "- [Cheat sheet de Streamlit](https://docs.streamlit.io/develop/quick-reference/cheat-sheet)"
   ]
  }
 ],
 "metadata": {
  "kernelspec": {
   "display_name": ".venv",
   "language": "python",
   "name": "python3"
  },
  "language_info": {
   "codemirror_mode": {
    "name": "ipython",
    "version": 3
   },
   "file_extension": ".py",
   "mimetype": "text/x-python",
   "name": "python",
   "nbconvert_exporter": "python",
   "pygments_lexer": "ipython3",
   "version": "3.12.5"
  }
 },
 "nbformat": 4,
 "nbformat_minor": 2
}
