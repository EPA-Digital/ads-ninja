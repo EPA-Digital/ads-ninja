{
 "cells": [
  {
   "cell_type": "markdown",
   "metadata": {
    "id": "PKmg3ruSRqxn"
   },
   "source": [
    "# 🚀 Programación Orientada a Objetos (POO) en Python"
   ]
  },
  {
   "cell_type": "markdown",
   "metadata": {
    "id": "wnDVbLj8R3Xi"
   },
   "source": [
    "## 🎯 ¿Qué es la Programación Orientada a Objetos?\n",
    "\n",
    "La POO es una forma de organizar nuestro código pensando en \"objetos\", que son como\n",
    "cajitas que contienen:\n",
    "- Características (atributos)\n",
    "- Acciones que pueden realizar (métodos)\n",
    "\n",
    "## 🦆 Ejemplo del Patito de Hule\n",
    "\n",
    "Imagina un patito de hule. Tiene:\n",
    "- Características: color, tamaño, material\n",
    "- Acciones: flotar, hacer cuack, apretarlo\n",
    "\n",
    "¡Vamos a crear nuestro primer patito!"
   ]
  },
  {
   "cell_type": "code",
   "execution_count": null,
   "metadata": {
    "id": "WeUuSa_cQmfM"
   },
   "outputs": [],
   "source": [
    "class PatitoDeHule:\n",
    "    # Constructor: ¿Cómo \"nace\" nuestro patito?\n",
    "    def __init__(self, color, tamaño):\n",
    "        self.color = color\n",
    "        self.tamaño = tamaño\n",
    "        self.esta_flotando = False\n",
    "\n",
    "    # Métodos: ¿Qué puede hacer nuestro patito?\n",
    "    def hacer_cuack(self):\n",
    "        return \"¡Cuack! 🦆\"\n",
    "\n",
    "    def flotar(self):\n",
    "        self.esta_flotando = True\n",
    "        return f\"El patito {self.color} está flotando 🌊\""
   ]
  },
  {
   "cell_type": "code",
   "execution_count": 4,
   "metadata": {
    "colab": {
     "base_uri": "https://localhost:8080/"
    },
    "id": "IpLDDs9VSHT0",
    "outputId": "d01fb44c-eed9-4295-959d-c393c65d27be"
   },
   "outputs": [
    {
     "name": "stdout",
     "output_type": "stream",
     "text": [
      "¡Cuack! 🦆\n",
      "El patito amarillo está flotando 🌊\n"
     ]
    }
   ],
   "source": [
    "# Probemos nuestro patito\n",
    "mi_patito = PatitoDeHule(\"amarillo\", \"pequeño\")\n",
    "print(mi_patito.hacer_cuack())\n",
    "print(mi_patito.flotar())"
   ]
  },
  {
   "cell_type": "markdown",
   "metadata": {
    "id": "edH-qipESFTA"
   },
   "source": [
    "# 🏛️ Los 4 Pilares de la POO\n",
    "\n",
    "## 1. Encapsulamiento - \"El Escudo Protector\" 🛡️\n",
    "Imagina que el patito tiene un mecanismo interno que no queremos que nadie toque\n",
    "directamente. Lo protegemos con '_' (protegido) o '__' (privado)."
   ]
  },
  {
   "cell_type": "code",
   "execution_count": 5,
   "metadata": {
    "colab": {
     "base_uri": "https://localhost:8080/",
     "height": 193
    },
    "id": "UMoTtiwOSDvm",
    "outputId": "5aa8c27a-8a4e-4cba-83aa-5553aedb8494"
   },
   "outputs": [
    {
     "name": "stdout",
     "output_type": "stream",
     "text": [
      "El mecanismo es: secreto\n"
     ]
    }
   ],
   "source": [
    "# Ejemplo de Encapsulamiento\n",
    "class PatitoProtegido:\n",
    "    def __init__(self):\n",
    "        self._mecanismo_interno = \"secreto\"  # Protegido\n",
    "        self.__super_secreto = \"muy secreto\"  # Privado\n",
    "\n",
    "    def revelar_mecanismo(self):\n",
    "        return f\"El mecanismo es: {self._mecanismo_interno}\"\n",
    "\n",
    "patito_protegido = PatitoProtegido()\n",
    "#print(patito_protegido.__super_secreto)  # ❌ Esto dará error\n",
    "print(patito_protegido.revelar_mecanismo())  # ✅ Esto funciona"
   ]
  },
  {
   "cell_type": "markdown",
   "metadata": {
    "id": "9vrGK3sQSbAf"
   },
   "source": [
    "## 2. Herencia - \"La Familia de Patitos\" 👨‍👩‍👧‍👦\n",
    "Los patitos pueden tener \"hijos\" que heredan sus características y pueden\n",
    "tener nuevos metodos o atributos"
   ]
  },
  {
   "cell_type": "code",
   "execution_count": 6,
   "metadata": {
    "id": "18zdDcs4SRJr"
   },
   "outputs": [],
   "source": [
    "# Ejemplo de Herencia\n",
    "class PatitoSuper(PatitoDeHule):\n",
    "    def __init__(self, color, tamaño, superpoder):\n",
    "        # Heredamos las características del patito normal\n",
    "        super().__init__(color, tamaño)\n",
    "        # Agregamos el superpoder\n",
    "        self.superpoder = superpoder\n",
    "\n",
    "    def usar_superpoder(self):\n",
    "        return f\"¡El patito está usando su poder de {self.superpoder}! ⚡️\""
   ]
  },
  {
   "cell_type": "code",
   "execution_count": 7,
   "metadata": {
    "colab": {
     "base_uri": "https://localhost:8080/"
    },
    "id": "QH4dOl7RSiKs",
    "outputId": "e308107d-e82e-4baf-a166-ea28f358d0f5"
   },
   "outputs": [
    {
     "name": "stdout",
     "output_type": "stream",
     "text": [
      "¡Cuack! 🦆\n",
      "¡El patito está usando su poder de volar! ⚡️\n"
     ]
    }
   ],
   "source": [
    "# Creamos un super patito\n",
    "patito_heroico = PatitoSuper(\"dorado\", \"mediano\", \"volar\")\n",
    "print(patito_heroico.hacer_cuack())  # Método heredado\n",
    "print(patito_heroico.usar_superpoder())  # Método nuevo"
   ]
  },
  {
   "cell_type": "markdown",
   "metadata": {
    "id": "-SKgv9k9S0oD"
   },
   "source": [
    "## 3. Polimorfismo - \"Diferentes Patitos, Diferentes Sonidos\" 🔊\n",
    "Cada tipo de patito puede hacer las mismas acciones pero a su manera."
   ]
  },
  {
   "cell_type": "code",
   "execution_count": 8,
   "metadata": {
    "id": "l8vcllywSoY6"
   },
   "outputs": [],
   "source": [
    "# Ejemplo de Polimorfismo\n",
    "class PatitoRocker(PatitoDeHule):\n",
    "    def hacer_cuack(self):  # Mismo método, diferente comportamiento\n",
    "        return \"¡Cuack and Roll! 🎸\"\n",
    "\n",
    "class PatitoBebe(PatitoDeHule):\n",
    "    def hacer_cuack(self):\n",
    "        return \"¡Cui cui! 🐥\""
   ]
  },
  {
   "cell_type": "code",
   "execution_count": 9,
   "metadata": {
    "colab": {
     "base_uri": "https://localhost:8080/"
    },
    "id": "FU6vtKF2S5Bv",
    "outputId": "6592c144-156d-4fdc-d492-dc23b90f03ab"
   },
   "outputs": [
    {
     "name": "stdout",
     "output_type": "stream",
     "text": [
      "Este patito dice: ¡Cuack! 🦆\n",
      "Este patito dice: ¡Cuack and Roll! 🎸\n",
      "Este patito dice: ¡Cui cui! 🐥\n"
     ]
    }
   ],
   "source": [
    "# Creamos diferentes patitos\n",
    "patito_normal = PatitoDeHule(\"amarillo\", \"mediano\")\n",
    "patito_rocker = PatitoRocker(\"negro\", \"grande\")\n",
    "patito_bebe = PatitoBebe(\"amarillo\", \"pequeño\")\n",
    "\n",
    "# Cada uno hace su sonido a su manera\n",
    "for patito in [patito_normal, patito_rocker, patito_bebe]:\n",
    "    print(f\"Este patito dice: {patito.hacer_cuack()}\")"
   ]
  },
  {
   "cell_type": "markdown",
   "metadata": {
    "id": "1pHLYVUwTAl_"
   },
   "source": [
    "## 4. Abstracción - \"Solo necesitas saber que funciona\" 🎯\n",
    "No necesitas saber CÓMO el patito flota, solo que PUEDE flotar."
   ]
  },
  {
   "cell_type": "code",
   "execution_count": 10,
   "metadata": {
    "id": "IQMDI10cS9UB"
   },
   "outputs": [],
   "source": [
    "class PatitoModerno:\n",
    "    def __init__(self):\n",
    "        self.__sistema_flotacion = \"Tecnología avanzada de flotación\"\n",
    "\n",
    "    def flotar(self):\n",
    "        # El usuario no necesita saber cómo funciona el sistema\n",
    "        return \"¡El patito está flotando! 🌊\""
   ]
  },
  {
   "cell_type": "code",
   "execution_count": 11,
   "metadata": {
    "colab": {
     "base_uri": "https://localhost:8080/"
    },
    "id": "1_qKfz1kTEfs",
    "outputId": "7b0d93e2-372b-413c-bf67-f965c6574ccf"
   },
   "outputs": [
    {
     "name": "stdout",
     "output_type": "stream",
     "text": [
      "¡El patito está flotando! 🌊\n"
     ]
    }
   ],
   "source": [
    "patito_abstracto = PatitoModerno()\n",
    "print(patito_abstracto.flotar())"
   ]
  },
  {
   "cell_type": "markdown",
   "metadata": {
    "id": "Q10uEBePTNqR"
   },
   "source": [
    "## 💡 Ejercicios Prácticos\n",
    "\n",
    "1. Crea tu propio patito con:\n",
    "   - Al menos 2 atributos\n",
    "   - Al menos 2 métodos\n",
    "2. Haz que tu patito herede de PatitoDeHule\n",
    "3. Agrega un método especial a tu patito"
   ]
  },
  {
   "cell_type": "code",
   "execution_count": null,
   "metadata": {
    "id": "mv_PvnYkTK8b"
   },
   "outputs": [],
   "source": [
    "# Espacio para tu código\n",
    "class MiPatito(PatitoDeHule):\n",
    "    # Tu código aquí\n",
    "    pass"
   ]
  },
  {
   "cell_type": "markdown",
   "metadata": {
    "id": "0Vyk1rXGTWeY"
   },
   "source": [
    "# 🎯 Ejemplo Real 1: Sistema de Campañas de Marketing\n",
    "Ahora que entendemos los conceptos básicos, vamos a ver cómo se aplican\n",
    "en un caso real de marketing digital."
   ]
  },
  {
   "cell_type": "code",
   "execution_count": null,
   "metadata": {
    "id": "_Q6vPs1GTaV2"
   },
   "outputs": [],
   "source": [
    "# Sistema de Campañas de Marketing\n",
    "class Campaña:\n",
    "    def __init__(self, nombre, presupuesto, plataforma):\n",
    "        self.nombre = nombre\n",
    "        self._presupuesto = presupuesto  # Encapsulamiento\n",
    "        self.plataforma = plataforma\n",
    "        self.metricas = {\n",
    "            'impresiones': 0,\n",
    "            'clics': 0\n",
    "        }\n",
    "\n",
    "    def actualizar_metricas(self, impresiones, clics):\n",
    "        self.metricas['impresiones'] = impresiones\n",
    "        self.metricas['clics'] = clics\n",
    "\n",
    "    def obtener_ctr(self):\n",
    "        if self.metricas['impresiones'] == 0:\n",
    "            return 0\n",
    "        return (self.metricas['clics'] / self.metricas['impresiones']) * 100"
   ]
  },
  {
   "cell_type": "code",
   "execution_count": null,
   "metadata": {
    "id": "nPDr5iGvTzeh"
   },
   "outputs": [],
   "source": [
    "# Herencia en acción\n",
    "class CampañaFacebook(Campaña):\n",
    "    def __init__(self, nombre, presupuesto, tipo_anuncio):\n",
    "        super().__init__(nombre, presupuesto, \"Facebook\")\n",
    "        self.tipo_anuncio = tipo_anuncio\n",
    "\n",
    "    def obtener_rendimiento(self):\n",
    "        return f\"Campaña FB '{self.nombre}' - CTR: {self.obtener_ctr():.2f}%\""
   ]
  },
  {
   "cell_type": "code",
   "execution_count": null,
   "metadata": {
    "colab": {
     "base_uri": "https://localhost:8080/"
    },
    "id": "XZsFz0D-T4xw",
    "outputId": "bc6e4a98-a84e-4c93-8b41-0db75cd01827"
   },
   "outputs": [],
   "source": [
    "# Probemos el sistema\n",
    "mi_campaña = CampañaFacebook(\"Promo Verano\", 1000, \"Carrusel\")\n",
    "mi_campaña.actualizar_metricas(1000, 100)\n",
    "print(mi_campaña.obtener_rendimiento())"
   ]
  },
  {
   "cell_type": "markdown",
   "metadata": {
    "id": "xMtcM1TDT7bL"
   },
   "source": [
    "## 🎯 Ejercicios Practicos\n",
    "Crea una clase CampañaGoogle que herede de Campaña y tenga:\n",
    "1. Un atributo adicional para palabras clave\n",
    "2. Un método para agregar nuevas palabras clave\n",
    "3. Su propia versión del método obtener_rendimiento\n",
    "\n",
    "¡Buena suerte! 🚀"
   ]
  },
  {
   "cell_type": "code",
   "execution_count": null,
   "metadata": {
    "id": "aPeZ7NEST7v3"
   },
   "outputs": [],
   "source": [
    "# Tu código aquí\n",
    "class CampañaGoogle(Campaña):\n",
    "    # Tu implementación\n",
    "    pass"
   ]
  },
  {
   "cell_type": "markdown",
   "metadata": {
    "id": "_tbGLw05VmCU"
   },
   "source": [
    "# 🚀 Ejemplo Real 2: Análisis de Datos Publicitarios"
   ]
  },
  {
   "cell_type": "code",
   "execution_count": null,
   "metadata": {
    "id": "Jx7RpYbeT-z4"
   },
   "outputs": [],
   "source": [
    "# Instalamos las dependencias necesarias\n",
    "#!pip install polars plotly\n",
    "\n",
    "import polars as pl\n",
    "import plotly.express as px\n",
    "from datetime import datetime, timedelta\n",
    "import random"
   ]
  },
  {
   "cell_type": "markdown",
   "metadata": {
    "id": "yHoYO5xLV16F"
   },
   "source": [
    "## 📊 Creación de Datos de Ejemplo\n",
    "Primero, vamos a crear datos que simulen campañas reales"
   ]
  },
  {
   "cell_type": "code",
   "execution_count": null,
   "metadata": {
    "id": "ApRMLbPcVle8"
   },
   "outputs": [],
   "source": [
    "# Función para generar datos de ejemplo\n",
    "def generar_datos_ejemplo():\n",
    "    # Fechas para los últimos 30 días\n",
    "    fechas = [(datetime.now() - timedelta(days=x)).strftime('%Y-%m-%d')\n",
    "              for x in range(30)]\n",
    "\n",
    "    # Datos para Google Ads\n",
    "    google_data = {\n",
    "        'fecha': fechas,\n",
    "        'plataforma': ['Google Ads'] * 30,\n",
    "        'campaña': ['Busqueda Brand'] * 15 + ['Busqueda Competencia'] * 15,\n",
    "        'impresiones': [random.randint(1000, 5000) for _ in range(30)],\n",
    "        'clics': [random.randint(50, 200) for _ in range(30)],\n",
    "        'conversiones': [random.randint(1, 20) for _ in range(30)],\n",
    "        'costo': [random.uniform(100, 500) for _ in range(30)]\n",
    "    }\n",
    "\n",
    "    # Datos para Facebook\n",
    "    facebook_data = {\n",
    "        'fecha': fechas,\n",
    "        'plataforma': ['Facebook'] * 30,\n",
    "        'campaña': ['Awareness'] * 15 + ['Conversion'] * 15,\n",
    "        'impresiones': [random.randint(5000, 15000) for _ in range(30)],\n",
    "        'clics': [random.randint(100, 500) for _ in range(30)],\n",
    "        'conversiones': [random.randint(5, 50) for _ in range(30)],\n",
    "        'costo': [random.uniform(200, 800) for _ in range(30)]\n",
    "    }\n",
    "\n",
    "    # Crear DataFrames de Polars\n",
    "    df_google = pl.DataFrame(google_data)\n",
    "    df_facebook = pl.DataFrame(facebook_data)\n",
    "\n",
    "    # Combinar los datos\n",
    "    return pl.concat([df_google, df_facebook])\n",
    "\n",
    "# Generamos los datos\n",
    "df_campañas = generar_datos_ejemplo()"
   ]
  },
  {
   "cell_type": "code",
   "execution_count": null,
   "metadata": {
    "colab": {
     "base_uri": "https://localhost:8080/",
     "height": 443
    },
    "id": "tFlU8Vf9eMer",
    "outputId": "8b6abee4-1ac0-4d8b-9a3a-c43362e6c321"
   },
   "outputs": [],
   "source": [
    "df_campañas"
   ]
  },
  {
   "cell_type": "markdown",
   "metadata": {
    "id": "LwcZ0d2xV_J3"
   },
   "source": [
    "## 🎯 Implementación de Clases para Análisis\n",
    "Ahora vamos a crear clases que nos ayuden a analizar estos datos"
   ]
  },
  {
   "cell_type": "code",
   "execution_count": null,
   "metadata": {
    "id": "R8hujB8nV7mB"
   },
   "outputs": [],
   "source": [
    "class AnalizadorCampañas:\n",
    "    \"\"\"Clase base para análisis de campañas\"\"\"\n",
    "    def __init__(self, df):\n",
    "        self.df = df\n",
    "        self._metricas = {}  # Encapsulamiento\n",
    "\n",
    "    def calcular_metricas_basicas(self):\n",
    "        \"\"\"Método para calcular métricas básicas\"\"\"\n",
    "        self._metricas = {\n",
    "            'total_impresiones': self.df['impresiones'].sum(),\n",
    "            'total_clics': self.df['clics'].sum(),\n",
    "            'total_conversiones': self.df['conversiones'].sum(),\n",
    "            'total_costo': self.df['costo'].sum()\n",
    "        }\n",
    "\n",
    "        # Calculamos CTR y CPA\n",
    "        self._metricas['ctr'] = (self._metricas['total_clics'] /\n",
    "                                self._metricas['total_impresiones'] * 100)\n",
    "        self._metricas['cpa'] = (self._metricas['total_costo'] /\n",
    "                                self._metricas['total_conversiones'])\n",
    "\n",
    "    def obtener_metricas(self):\n",
    "        \"\"\"Método para obtener las métricas calculadas\"\"\"\n",
    "        if not self._metricas:\n",
    "            self.calcular_metricas_basicas()\n",
    "        return self._metricas\n",
    "\n",
    "    def graficar_tendencia_diaria(self, metrica):\n",
    "        \"\"\"Método para graficar tendencia de una métrica\"\"\"\n",
    "        fig = px.line(self.df,\n",
    "                     x='fecha',\n",
    "                     y=metrica,\n",
    "                     color='campaña',\n",
    "                     title=f'Tendencia de {metrica} por campaña')\n",
    "        return fig\n",
    "\n",
    "class AnalizadorGoogle(AnalizadorCampañas):\n",
    "    \"\"\"Clase específica para análisis de Google Ads\"\"\"\n",
    "    def __init__(self, df):\n",
    "        # Filtramos solo datos de Google Ads\n",
    "        df_google = df.filter(pl.col('plataforma') == 'Google Ads')\n",
    "        super().__init__(df_google)\n",
    "\n",
    "    def analisis_search_terms(self):\n",
    "        \"\"\"Método específico para Google Ads\"\"\"\n",
    "        return \"Análisis de Search Terms por implementar\"\n",
    "\n",
    "    def calcular_metricas_especificas(self):\n",
    "        \"\"\"Métricas específicas de Google Ads\"\"\"\n",
    "        self._metricas['impression_share'] = random.uniform(0.5, 0.9)\n",
    "        return self._metricas\n",
    "\n",
    "class AnalizadorFacebook(AnalizadorCampañas):\n",
    "    \"\"\"Clase específica para análisis de Facebook Ads\"\"\"\n",
    "    def __init__(self, df):\n",
    "        # Filtramos solo datos de Facebook\n",
    "        df_facebook = df.filter(pl.col('plataforma') == 'Facebook')\n",
    "        super().__init__(df_facebook)\n",
    "\n",
    "    def analisis_demografico(self):\n",
    "        \"\"\"Método específico para Facebook\"\"\"\n",
    "        return \"Análisis demográfico por implementar\"\n",
    "\n",
    "    def calcular_metricas_especificas(self):\n",
    "        \"\"\"Métricas específicas de Facebook\"\"\"\n",
    "        self._metricas['frequency'] = random.uniform(1.5, 3.0)\n",
    "        return self._metricas"
   ]
  },
  {
   "cell_type": "markdown",
   "metadata": {
    "id": "FEhm5ZjuWUME"
   },
   "source": [
    "## 💡 Ejemplo de Uso\n",
    "Vamos a ver cómo usar estas clases para análisis real"
   ]
  },
  {
   "cell_type": "code",
   "execution_count": null,
   "metadata": {
    "colab": {
     "base_uri": "https://localhost:8080/"
    },
    "id": "ZY-R6Zx5WMrU",
    "outputId": "a82db6fe-98e5-4dfd-cb1a-48eded9704d0"
   },
   "outputs": [],
   "source": [
    "# Crear instancias para cada plataforma\n",
    "google_analyzer = AnalizadorGoogle(df_campañas)\n",
    "facebook_analyzer = AnalizadorFacebook(df_campañas)\n",
    "\n",
    "# Obtener métricas básicas\n",
    "metricas_google = google_analyzer.obtener_metricas()\n",
    "metricas_facebook = facebook_analyzer.obtener_metricas()\n",
    "\n",
    "# Mostrar resultados\n",
    "print(\"\\n📊 Métricas de Google Ads:\")\n",
    "for metrica, valor in metricas_google.items():\n",
    "    if isinstance(valor, float):\n",
    "        print(f\"{metrica}: {valor:.2f}\")\n",
    "    else:\n",
    "        print(f\"{metrica}: {valor}\")\n",
    "\n",
    "print(\"\\n📊 Métricas de Facebook:\")\n",
    "for metrica, valor in metricas_facebook.items():\n",
    "    if isinstance(valor, float):\n",
    "        print(f\"{metrica}: {valor:.2f}\")\n",
    "    else:\n",
    "        print(f\"{metrica}: {valor}\")"
   ]
  },
  {
   "cell_type": "code",
   "execution_count": null,
   "metadata": {
    "colab": {
     "base_uri": "https://localhost:8080/",
     "height": 1000
    },
    "id": "ptWDry1sWdTO",
    "outputId": "d1bc878f-c9cd-485d-f837-fb7505a076a6"
   },
   "outputs": [],
   "source": [
    "# Crear gráficas\n",
    "grafica_clics_google = google_analyzer.graficar_tendencia_diaria('clics')\n",
    "grafica_conv_facebook = facebook_analyzer.graficar_tendencia_diaria('conversiones')\n",
    "\n",
    "# Mostrar gráficas\n",
    "grafica_clics_google.show()\n",
    "grafica_conv_facebook.show()"
   ]
  },
  {
   "cell_type": "markdown",
   "metadata": {
    "id": "MV1YBbxMWlRr"
   },
   "source": [
    "## 🎯 Ejercicios Prácticos\n",
    "\n",
    "1. Modifica la clase AnalizadorCampañas para agregar una nueva métrica:\n",
    "   - Calcula el ROAS\n",
    "   - Agrega un método para encontrar los días con mejor rendimiento\n",
    "\n",
    "2. Crea una nueva clase llamada AnalizadorRendimiento que herede de AnalizadorCampañas:\n",
    "   - Debe comparar el rendimiento entre diferentes campañas\n",
    "   - Agrega un método para identificar las campañas más efectivas\n",
    "\n",
    "3. Implementa un nuevo método de visualización:\n",
    "   - Crea un gráfico de barras para comparar CTR entre campañas\n",
    "   - Agrega la capacidad de comparar múltiples métricas\n",
    "\n",
    "Bonus: ¿Cómo modificarías las clases para manejar datos de TikTok Ads?"
   ]
  },
  {
   "cell_type": "code",
   "execution_count": null,
   "metadata": {
    "id": "Ub44cRseWf4x"
   },
   "outputs": [],
   "source": [
    "class AnalizadorRendimiento(AnalizadorCampañas):\n",
    "    # Tu código aquí\n",
    "    pass"
   ]
  },
  {
   "cell_type": "code",
   "execution_count": null,
   "metadata": {
    "id": "QLkVfnp1Wp7t"
   },
   "outputs": [],
   "source": []
  }
 ],
 "metadata": {
  "colab": {
   "provenance": []
  },
  "kernelspec": {
   "display_name": ".venv",
   "language": "python",
   "name": "python3"
  },
  "language_info": {
   "codemirror_mode": {
    "name": "ipython",
    "version": 3
   },
   "file_extension": ".py",
   "mimetype": "text/x-python",
   "name": "python",
   "nbconvert_exporter": "python",
   "pygments_lexer": "ipython3",
   "version": "3.12.5"
  }
 },
 "nbformat": 4,
 "nbformat_minor": 0
}
