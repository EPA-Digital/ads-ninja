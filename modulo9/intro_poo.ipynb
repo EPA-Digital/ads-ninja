{
  "nbformat": 4,
  "nbformat_minor": 0,
  "metadata": {
    "colab": {
      "provenance": []
    },
    "kernelspec": {
      "name": "python3",
      "display_name": "Python 3"
    },
    "language_info": {
      "name": "python"
    }
  },
  "cells": [
    {
      "cell_type": "markdown",
      "source": [
        "# 🚀 Programación Orientada a Objetos (POO) en Python"
      ],
      "metadata": {
        "id": "PKmg3ruSRqxn"
      }
    },
    {
      "cell_type": "markdown",
      "source": [
        "## 🎯 ¿Qué es la Programación Orientada a Objetos?\n",
        "\n",
        "La POO es una forma de organizar nuestro código pensando en \"objetos\", que son como\n",
        "cajitas que contienen:\n",
        "- Características (atributos)\n",
        "- Acciones que pueden realizar (métodos)\n",
        "\n",
        "## 🦆 Ejemplo del Patito de Hule\n",
        "\n",
        "Imagina un patito de hule. Tiene:\n",
        "- Características: color, tamaño, material\n",
        "- Acciones: flotar, hacer cuack, apretarlo\n",
        "\n",
        "¡Vamos a crear nuestro primer patito!"
      ],
      "metadata": {
        "id": "wnDVbLj8R3Xi"
      }
    },
    {
      "cell_type": "code",
      "execution_count": null,
      "metadata": {
        "id": "WeUuSa_cQmfM"
      },
      "outputs": [],
      "source": [
        "class PatitoDeHule:\n",
        "    # Constructor: ¿Cómo \"nace\" nuestro patito?\n",
        "    def __init__(self, color, tamaño):\n",
        "        self.color = color\n",
        "        self.tamaño = tamaño\n",
        "        self.esta_flotando = False\n",
        "\n",
        "    # Métodos: ¿Qué puede hacer nuestro patito?\n",
        "    def hacer_cuack(self):\n",
        "        return \"¡Cuack! 🦆\"\n",
        "\n",
        "    def flotar(self):\n",
        "        self.esta_flotando = True\n",
        "        return f\"El patito {self.color} está flotando 🌊\""
      ]
    },
    {
      "cell_type": "code",
      "source": [
        "# Probemos nuestro patito\n",
        "mi_patito = PatitoDeHule(\"amarillo\", \"pequeño\")\n",
        "print(mi_patito.hacer_cuack())\n",
        "print(mi_patito.flotar())"
      ],
      "metadata": {
        "colab": {
          "base_uri": "https://localhost:8080/"
        },
        "id": "IpLDDs9VSHT0",
        "outputId": "d01fb44c-eed9-4295-959d-c393c65d27be"
      },
      "execution_count": null,
      "outputs": [
        {
          "output_type": "stream",
          "name": "stdout",
          "text": [
            "¡Cuack! 🦆\n",
            "El patito amarillo está flotando 🌊\n"
          ]
        }
      ]
    },
    {
      "cell_type": "markdown",
      "source": [
        "# 🏛️ Los 4 Pilares de la POO\n",
        "\n",
        "## 1. Encapsulamiento - \"El Escudo Protector\" 🛡️\n",
        "Imagina que el patito tiene un mecanismo interno que no queremos que nadie toque\n",
        "directamente. Lo protegemos con '_' (protegido) o '__' (privado)."
      ],
      "metadata": {
        "id": "edH-qipESFTA"
      }
    },
    {
      "cell_type": "code",
      "source": [
        "# Ejemplo de Encapsulamiento\n",
        "class PatitoProtegido:\n",
        "    def __init__(self):\n",
        "        self._mecanismo_interno = \"secreto\"  # Protegido\n",
        "        self.__super_secreto = \"muy secreto\"  # Privado\n",
        "\n",
        "    def revelar_mecanismo(self):\n",
        "        return f\"El mecanismo es: {self._mecanismo_interno}\"\n",
        "\n",
        "patito_protegido = PatitoProtegido()\n",
        "#print(patito_protegido.__super_secreto)  # ❌ Esto dará error\n",
        "print(patito_protegido.revelar_mecanismo())  # ✅ Esto funciona"
      ],
      "metadata": {
        "colab": {
          "base_uri": "https://localhost:8080/",
          "height": 193
        },
        "id": "UMoTtiwOSDvm",
        "outputId": "5aa8c27a-8a4e-4cba-83aa-5553aedb8494"
      },
      "execution_count": null,
      "outputs": [
        {
          "output_type": "error",
          "ename": "AttributeError",
          "evalue": "'PatitoProtegido' object has no attribute '__super_secreto'",
          "traceback": [
            "\u001b[0;31m---------------------------------------------------------------------------\u001b[0m",
            "\u001b[0;31mAttributeError\u001b[0m                            Traceback (most recent call last)",
            "\u001b[0;32m<ipython-input-25-1465140aac78>\u001b[0m in \u001b[0;36m<cell line: 11>\u001b[0;34m()\u001b[0m\n\u001b[1;32m      9\u001b[0m \u001b[0;34m\u001b[0m\u001b[0m\n\u001b[1;32m     10\u001b[0m \u001b[0mpatito_protegido\u001b[0m \u001b[0;34m=\u001b[0m \u001b[0mPatitoProtegido\u001b[0m\u001b[0;34m(\u001b[0m\u001b[0;34m)\u001b[0m\u001b[0;34m\u001b[0m\u001b[0;34m\u001b[0m\u001b[0m\n\u001b[0;32m---> 11\u001b[0;31m \u001b[0mprint\u001b[0m\u001b[0;34m(\u001b[0m\u001b[0mpatito_protegido\u001b[0m\u001b[0;34m.\u001b[0m\u001b[0m__super_secreto\u001b[0m\u001b[0;34m)\u001b[0m  \u001b[0;31m# ❌ Esto dará error\u001b[0m\u001b[0;34m\u001b[0m\u001b[0;34m\u001b[0m\u001b[0m\n\u001b[0m\u001b[1;32m     12\u001b[0m \u001b[0mprint\u001b[0m\u001b[0;34m(\u001b[0m\u001b[0mpatito_protegido\u001b[0m\u001b[0;34m.\u001b[0m\u001b[0mrevelar_mecanismo\u001b[0m\u001b[0;34m(\u001b[0m\u001b[0;34m)\u001b[0m\u001b[0;34m)\u001b[0m  \u001b[0;31m# ✅ Esto funciona\u001b[0m\u001b[0;34m\u001b[0m\u001b[0;34m\u001b[0m\u001b[0m\n",
            "\u001b[0;31mAttributeError\u001b[0m: 'PatitoProtegido' object has no attribute '__super_secreto'"
          ]
        }
      ]
    },
    {
      "cell_type": "markdown",
      "source": [
        "## 2. Herencia - \"La Familia de Patitos\" 👨‍👩‍👧‍👦\n",
        "Los patitos pueden tener \"hijos\" que heredan sus características y pueden\n",
        "tener nuevos metodos o atributos"
      ],
      "metadata": {
        "id": "9vrGK3sQSbAf"
      }
    },
    {
      "cell_type": "code",
      "source": [
        "# Ejemplo de Herencia\n",
        "class PatitoSuper(PatitoDeHule):\n",
        "    def __init__(self, color, tamaño, superpoder):\n",
        "        # Heredamos las características del patito normal\n",
        "        super().__init__(color, tamaño)\n",
        "        # Agregamos el superpoder\n",
        "        self.superpoder = superpoder\n",
        "\n",
        "    def usar_superpoder(self):\n",
        "        return f\"¡El patito está usando su poder de {self.superpoder}! ⚡️\""
      ],
      "metadata": {
        "id": "18zdDcs4SRJr"
      },
      "execution_count": null,
      "outputs": []
    },
    {
      "cell_type": "code",
      "source": [
        "# Creamos un super patito\n",
        "patito_heroico = PatitoSuper(\"dorado\", \"mediano\", \"volar\")\n",
        "print(patito_heroico.hacer_cuack())  # Método heredado\n",
        "print(patito_heroico.usar_superpoder())  # Método nuevo"
      ],
      "metadata": {
        "colab": {
          "base_uri": "https://localhost:8080/"
        },
        "id": "QH4dOl7RSiKs",
        "outputId": "e308107d-e82e-4baf-a166-ea28f358d0f5"
      },
      "execution_count": null,
      "outputs": [
        {
          "output_type": "stream",
          "name": "stdout",
          "text": [
            "¡Cuack! 🦆\n",
            "¡El patito está usando su poder de volar! ⚡️\n"
          ]
        }
      ]
    },
    {
      "cell_type": "markdown",
      "source": [
        "## 3. Polimorfismo - \"Diferentes Patitos, Diferentes Sonidos\" 🔊\n",
        "Cada tipo de patito puede hacer las mismas acciones pero a su manera."
      ],
      "metadata": {
        "id": "-SKgv9k9S0oD"
      }
    },
    {
      "cell_type": "code",
      "source": [
        "# Ejemplo de Polimorfismo\n",
        "class PatitoRocker(PatitoDeHule):\n",
        "    def hacer_cuack(self):  # Mismo método, diferente comportamiento\n",
        "        return \"¡Cuack and Roll! 🎸\"\n",
        "\n",
        "class PatitoBebe(PatitoDeHule):\n",
        "    def hacer_cuack(self):\n",
        "        return \"¡Cui cui! 🐥\""
      ],
      "metadata": {
        "id": "l8vcllywSoY6"
      },
      "execution_count": null,
      "outputs": []
    },
    {
      "cell_type": "code",
      "source": [
        "# Creamos diferentes patitos\n",
        "patito_normal = PatitoDeHule(\"amarillo\", \"mediano\")\n",
        "patito_rocker = PatitoRocker(\"negro\", \"grande\")\n",
        "patito_bebe = PatitoBebe(\"amarillo\", \"pequeño\")\n",
        "\n",
        "# Cada uno hace su sonido a su manera\n",
        "for patito in [patito_normal, patito_rocker, patito_bebe]:\n",
        "    print(f\"Este patito dice: {patito.hacer_cuack()}\")"
      ],
      "metadata": {
        "colab": {
          "base_uri": "https://localhost:8080/"
        },
        "id": "FU6vtKF2S5Bv",
        "outputId": "6592c144-156d-4fdc-d492-dc23b90f03ab"
      },
      "execution_count": null,
      "outputs": [
        {
          "output_type": "stream",
          "name": "stdout",
          "text": [
            "Este patito dice: ¡Cuack! 🦆\n",
            "Este patito dice: ¡Cuack and Roll! 🎸\n",
            "Este patito dice: ¡Cui cui! 🐥\n"
          ]
        }
      ]
    },
    {
      "cell_type": "markdown",
      "source": [
        "## 4. Abstracción - \"Solo necesitas saber que funciona\" 🎯\n",
        "No necesitas saber CÓMO el patito flota, solo que PUEDE flotar."
      ],
      "metadata": {
        "id": "1pHLYVUwTAl_"
      }
    },
    {
      "cell_type": "code",
      "source": [
        "class PatitoModerno:\n",
        "    def __init__(self):\n",
        "        self.__sistema_flotacion = \"Tecnología avanzada de flotación\"\n",
        "\n",
        "    def flotar(self):\n",
        "        # El usuario no necesita saber cómo funciona el sistema\n",
        "        return \"¡El patito está flotando! 🌊\""
      ],
      "metadata": {
        "id": "IQMDI10cS9UB"
      },
      "execution_count": null,
      "outputs": []
    },
    {
      "cell_type": "code",
      "source": [
        "patito_abstracto = PatitoModerno()\n",
        "print(patito_abstracto.flotar())"
      ],
      "metadata": {
        "colab": {
          "base_uri": "https://localhost:8080/"
        },
        "id": "1_qKfz1kTEfs",
        "outputId": "7b0d93e2-372b-413c-bf67-f965c6574ccf"
      },
      "execution_count": null,
      "outputs": [
        {
          "output_type": "stream",
          "name": "stdout",
          "text": [
            "¡El patito está flotando! 🌊\n"
          ]
        }
      ]
    },
    {
      "cell_type": "markdown",
      "source": [
        "## 💡 Ejercicios Prácticos\n",
        "\n",
        "1. Crea tu propio patito con:\n",
        "   - Al menos 2 atributos\n",
        "   - Al menos 2 métodos\n",
        "2. Haz que tu patito herede de PatitoDeHule\n",
        "3. Agrega un método especial a tu patito"
      ],
      "metadata": {
        "id": "Q10uEBePTNqR"
      }
    },
    {
      "cell_type": "code",
      "source": [
        "# Espacio para tu código\n",
        "class MiPatito(PatitoDeHule):\n",
        "    # Tu código aquí\n",
        "    pass"
      ],
      "metadata": {
        "id": "mv_PvnYkTK8b"
      },
      "execution_count": null,
      "outputs": []
    },
    {
      "cell_type": "markdown",
      "source": [
        "# 🎯 Ejemplo Real 1: Sistema de Campañas de Marketing\n",
        "Ahora que entendemos los conceptos básicos, vamos a ver cómo se aplican\n",
        "en un caso real de marketing digital."
      ],
      "metadata": {
        "id": "0Vyk1rXGTWeY"
      }
    },
    {
      "cell_type": "code",
      "source": [
        "# Sistema de Campañas de Marketing\n",
        "class Campaña:\n",
        "    def __init__(self, nombre, presupuesto, plataforma):\n",
        "        self.nombre = nombre\n",
        "        self._presupuesto = presupuesto  # Encapsulamiento\n",
        "        self.plataforma = plataforma\n",
        "        self.metricas = {\n",
        "            'impresiones': 0,\n",
        "            'clics': 0\n",
        "        }\n",
        "\n",
        "    def actualizar_metricas(self, impresiones, clics):\n",
        "        self.metricas['impresiones'] = impresiones\n",
        "        self.metricas['clics'] = clics\n",
        "\n",
        "    def obtener_ctr(self):\n",
        "        if self.metricas['impresiones'] == 0:\n",
        "            return 0\n",
        "        return (self.metricas['clics'] / self.metricas['impresiones']) * 100"
      ],
      "metadata": {
        "id": "_Q6vPs1GTaV2"
      },
      "execution_count": null,
      "outputs": []
    },
    {
      "cell_type": "code",
      "source": [
        "# Herencia en acción\n",
        "class CampañaFacebook(Campaña):\n",
        "    def __init__(self, nombre, presupuesto, tipo_anuncio):\n",
        "        super().__init__(nombre, presupuesto, \"Facebook\")\n",
        "        self.tipo_anuncio = tipo_anuncio\n",
        "\n",
        "    def obtener_rendimiento(self):\n",
        "        return f\"Campaña FB '{self.nombre}' - CTR: {self.obtener_ctr():.2f}%\""
      ],
      "metadata": {
        "id": "nPDr5iGvTzeh"
      },
      "execution_count": null,
      "outputs": []
    },
    {
      "cell_type": "code",
      "source": [
        "# Probemos el sistema\n",
        "mi_campaña = CampañaFacebook(\"Promo Verano\", 1000, \"Carrusel\")\n",
        "mi_campaña.actualizar_metricas(1000, 100)\n",
        "print(mi_campaña.obtener_rendimiento())"
      ],
      "metadata": {
        "colab": {
          "base_uri": "https://localhost:8080/"
        },
        "id": "XZsFz0D-T4xw",
        "outputId": "bc6e4a98-a84e-4c93-8b41-0db75cd01827"
      },
      "execution_count": null,
      "outputs": [
        {
          "output_type": "stream",
          "name": "stdout",
          "text": [
            "Campaña FB 'Promo Verano' - CTR: 10.00%\n"
          ]
        }
      ]
    },
    {
      "cell_type": "markdown",
      "source": [
        "## 🎯 Ejercicios Practicos\n",
        "Crea una clase CampañaGoogle que herede de Campaña y tenga:\n",
        "1. Un atributo adicional para palabras clave\n",
        "2. Un método para agregar nuevas palabras clave\n",
        "3. Su propia versión del método obtener_rendimiento\n",
        "\n",
        "¡Buena suerte! 🚀"
      ],
      "metadata": {
        "id": "xMtcM1TDT7bL"
      }
    },
    {
      "cell_type": "code",
      "source": [
        "# Tu código aquí\n",
        "class CampañaGoogle(Campaña):\n",
        "    # Tu implementación\n",
        "    pass"
      ],
      "metadata": {
        "id": "aPeZ7NEST7v3"
      },
      "execution_count": null,
      "outputs": []
    },
    {
      "cell_type": "markdown",
      "source": [
        "# 🚀 Ejemplo Real 2: Análisis de Datos Publicitarios"
      ],
      "metadata": {
        "id": "_tbGLw05VmCU"
      }
    },
    {
      "cell_type": "code",
      "source": [
        "# Instalamos las dependencias necesarias\n",
        "#!pip install polars plotly\n",
        "\n",
        "import polars as pl\n",
        "import plotly.express as px\n",
        "from datetime import datetime, timedelta\n",
        "import random"
      ],
      "metadata": {
        "id": "Jx7RpYbeT-z4"
      },
      "execution_count": null,
      "outputs": []
    },
    {
      "cell_type": "markdown",
      "source": [
        "## 📊 Creación de Datos de Ejemplo\n",
        "Primero, vamos a crear datos que simulen campañas reales"
      ],
      "metadata": {
        "id": "yHoYO5xLV16F"
      }
    },
    {
      "cell_type": "code",
      "source": [
        "# Función para generar datos de ejemplo\n",
        "def generar_datos_ejemplo():\n",
        "    # Fechas para los últimos 30 días\n",
        "    fechas = [(datetime.now() - timedelta(days=x)).strftime('%Y-%m-%d')\n",
        "              for x in range(30)]\n",
        "\n",
        "    # Datos para Google Ads\n",
        "    google_data = {\n",
        "        'fecha': fechas,\n",
        "        'plataforma': ['Google Ads'] * 30,\n",
        "        'campaña': ['Busqueda Brand'] * 15 + ['Busqueda Competencia'] * 15,\n",
        "        'impresiones': [random.randint(1000, 5000) for _ in range(30)],\n",
        "        'clics': [random.randint(50, 200) for _ in range(30)],\n",
        "        'conversiones': [random.randint(1, 20) for _ in range(30)],\n",
        "        'costo': [random.uniform(100, 500) for _ in range(30)]\n",
        "    }\n",
        "\n",
        "    # Datos para Facebook\n",
        "    facebook_data = {\n",
        "        'fecha': fechas,\n",
        "        'plataforma': ['Facebook'] * 30,\n",
        "        'campaña': ['Awareness'] * 15 + ['Conversion'] * 15,\n",
        "        'impresiones': [random.randint(5000, 15000) for _ in range(30)],\n",
        "        'clics': [random.randint(100, 500) for _ in range(30)],\n",
        "        'conversiones': [random.randint(5, 50) for _ in range(30)],\n",
        "        'costo': [random.uniform(200, 800) for _ in range(30)]\n",
        "    }\n",
        "\n",
        "    # Crear DataFrames de Polars\n",
        "    df_google = pl.DataFrame(google_data)\n",
        "    df_facebook = pl.DataFrame(facebook_data)\n",
        "\n",
        "    # Combinar los datos\n",
        "    return pl.concat([df_google, df_facebook])\n",
        "\n",
        "# Generamos los datos\n",
        "df_campañas = generar_datos_ejemplo()"
      ],
      "metadata": {
        "id": "ApRMLbPcVle8"
      },
      "execution_count": null,
      "outputs": []
    },
    {
      "cell_type": "code",
      "source": [
        "df_campañas"
      ],
      "metadata": {
        "colab": {
          "base_uri": "https://localhost:8080/",
          "height": 443
        },
        "id": "tFlU8Vf9eMer",
        "outputId": "8b6abee4-1ac0-4d8b-9a3a-c43362e6c321"
      },
      "execution_count": null,
      "outputs": [
        {
          "output_type": "execute_result",
          "data": {
            "text/plain": [
              "shape: (60, 7)\n",
              "┌────────────┬────────────┬────────────────┬─────────────┬───────┬──────────────┬────────────┐\n",
              "│ fecha      ┆ plataforma ┆ campaña        ┆ impresiones ┆ clics ┆ conversiones ┆ costo      │\n",
              "│ ---        ┆ ---        ┆ ---            ┆ ---         ┆ ---   ┆ ---          ┆ ---        │\n",
              "│ str        ┆ str        ┆ str            ┆ i64         ┆ i64   ┆ i64          ┆ f64        │\n",
              "╞════════════╪════════════╪════════════════╪═════════════╪═══════╪══════════════╪════════════╡\n",
              "│ 2024-11-08 ┆ Google Ads ┆ Busqueda Brand ┆ 3463        ┆ 117   ┆ 13           ┆ 166.004958 │\n",
              "│ 2024-11-07 ┆ Google Ads ┆ Busqueda Brand ┆ 4029        ┆ 122   ┆ 19           ┆ 463.252153 │\n",
              "│ 2024-11-06 ┆ Google Ads ┆ Busqueda Brand ┆ 4608        ┆ 83    ┆ 10           ┆ 199.334983 │\n",
              "│ 2024-11-05 ┆ Google Ads ┆ Busqueda Brand ┆ 1456        ┆ 168   ┆ 12           ┆ 149.630159 │\n",
              "│ 2024-11-04 ┆ Google Ads ┆ Busqueda Brand ┆ 1625        ┆ 176   ┆ 8            ┆ 389.03958  │\n",
              "│ …          ┆ …          ┆ …              ┆ …           ┆ …     ┆ …            ┆ …          │\n",
              "│ 2024-10-14 ┆ Facebook   ┆ Conversion     ┆ 6740        ┆ 199   ┆ 18           ┆ 637.752426 │\n",
              "│ 2024-10-13 ┆ Facebook   ┆ Conversion     ┆ 14702       ┆ 487   ┆ 5            ┆ 699.644552 │\n",
              "│ 2024-10-12 ┆ Facebook   ┆ Conversion     ┆ 5334        ┆ 500   ┆ 21           ┆ 363.751935 │\n",
              "│ 2024-10-11 ┆ Facebook   ┆ Conversion     ┆ 11730       ┆ 221   ┆ 45           ┆ 747.623045 │\n",
              "│ 2024-10-10 ┆ Facebook   ┆ Conversion     ┆ 10299       ┆ 294   ┆ 13           ┆ 397.400017 │\n",
              "└────────────┴────────────┴────────────────┴─────────────┴───────┴──────────────┴────────────┘"
            ],
            "text/html": [
              "<div><style>\n",
              ".dataframe > thead > tr,\n",
              ".dataframe > tbody > tr {\n",
              "  text-align: right;\n",
              "  white-space: pre-wrap;\n",
              "}\n",
              "</style>\n",
              "<small>shape: (60, 7)</small><table border=\"1\" class=\"dataframe\"><thead><tr><th>fecha</th><th>plataforma</th><th>campaña</th><th>impresiones</th><th>clics</th><th>conversiones</th><th>costo</th></tr><tr><td>str</td><td>str</td><td>str</td><td>i64</td><td>i64</td><td>i64</td><td>f64</td></tr></thead><tbody><tr><td>&quot;2024-11-08&quot;</td><td>&quot;Google Ads&quot;</td><td>&quot;Busqueda Brand&quot;</td><td>3463</td><td>117</td><td>13</td><td>166.004958</td></tr><tr><td>&quot;2024-11-07&quot;</td><td>&quot;Google Ads&quot;</td><td>&quot;Busqueda Brand&quot;</td><td>4029</td><td>122</td><td>19</td><td>463.252153</td></tr><tr><td>&quot;2024-11-06&quot;</td><td>&quot;Google Ads&quot;</td><td>&quot;Busqueda Brand&quot;</td><td>4608</td><td>83</td><td>10</td><td>199.334983</td></tr><tr><td>&quot;2024-11-05&quot;</td><td>&quot;Google Ads&quot;</td><td>&quot;Busqueda Brand&quot;</td><td>1456</td><td>168</td><td>12</td><td>149.630159</td></tr><tr><td>&quot;2024-11-04&quot;</td><td>&quot;Google Ads&quot;</td><td>&quot;Busqueda Brand&quot;</td><td>1625</td><td>176</td><td>8</td><td>389.03958</td></tr><tr><td>&hellip;</td><td>&hellip;</td><td>&hellip;</td><td>&hellip;</td><td>&hellip;</td><td>&hellip;</td><td>&hellip;</td></tr><tr><td>&quot;2024-10-14&quot;</td><td>&quot;Facebook&quot;</td><td>&quot;Conversion&quot;</td><td>6740</td><td>199</td><td>18</td><td>637.752426</td></tr><tr><td>&quot;2024-10-13&quot;</td><td>&quot;Facebook&quot;</td><td>&quot;Conversion&quot;</td><td>14702</td><td>487</td><td>5</td><td>699.644552</td></tr><tr><td>&quot;2024-10-12&quot;</td><td>&quot;Facebook&quot;</td><td>&quot;Conversion&quot;</td><td>5334</td><td>500</td><td>21</td><td>363.751935</td></tr><tr><td>&quot;2024-10-11&quot;</td><td>&quot;Facebook&quot;</td><td>&quot;Conversion&quot;</td><td>11730</td><td>221</td><td>45</td><td>747.623045</td></tr><tr><td>&quot;2024-10-10&quot;</td><td>&quot;Facebook&quot;</td><td>&quot;Conversion&quot;</td><td>10299</td><td>294</td><td>13</td><td>397.400017</td></tr></tbody></table></div>"
            ]
          },
          "metadata": {},
          "execution_count": 39
        }
      ]
    },
    {
      "cell_type": "markdown",
      "source": [
        "## 🎯 Implementación de Clases para Análisis\n",
        "Ahora vamos a crear clases que nos ayuden a analizar estos datos"
      ],
      "metadata": {
        "id": "LwcZ0d2xV_J3"
      }
    },
    {
      "cell_type": "code",
      "source": [
        "class AnalizadorCampañas:\n",
        "    \"\"\"Clase base para análisis de campañas\"\"\"\n",
        "    def __init__(self, df):\n",
        "        self.df = df\n",
        "        self._metricas = {}  # Encapsulamiento\n",
        "\n",
        "    def calcular_metricas_basicas(self):\n",
        "        \"\"\"Método para calcular métricas básicas\"\"\"\n",
        "        self._metricas = {\n",
        "            'total_impresiones': self.df['impresiones'].sum(),\n",
        "            'total_clics': self.df['clics'].sum(),\n",
        "            'total_conversiones': self.df['conversiones'].sum(),\n",
        "            'total_costo': self.df['costo'].sum()\n",
        "        }\n",
        "\n",
        "        # Calculamos CTR y CPA\n",
        "        self._metricas['ctr'] = (self._metricas['total_clics'] /\n",
        "                                self._metricas['total_impresiones'] * 100)\n",
        "        self._metricas['cpa'] = (self._metricas['total_costo'] /\n",
        "                                self._metricas['total_conversiones'])\n",
        "\n",
        "    def obtener_metricas(self):\n",
        "        \"\"\"Método para obtener las métricas calculadas\"\"\"\n",
        "        if not self._metricas:\n",
        "            self.calcular_metricas_basicas()\n",
        "        return self._metricas\n",
        "\n",
        "    def graficar_tendencia_diaria(self, metrica):\n",
        "        \"\"\"Método para graficar tendencia de una métrica\"\"\"\n",
        "        fig = px.line(self.df,\n",
        "                     x='fecha',\n",
        "                     y=metrica,\n",
        "                     color='campaña',\n",
        "                     title=f'Tendencia de {metrica} por campaña')\n",
        "        return fig\n",
        "\n",
        "class AnalizadorGoogle(AnalizadorCampañas):\n",
        "    \"\"\"Clase específica para análisis de Google Ads\"\"\"\n",
        "    def __init__(self, df):\n",
        "        # Filtramos solo datos de Google Ads\n",
        "        df_google = df.filter(pl.col('plataforma') == 'Google Ads')\n",
        "        super().__init__(df_google)\n",
        "\n",
        "    def analisis_search_terms(self):\n",
        "        \"\"\"Método específico para Google Ads\"\"\"\n",
        "        return \"Análisis de Search Terms por implementar\"\n",
        "\n",
        "    def calcular_metricas_especificas(self):\n",
        "        \"\"\"Métricas específicas de Google Ads\"\"\"\n",
        "        self._metricas['impression_share'] = random.uniform(0.5, 0.9)\n",
        "        return self._metricas\n",
        "\n",
        "class AnalizadorFacebook(AnalizadorCampañas):\n",
        "    \"\"\"Clase específica para análisis de Facebook Ads\"\"\"\n",
        "    def __init__(self, df):\n",
        "        # Filtramos solo datos de Facebook\n",
        "        df_facebook = df.filter(pl.col('plataforma') == 'Facebook')\n",
        "        super().__init__(df_facebook)\n",
        "\n",
        "    def analisis_demografico(self):\n",
        "        \"\"\"Método específico para Facebook\"\"\"\n",
        "        return \"Análisis demográfico por implementar\"\n",
        "\n",
        "    def calcular_metricas_especificas(self):\n",
        "        \"\"\"Métricas específicas de Facebook\"\"\"\n",
        "        self._metricas['frequency'] = random.uniform(1.5, 3.0)\n",
        "        return self._metricas"
      ],
      "metadata": {
        "id": "R8hujB8nV7mB"
      },
      "execution_count": null,
      "outputs": []
    },
    {
      "cell_type": "markdown",
      "source": [
        "## 💡 Ejemplo de Uso\n",
        "Vamos a ver cómo usar estas clases para análisis real"
      ],
      "metadata": {
        "id": "FEhm5ZjuWUME"
      }
    },
    {
      "cell_type": "code",
      "source": [
        "# Crear instancias para cada plataforma\n",
        "google_analyzer = AnalizadorGoogle(df_campañas)\n",
        "facebook_analyzer = AnalizadorFacebook(df_campañas)\n",
        "\n",
        "# Obtener métricas básicas\n",
        "metricas_google = google_analyzer.obtener_metricas()\n",
        "metricas_facebook = facebook_analyzer.obtener_metricas()\n",
        "\n",
        "# Mostrar resultados\n",
        "print(\"\\n📊 Métricas de Google Ads:\")\n",
        "for metrica, valor in metricas_google.items():\n",
        "    if isinstance(valor, float):\n",
        "        print(f\"{metrica}: {valor:.2f}\")\n",
        "    else:\n",
        "        print(f\"{metrica}: {valor}\")\n",
        "\n",
        "print(\"\\n📊 Métricas de Facebook:\")\n",
        "for metrica, valor in metricas_facebook.items():\n",
        "    if isinstance(valor, float):\n",
        "        print(f\"{metrica}: {valor:.2f}\")\n",
        "    else:\n",
        "        print(f\"{metrica}: {valor}\")"
      ],
      "metadata": {
        "colab": {
          "base_uri": "https://localhost:8080/"
        },
        "id": "ZY-R6Zx5WMrU",
        "outputId": "a82db6fe-98e5-4dfd-cb1a-48eded9704d0"
      },
      "execution_count": null,
      "outputs": [
        {
          "output_type": "stream",
          "name": "stdout",
          "text": [
            "\n",
            "📊 Métricas de Google Ads:\n",
            "total_impresiones: 87509\n",
            "total_clics: 3802\n",
            "total_conversiones: 263\n",
            "total_costo: 9159.30\n",
            "ctr: 4.34\n",
            "cpa: 34.83\n",
            "\n",
            "📊 Métricas de Facebook:\n",
            "total_impresiones: 308084\n",
            "total_clics: 9156\n",
            "total_conversiones: 681\n",
            "total_costo: 15030.93\n",
            "ctr: 2.97\n",
            "cpa: 22.07\n"
          ]
        }
      ]
    },
    {
      "cell_type": "code",
      "source": [
        "# Crear gráficas\n",
        "grafica_clics_google = google_analyzer.graficar_tendencia_diaria('clics')\n",
        "grafica_conv_facebook = facebook_analyzer.graficar_tendencia_diaria('conversiones')\n",
        "\n",
        "# Mostrar gráficas\n",
        "grafica_clics_google.show()\n",
        "grafica_conv_facebook.show()"
      ],
      "metadata": {
        "colab": {
          "base_uri": "https://localhost:8080/",
          "height": 1000
        },
        "id": "ptWDry1sWdTO",
        "outputId": "d1bc878f-c9cd-485d-f837-fb7505a076a6"
      },
      "execution_count": null,
      "outputs": [
        {
          "output_type": "display_data",
          "data": {
            "text/html": [
              "<html>\n",
              "<head><meta charset=\"utf-8\" /></head>\n",
              "<body>\n",
              "    <div>            <script src=\"https://cdnjs.cloudflare.com/ajax/libs/mathjax/2.7.5/MathJax.js?config=TeX-AMS-MML_SVG\"></script><script type=\"text/javascript\">if (window.MathJax && window.MathJax.Hub && window.MathJax.Hub.Config) {window.MathJax.Hub.Config({SVG: {font: \"STIX-Web\"}});}</script>                <script type=\"text/javascript\">window.PlotlyConfig = {MathJaxConfig: 'local'};</script>\n",
              "        <script charset=\"utf-8\" src=\"https://cdn.plot.ly/plotly-2.35.2.min.js\"></script>                <div id=\"f62f9ce0-6847-4280-a896-6fba6060c6f9\" class=\"plotly-graph-div\" style=\"height:525px; width:100%;\"></div>            <script type=\"text/javascript\">                                    window.PLOTLYENV=window.PLOTLYENV || {};                                    if (document.getElementById(\"f62f9ce0-6847-4280-a896-6fba6060c6f9\")) {                    Plotly.newPlot(                        \"f62f9ce0-6847-4280-a896-6fba6060c6f9\",                        [{\"hovertemplate\":\"campaña=Busqueda Brand\\u003cbr\\u003efecha=%{x}\\u003cbr\\u003eclics=%{y}\\u003cextra\\u003e\\u003c\\u002fextra\\u003e\",\"legendgroup\":\"Busqueda Brand\",\"line\":{\"color\":\"#636efa\",\"dash\":\"solid\"},\"marker\":{\"symbol\":\"circle\"},\"mode\":\"lines\",\"name\":\"Busqueda Brand\",\"orientation\":\"v\",\"showlegend\":true,\"x\":[\"2024-11-08\",\"2024-11-07\",\"2024-11-06\",\"2024-11-05\",\"2024-11-04\",\"2024-11-03\",\"2024-11-02\",\"2024-11-01\",\"2024-10-31\",\"2024-10-30\",\"2024-10-29\",\"2024-10-28\",\"2024-10-27\",\"2024-10-26\",\"2024-10-25\"],\"xaxis\":\"x\",\"y\":[117,122,83,168,176,87,57,91,61,198,127,100,175,93,121],\"yaxis\":\"y\",\"type\":\"scatter\"},{\"hovertemplate\":\"campaña=Busqueda Competencia\\u003cbr\\u003efecha=%{x}\\u003cbr\\u003eclics=%{y}\\u003cextra\\u003e\\u003c\\u002fextra\\u003e\",\"legendgroup\":\"Busqueda Competencia\",\"line\":{\"color\":\"#EF553B\",\"dash\":\"solid\"},\"marker\":{\"symbol\":\"circle\"},\"mode\":\"lines\",\"name\":\"Busqueda Competencia\",\"orientation\":\"v\",\"showlegend\":true,\"x\":[\"2024-10-24\",\"2024-10-23\",\"2024-10-22\",\"2024-10-21\",\"2024-10-20\",\"2024-10-19\",\"2024-10-18\",\"2024-10-17\",\"2024-10-16\",\"2024-10-15\",\"2024-10-14\",\"2024-10-13\",\"2024-10-12\",\"2024-10-11\",\"2024-10-10\"],\"xaxis\":\"x\",\"y\":[186,54,158,162,87,111,53,176,151,146,143,200,51,167,181],\"yaxis\":\"y\",\"type\":\"scatter\"}],                        {\"template\":{\"data\":{\"histogram2dcontour\":[{\"type\":\"histogram2dcontour\",\"colorbar\":{\"outlinewidth\":0,\"ticks\":\"\"},\"colorscale\":[[0.0,\"#0d0887\"],[0.1111111111111111,\"#46039f\"],[0.2222222222222222,\"#7201a8\"],[0.3333333333333333,\"#9c179e\"],[0.4444444444444444,\"#bd3786\"],[0.5555555555555556,\"#d8576b\"],[0.6666666666666666,\"#ed7953\"],[0.7777777777777778,\"#fb9f3a\"],[0.8888888888888888,\"#fdca26\"],[1.0,\"#f0f921\"]]}],\"choropleth\":[{\"type\":\"choropleth\",\"colorbar\":{\"outlinewidth\":0,\"ticks\":\"\"}}],\"histogram2d\":[{\"type\":\"histogram2d\",\"colorbar\":{\"outlinewidth\":0,\"ticks\":\"\"},\"colorscale\":[[0.0,\"#0d0887\"],[0.1111111111111111,\"#46039f\"],[0.2222222222222222,\"#7201a8\"],[0.3333333333333333,\"#9c179e\"],[0.4444444444444444,\"#bd3786\"],[0.5555555555555556,\"#d8576b\"],[0.6666666666666666,\"#ed7953\"],[0.7777777777777778,\"#fb9f3a\"],[0.8888888888888888,\"#fdca26\"],[1.0,\"#f0f921\"]]}],\"heatmap\":[{\"type\":\"heatmap\",\"colorbar\":{\"outlinewidth\":0,\"ticks\":\"\"},\"colorscale\":[[0.0,\"#0d0887\"],[0.1111111111111111,\"#46039f\"],[0.2222222222222222,\"#7201a8\"],[0.3333333333333333,\"#9c179e\"],[0.4444444444444444,\"#bd3786\"],[0.5555555555555556,\"#d8576b\"],[0.6666666666666666,\"#ed7953\"],[0.7777777777777778,\"#fb9f3a\"],[0.8888888888888888,\"#fdca26\"],[1.0,\"#f0f921\"]]}],\"heatmapgl\":[{\"type\":\"heatmapgl\",\"colorbar\":{\"outlinewidth\":0,\"ticks\":\"\"},\"colorscale\":[[0.0,\"#0d0887\"],[0.1111111111111111,\"#46039f\"],[0.2222222222222222,\"#7201a8\"],[0.3333333333333333,\"#9c179e\"],[0.4444444444444444,\"#bd3786\"],[0.5555555555555556,\"#d8576b\"],[0.6666666666666666,\"#ed7953\"],[0.7777777777777778,\"#fb9f3a\"],[0.8888888888888888,\"#fdca26\"],[1.0,\"#f0f921\"]]}],\"contourcarpet\":[{\"type\":\"contourcarpet\",\"colorbar\":{\"outlinewidth\":0,\"ticks\":\"\"}}],\"contour\":[{\"type\":\"contour\",\"colorbar\":{\"outlinewidth\":0,\"ticks\":\"\"},\"colorscale\":[[0.0,\"#0d0887\"],[0.1111111111111111,\"#46039f\"],[0.2222222222222222,\"#7201a8\"],[0.3333333333333333,\"#9c179e\"],[0.4444444444444444,\"#bd3786\"],[0.5555555555555556,\"#d8576b\"],[0.6666666666666666,\"#ed7953\"],[0.7777777777777778,\"#fb9f3a\"],[0.8888888888888888,\"#fdca26\"],[1.0,\"#f0f921\"]]}],\"surface\":[{\"type\":\"surface\",\"colorbar\":{\"outlinewidth\":0,\"ticks\":\"\"},\"colorscale\":[[0.0,\"#0d0887\"],[0.1111111111111111,\"#46039f\"],[0.2222222222222222,\"#7201a8\"],[0.3333333333333333,\"#9c179e\"],[0.4444444444444444,\"#bd3786\"],[0.5555555555555556,\"#d8576b\"],[0.6666666666666666,\"#ed7953\"],[0.7777777777777778,\"#fb9f3a\"],[0.8888888888888888,\"#fdca26\"],[1.0,\"#f0f921\"]]}],\"mesh3d\":[{\"type\":\"mesh3d\",\"colorbar\":{\"outlinewidth\":0,\"ticks\":\"\"}}],\"scatter\":[{\"fillpattern\":{\"fillmode\":\"overlay\",\"size\":10,\"solidity\":0.2},\"type\":\"scatter\"}],\"parcoords\":[{\"type\":\"parcoords\",\"line\":{\"colorbar\":{\"outlinewidth\":0,\"ticks\":\"\"}}}],\"scatterpolargl\":[{\"type\":\"scatterpolargl\",\"marker\":{\"colorbar\":{\"outlinewidth\":0,\"ticks\":\"\"}}}],\"bar\":[{\"error_x\":{\"color\":\"#2a3f5f\"},\"error_y\":{\"color\":\"#2a3f5f\"},\"marker\":{\"line\":{\"color\":\"#E5ECF6\",\"width\":0.5},\"pattern\":{\"fillmode\":\"overlay\",\"size\":10,\"solidity\":0.2}},\"type\":\"bar\"}],\"scattergeo\":[{\"type\":\"scattergeo\",\"marker\":{\"colorbar\":{\"outlinewidth\":0,\"ticks\":\"\"}}}],\"scatterpolar\":[{\"type\":\"scatterpolar\",\"marker\":{\"colorbar\":{\"outlinewidth\":0,\"ticks\":\"\"}}}],\"histogram\":[{\"marker\":{\"pattern\":{\"fillmode\":\"overlay\",\"size\":10,\"solidity\":0.2}},\"type\":\"histogram\"}],\"scattergl\":[{\"type\":\"scattergl\",\"marker\":{\"colorbar\":{\"outlinewidth\":0,\"ticks\":\"\"}}}],\"scatter3d\":[{\"type\":\"scatter3d\",\"line\":{\"colorbar\":{\"outlinewidth\":0,\"ticks\":\"\"}},\"marker\":{\"colorbar\":{\"outlinewidth\":0,\"ticks\":\"\"}}}],\"scattermapbox\":[{\"type\":\"scattermapbox\",\"marker\":{\"colorbar\":{\"outlinewidth\":0,\"ticks\":\"\"}}}],\"scatterternary\":[{\"type\":\"scatterternary\",\"marker\":{\"colorbar\":{\"outlinewidth\":0,\"ticks\":\"\"}}}],\"scattercarpet\":[{\"type\":\"scattercarpet\",\"marker\":{\"colorbar\":{\"outlinewidth\":0,\"ticks\":\"\"}}}],\"carpet\":[{\"aaxis\":{\"endlinecolor\":\"#2a3f5f\",\"gridcolor\":\"white\",\"linecolor\":\"white\",\"minorgridcolor\":\"white\",\"startlinecolor\":\"#2a3f5f\"},\"baxis\":{\"endlinecolor\":\"#2a3f5f\",\"gridcolor\":\"white\",\"linecolor\":\"white\",\"minorgridcolor\":\"white\",\"startlinecolor\":\"#2a3f5f\"},\"type\":\"carpet\"}],\"table\":[{\"cells\":{\"fill\":{\"color\":\"#EBF0F8\"},\"line\":{\"color\":\"white\"}},\"header\":{\"fill\":{\"color\":\"#C8D4E3\"},\"line\":{\"color\":\"white\"}},\"type\":\"table\"}],\"barpolar\":[{\"marker\":{\"line\":{\"color\":\"#E5ECF6\",\"width\":0.5},\"pattern\":{\"fillmode\":\"overlay\",\"size\":10,\"solidity\":0.2}},\"type\":\"barpolar\"}],\"pie\":[{\"automargin\":true,\"type\":\"pie\"}]},\"layout\":{\"autotypenumbers\":\"strict\",\"colorway\":[\"#636efa\",\"#EF553B\",\"#00cc96\",\"#ab63fa\",\"#FFA15A\",\"#19d3f3\",\"#FF6692\",\"#B6E880\",\"#FF97FF\",\"#FECB52\"],\"font\":{\"color\":\"#2a3f5f\"},\"hovermode\":\"closest\",\"hoverlabel\":{\"align\":\"left\"},\"paper_bgcolor\":\"white\",\"plot_bgcolor\":\"#E5ECF6\",\"polar\":{\"bgcolor\":\"#E5ECF6\",\"angularaxis\":{\"gridcolor\":\"white\",\"linecolor\":\"white\",\"ticks\":\"\"},\"radialaxis\":{\"gridcolor\":\"white\",\"linecolor\":\"white\",\"ticks\":\"\"}},\"ternary\":{\"bgcolor\":\"#E5ECF6\",\"aaxis\":{\"gridcolor\":\"white\",\"linecolor\":\"white\",\"ticks\":\"\"},\"baxis\":{\"gridcolor\":\"white\",\"linecolor\":\"white\",\"ticks\":\"\"},\"caxis\":{\"gridcolor\":\"white\",\"linecolor\":\"white\",\"ticks\":\"\"}},\"coloraxis\":{\"colorbar\":{\"outlinewidth\":0,\"ticks\":\"\"}},\"colorscale\":{\"sequential\":[[0.0,\"#0d0887\"],[0.1111111111111111,\"#46039f\"],[0.2222222222222222,\"#7201a8\"],[0.3333333333333333,\"#9c179e\"],[0.4444444444444444,\"#bd3786\"],[0.5555555555555556,\"#d8576b\"],[0.6666666666666666,\"#ed7953\"],[0.7777777777777778,\"#fb9f3a\"],[0.8888888888888888,\"#fdca26\"],[1.0,\"#f0f921\"]],\"sequentialminus\":[[0.0,\"#0d0887\"],[0.1111111111111111,\"#46039f\"],[0.2222222222222222,\"#7201a8\"],[0.3333333333333333,\"#9c179e\"],[0.4444444444444444,\"#bd3786\"],[0.5555555555555556,\"#d8576b\"],[0.6666666666666666,\"#ed7953\"],[0.7777777777777778,\"#fb9f3a\"],[0.8888888888888888,\"#fdca26\"],[1.0,\"#f0f921\"]],\"diverging\":[[0,\"#8e0152\"],[0.1,\"#c51b7d\"],[0.2,\"#de77ae\"],[0.3,\"#f1b6da\"],[0.4,\"#fde0ef\"],[0.5,\"#f7f7f7\"],[0.6,\"#e6f5d0\"],[0.7,\"#b8e186\"],[0.8,\"#7fbc41\"],[0.9,\"#4d9221\"],[1,\"#276419\"]]},\"xaxis\":{\"gridcolor\":\"white\",\"linecolor\":\"white\",\"ticks\":\"\",\"title\":{\"standoff\":15},\"zerolinecolor\":\"white\",\"automargin\":true,\"zerolinewidth\":2},\"yaxis\":{\"gridcolor\":\"white\",\"linecolor\":\"white\",\"ticks\":\"\",\"title\":{\"standoff\":15},\"zerolinecolor\":\"white\",\"automargin\":true,\"zerolinewidth\":2},\"scene\":{\"xaxis\":{\"backgroundcolor\":\"#E5ECF6\",\"gridcolor\":\"white\",\"linecolor\":\"white\",\"showbackground\":true,\"ticks\":\"\",\"zerolinecolor\":\"white\",\"gridwidth\":2},\"yaxis\":{\"backgroundcolor\":\"#E5ECF6\",\"gridcolor\":\"white\",\"linecolor\":\"white\",\"showbackground\":true,\"ticks\":\"\",\"zerolinecolor\":\"white\",\"gridwidth\":2},\"zaxis\":{\"backgroundcolor\":\"#E5ECF6\",\"gridcolor\":\"white\",\"linecolor\":\"white\",\"showbackground\":true,\"ticks\":\"\",\"zerolinecolor\":\"white\",\"gridwidth\":2}},\"shapedefaults\":{\"line\":{\"color\":\"#2a3f5f\"}},\"annotationdefaults\":{\"arrowcolor\":\"#2a3f5f\",\"arrowhead\":0,\"arrowwidth\":1},\"geo\":{\"bgcolor\":\"white\",\"landcolor\":\"#E5ECF6\",\"subunitcolor\":\"white\",\"showland\":true,\"showlakes\":true,\"lakecolor\":\"white\"},\"title\":{\"x\":0.05},\"mapbox\":{\"style\":\"light\"}}},\"xaxis\":{\"anchor\":\"y\",\"domain\":[0.0,1.0],\"title\":{\"text\":\"fecha\"}},\"yaxis\":{\"anchor\":\"x\",\"domain\":[0.0,1.0],\"title\":{\"text\":\"clics\"}},\"legend\":{\"title\":{\"text\":\"campaña\"},\"tracegroupgap\":0},\"title\":{\"text\":\"Tendencia de clics por campaña\"}},                        {\"responsive\": true}                    ).then(function(){\n",
              "                            \n",
              "var gd = document.getElementById('f62f9ce0-6847-4280-a896-6fba6060c6f9');\n",
              "var x = new MutationObserver(function (mutations, observer) {{\n",
              "        var display = window.getComputedStyle(gd).display;\n",
              "        if (!display || display === 'none') {{\n",
              "            console.log([gd, 'removed!']);\n",
              "            Plotly.purge(gd);\n",
              "            observer.disconnect();\n",
              "        }}\n",
              "}});\n",
              "\n",
              "// Listen for the removal of the full notebook cells\n",
              "var notebookContainer = gd.closest('#notebook-container');\n",
              "if (notebookContainer) {{\n",
              "    x.observe(notebookContainer, {childList: true});\n",
              "}}\n",
              "\n",
              "// Listen for the clearing of the current output cell\n",
              "var outputEl = gd.closest('.output');\n",
              "if (outputEl) {{\n",
              "    x.observe(outputEl, {childList: true});\n",
              "}}\n",
              "\n",
              "                        })                };                            </script>        </div>\n",
              "</body>\n",
              "</html>"
            ]
          },
          "metadata": {}
        },
        {
          "output_type": "display_data",
          "data": {
            "text/html": [
              "<html>\n",
              "<head><meta charset=\"utf-8\" /></head>\n",
              "<body>\n",
              "    <div>            <script src=\"https://cdnjs.cloudflare.com/ajax/libs/mathjax/2.7.5/MathJax.js?config=TeX-AMS-MML_SVG\"></script><script type=\"text/javascript\">if (window.MathJax && window.MathJax.Hub && window.MathJax.Hub.Config) {window.MathJax.Hub.Config({SVG: {font: \"STIX-Web\"}});}</script>                <script type=\"text/javascript\">window.PlotlyConfig = {MathJaxConfig: 'local'};</script>\n",
              "        <script charset=\"utf-8\" src=\"https://cdn.plot.ly/plotly-2.35.2.min.js\"></script>                <div id=\"52e9d3e3-e964-45e8-924a-79d35256aabe\" class=\"plotly-graph-div\" style=\"height:525px; width:100%;\"></div>            <script type=\"text/javascript\">                                    window.PLOTLYENV=window.PLOTLYENV || {};                                    if (document.getElementById(\"52e9d3e3-e964-45e8-924a-79d35256aabe\")) {                    Plotly.newPlot(                        \"52e9d3e3-e964-45e8-924a-79d35256aabe\",                        [{\"hovertemplate\":\"campaña=Awareness\\u003cbr\\u003efecha=%{x}\\u003cbr\\u003econversiones=%{y}\\u003cextra\\u003e\\u003c\\u002fextra\\u003e\",\"legendgroup\":\"Awareness\",\"line\":{\"color\":\"#636efa\",\"dash\":\"solid\"},\"marker\":{\"symbol\":\"circle\"},\"mode\":\"lines\",\"name\":\"Awareness\",\"orientation\":\"v\",\"showlegend\":true,\"x\":[\"2024-11-08\",\"2024-11-07\",\"2024-11-06\",\"2024-11-05\",\"2024-11-04\",\"2024-11-03\",\"2024-11-02\",\"2024-11-01\",\"2024-10-31\",\"2024-10-30\",\"2024-10-29\",\"2024-10-28\",\"2024-10-27\",\"2024-10-26\",\"2024-10-25\"],\"xaxis\":\"x\",\"y\":[9,38,28,15,19,14,6,27,45,29,24,39,13,6,16],\"yaxis\":\"y\",\"type\":\"scatter\"},{\"hovertemplate\":\"campaña=Conversion\\u003cbr\\u003efecha=%{x}\\u003cbr\\u003econversiones=%{y}\\u003cextra\\u003e\\u003c\\u002fextra\\u003e\",\"legendgroup\":\"Conversion\",\"line\":{\"color\":\"#EF553B\",\"dash\":\"solid\"},\"marker\":{\"symbol\":\"circle\"},\"mode\":\"lines\",\"name\":\"Conversion\",\"orientation\":\"v\",\"showlegend\":true,\"x\":[\"2024-10-24\",\"2024-10-23\",\"2024-10-22\",\"2024-10-21\",\"2024-10-20\",\"2024-10-19\",\"2024-10-18\",\"2024-10-17\",\"2024-10-16\",\"2024-10-15\",\"2024-10-14\",\"2024-10-13\",\"2024-10-12\",\"2024-10-11\",\"2024-10-10\"],\"xaxis\":\"x\",\"y\":[12,12,26,23,31,13,25,40,22,47,18,5,21,45,13],\"yaxis\":\"y\",\"type\":\"scatter\"}],                        {\"template\":{\"data\":{\"histogram2dcontour\":[{\"type\":\"histogram2dcontour\",\"colorbar\":{\"outlinewidth\":0,\"ticks\":\"\"},\"colorscale\":[[0.0,\"#0d0887\"],[0.1111111111111111,\"#46039f\"],[0.2222222222222222,\"#7201a8\"],[0.3333333333333333,\"#9c179e\"],[0.4444444444444444,\"#bd3786\"],[0.5555555555555556,\"#d8576b\"],[0.6666666666666666,\"#ed7953\"],[0.7777777777777778,\"#fb9f3a\"],[0.8888888888888888,\"#fdca26\"],[1.0,\"#f0f921\"]]}],\"choropleth\":[{\"type\":\"choropleth\",\"colorbar\":{\"outlinewidth\":0,\"ticks\":\"\"}}],\"histogram2d\":[{\"type\":\"histogram2d\",\"colorbar\":{\"outlinewidth\":0,\"ticks\":\"\"},\"colorscale\":[[0.0,\"#0d0887\"],[0.1111111111111111,\"#46039f\"],[0.2222222222222222,\"#7201a8\"],[0.3333333333333333,\"#9c179e\"],[0.4444444444444444,\"#bd3786\"],[0.5555555555555556,\"#d8576b\"],[0.6666666666666666,\"#ed7953\"],[0.7777777777777778,\"#fb9f3a\"],[0.8888888888888888,\"#fdca26\"],[1.0,\"#f0f921\"]]}],\"heatmap\":[{\"type\":\"heatmap\",\"colorbar\":{\"outlinewidth\":0,\"ticks\":\"\"},\"colorscale\":[[0.0,\"#0d0887\"],[0.1111111111111111,\"#46039f\"],[0.2222222222222222,\"#7201a8\"],[0.3333333333333333,\"#9c179e\"],[0.4444444444444444,\"#bd3786\"],[0.5555555555555556,\"#d8576b\"],[0.6666666666666666,\"#ed7953\"],[0.7777777777777778,\"#fb9f3a\"],[0.8888888888888888,\"#fdca26\"],[1.0,\"#f0f921\"]]}],\"heatmapgl\":[{\"type\":\"heatmapgl\",\"colorbar\":{\"outlinewidth\":0,\"ticks\":\"\"},\"colorscale\":[[0.0,\"#0d0887\"],[0.1111111111111111,\"#46039f\"],[0.2222222222222222,\"#7201a8\"],[0.3333333333333333,\"#9c179e\"],[0.4444444444444444,\"#bd3786\"],[0.5555555555555556,\"#d8576b\"],[0.6666666666666666,\"#ed7953\"],[0.7777777777777778,\"#fb9f3a\"],[0.8888888888888888,\"#fdca26\"],[1.0,\"#f0f921\"]]}],\"contourcarpet\":[{\"type\":\"contourcarpet\",\"colorbar\":{\"outlinewidth\":0,\"ticks\":\"\"}}],\"contour\":[{\"type\":\"contour\",\"colorbar\":{\"outlinewidth\":0,\"ticks\":\"\"},\"colorscale\":[[0.0,\"#0d0887\"],[0.1111111111111111,\"#46039f\"],[0.2222222222222222,\"#7201a8\"],[0.3333333333333333,\"#9c179e\"],[0.4444444444444444,\"#bd3786\"],[0.5555555555555556,\"#d8576b\"],[0.6666666666666666,\"#ed7953\"],[0.7777777777777778,\"#fb9f3a\"],[0.8888888888888888,\"#fdca26\"],[1.0,\"#f0f921\"]]}],\"surface\":[{\"type\":\"surface\",\"colorbar\":{\"outlinewidth\":0,\"ticks\":\"\"},\"colorscale\":[[0.0,\"#0d0887\"],[0.1111111111111111,\"#46039f\"],[0.2222222222222222,\"#7201a8\"],[0.3333333333333333,\"#9c179e\"],[0.4444444444444444,\"#bd3786\"],[0.5555555555555556,\"#d8576b\"],[0.6666666666666666,\"#ed7953\"],[0.7777777777777778,\"#fb9f3a\"],[0.8888888888888888,\"#fdca26\"],[1.0,\"#f0f921\"]]}],\"mesh3d\":[{\"type\":\"mesh3d\",\"colorbar\":{\"outlinewidth\":0,\"ticks\":\"\"}}],\"scatter\":[{\"fillpattern\":{\"fillmode\":\"overlay\",\"size\":10,\"solidity\":0.2},\"type\":\"scatter\"}],\"parcoords\":[{\"type\":\"parcoords\",\"line\":{\"colorbar\":{\"outlinewidth\":0,\"ticks\":\"\"}}}],\"scatterpolargl\":[{\"type\":\"scatterpolargl\",\"marker\":{\"colorbar\":{\"outlinewidth\":0,\"ticks\":\"\"}}}],\"bar\":[{\"error_x\":{\"color\":\"#2a3f5f\"},\"error_y\":{\"color\":\"#2a3f5f\"},\"marker\":{\"line\":{\"color\":\"#E5ECF6\",\"width\":0.5},\"pattern\":{\"fillmode\":\"overlay\",\"size\":10,\"solidity\":0.2}},\"type\":\"bar\"}],\"scattergeo\":[{\"type\":\"scattergeo\",\"marker\":{\"colorbar\":{\"outlinewidth\":0,\"ticks\":\"\"}}}],\"scatterpolar\":[{\"type\":\"scatterpolar\",\"marker\":{\"colorbar\":{\"outlinewidth\":0,\"ticks\":\"\"}}}],\"histogram\":[{\"marker\":{\"pattern\":{\"fillmode\":\"overlay\",\"size\":10,\"solidity\":0.2}},\"type\":\"histogram\"}],\"scattergl\":[{\"type\":\"scattergl\",\"marker\":{\"colorbar\":{\"outlinewidth\":0,\"ticks\":\"\"}}}],\"scatter3d\":[{\"type\":\"scatter3d\",\"line\":{\"colorbar\":{\"outlinewidth\":0,\"ticks\":\"\"}},\"marker\":{\"colorbar\":{\"outlinewidth\":0,\"ticks\":\"\"}}}],\"scattermapbox\":[{\"type\":\"scattermapbox\",\"marker\":{\"colorbar\":{\"outlinewidth\":0,\"ticks\":\"\"}}}],\"scatterternary\":[{\"type\":\"scatterternary\",\"marker\":{\"colorbar\":{\"outlinewidth\":0,\"ticks\":\"\"}}}],\"scattercarpet\":[{\"type\":\"scattercarpet\",\"marker\":{\"colorbar\":{\"outlinewidth\":0,\"ticks\":\"\"}}}],\"carpet\":[{\"aaxis\":{\"endlinecolor\":\"#2a3f5f\",\"gridcolor\":\"white\",\"linecolor\":\"white\",\"minorgridcolor\":\"white\",\"startlinecolor\":\"#2a3f5f\"},\"baxis\":{\"endlinecolor\":\"#2a3f5f\",\"gridcolor\":\"white\",\"linecolor\":\"white\",\"minorgridcolor\":\"white\",\"startlinecolor\":\"#2a3f5f\"},\"type\":\"carpet\"}],\"table\":[{\"cells\":{\"fill\":{\"color\":\"#EBF0F8\"},\"line\":{\"color\":\"white\"}},\"header\":{\"fill\":{\"color\":\"#C8D4E3\"},\"line\":{\"color\":\"white\"}},\"type\":\"table\"}],\"barpolar\":[{\"marker\":{\"line\":{\"color\":\"#E5ECF6\",\"width\":0.5},\"pattern\":{\"fillmode\":\"overlay\",\"size\":10,\"solidity\":0.2}},\"type\":\"barpolar\"}],\"pie\":[{\"automargin\":true,\"type\":\"pie\"}]},\"layout\":{\"autotypenumbers\":\"strict\",\"colorway\":[\"#636efa\",\"#EF553B\",\"#00cc96\",\"#ab63fa\",\"#FFA15A\",\"#19d3f3\",\"#FF6692\",\"#B6E880\",\"#FF97FF\",\"#FECB52\"],\"font\":{\"color\":\"#2a3f5f\"},\"hovermode\":\"closest\",\"hoverlabel\":{\"align\":\"left\"},\"paper_bgcolor\":\"white\",\"plot_bgcolor\":\"#E5ECF6\",\"polar\":{\"bgcolor\":\"#E5ECF6\",\"angularaxis\":{\"gridcolor\":\"white\",\"linecolor\":\"white\",\"ticks\":\"\"},\"radialaxis\":{\"gridcolor\":\"white\",\"linecolor\":\"white\",\"ticks\":\"\"}},\"ternary\":{\"bgcolor\":\"#E5ECF6\",\"aaxis\":{\"gridcolor\":\"white\",\"linecolor\":\"white\",\"ticks\":\"\"},\"baxis\":{\"gridcolor\":\"white\",\"linecolor\":\"white\",\"ticks\":\"\"},\"caxis\":{\"gridcolor\":\"white\",\"linecolor\":\"white\",\"ticks\":\"\"}},\"coloraxis\":{\"colorbar\":{\"outlinewidth\":0,\"ticks\":\"\"}},\"colorscale\":{\"sequential\":[[0.0,\"#0d0887\"],[0.1111111111111111,\"#46039f\"],[0.2222222222222222,\"#7201a8\"],[0.3333333333333333,\"#9c179e\"],[0.4444444444444444,\"#bd3786\"],[0.5555555555555556,\"#d8576b\"],[0.6666666666666666,\"#ed7953\"],[0.7777777777777778,\"#fb9f3a\"],[0.8888888888888888,\"#fdca26\"],[1.0,\"#f0f921\"]],\"sequentialminus\":[[0.0,\"#0d0887\"],[0.1111111111111111,\"#46039f\"],[0.2222222222222222,\"#7201a8\"],[0.3333333333333333,\"#9c179e\"],[0.4444444444444444,\"#bd3786\"],[0.5555555555555556,\"#d8576b\"],[0.6666666666666666,\"#ed7953\"],[0.7777777777777778,\"#fb9f3a\"],[0.8888888888888888,\"#fdca26\"],[1.0,\"#f0f921\"]],\"diverging\":[[0,\"#8e0152\"],[0.1,\"#c51b7d\"],[0.2,\"#de77ae\"],[0.3,\"#f1b6da\"],[0.4,\"#fde0ef\"],[0.5,\"#f7f7f7\"],[0.6,\"#e6f5d0\"],[0.7,\"#b8e186\"],[0.8,\"#7fbc41\"],[0.9,\"#4d9221\"],[1,\"#276419\"]]},\"xaxis\":{\"gridcolor\":\"white\",\"linecolor\":\"white\",\"ticks\":\"\",\"title\":{\"standoff\":15},\"zerolinecolor\":\"white\",\"automargin\":true,\"zerolinewidth\":2},\"yaxis\":{\"gridcolor\":\"white\",\"linecolor\":\"white\",\"ticks\":\"\",\"title\":{\"standoff\":15},\"zerolinecolor\":\"white\",\"automargin\":true,\"zerolinewidth\":2},\"scene\":{\"xaxis\":{\"backgroundcolor\":\"#E5ECF6\",\"gridcolor\":\"white\",\"linecolor\":\"white\",\"showbackground\":true,\"ticks\":\"\",\"zerolinecolor\":\"white\",\"gridwidth\":2},\"yaxis\":{\"backgroundcolor\":\"#E5ECF6\",\"gridcolor\":\"white\",\"linecolor\":\"white\",\"showbackground\":true,\"ticks\":\"\",\"zerolinecolor\":\"white\",\"gridwidth\":2},\"zaxis\":{\"backgroundcolor\":\"#E5ECF6\",\"gridcolor\":\"white\",\"linecolor\":\"white\",\"showbackground\":true,\"ticks\":\"\",\"zerolinecolor\":\"white\",\"gridwidth\":2}},\"shapedefaults\":{\"line\":{\"color\":\"#2a3f5f\"}},\"annotationdefaults\":{\"arrowcolor\":\"#2a3f5f\",\"arrowhead\":0,\"arrowwidth\":1},\"geo\":{\"bgcolor\":\"white\",\"landcolor\":\"#E5ECF6\",\"subunitcolor\":\"white\",\"showland\":true,\"showlakes\":true,\"lakecolor\":\"white\"},\"title\":{\"x\":0.05},\"mapbox\":{\"style\":\"light\"}}},\"xaxis\":{\"anchor\":\"y\",\"domain\":[0.0,1.0],\"title\":{\"text\":\"fecha\"}},\"yaxis\":{\"anchor\":\"x\",\"domain\":[0.0,1.0],\"title\":{\"text\":\"conversiones\"}},\"legend\":{\"title\":{\"text\":\"campaña\"},\"tracegroupgap\":0},\"title\":{\"text\":\"Tendencia de conversiones por campaña\"}},                        {\"responsive\": true}                    ).then(function(){\n",
              "                            \n",
              "var gd = document.getElementById('52e9d3e3-e964-45e8-924a-79d35256aabe');\n",
              "var x = new MutationObserver(function (mutations, observer) {{\n",
              "        var display = window.getComputedStyle(gd).display;\n",
              "        if (!display || display === 'none') {{\n",
              "            console.log([gd, 'removed!']);\n",
              "            Plotly.purge(gd);\n",
              "            observer.disconnect();\n",
              "        }}\n",
              "}});\n",
              "\n",
              "// Listen for the removal of the full notebook cells\n",
              "var notebookContainer = gd.closest('#notebook-container');\n",
              "if (notebookContainer) {{\n",
              "    x.observe(notebookContainer, {childList: true});\n",
              "}}\n",
              "\n",
              "// Listen for the clearing of the current output cell\n",
              "var outputEl = gd.closest('.output');\n",
              "if (outputEl) {{\n",
              "    x.observe(outputEl, {childList: true});\n",
              "}}\n",
              "\n",
              "                        })                };                            </script>        </div>\n",
              "</body>\n",
              "</html>"
            ]
          },
          "metadata": {}
        }
      ]
    },
    {
      "cell_type": "markdown",
      "source": [
        "## 🎯 Ejercicios Prácticos\n",
        "\n",
        "1. Modifica la clase AnalizadorCampañas para agregar una nueva métrica:\n",
        "   - Calcula el ROAS\n",
        "   - Agrega un método para encontrar los días con mejor rendimiento\n",
        "\n",
        "2. Crea una nueva clase llamada AnalizadorRendimiento que herede de AnalizadorCampañas:\n",
        "   - Debe comparar el rendimiento entre diferentes campañas\n",
        "   - Agrega un método para identificar las campañas más efectivas\n",
        "\n",
        "3. Implementa un nuevo método de visualización:\n",
        "   - Crea un gráfico de barras para comparar CTR entre campañas\n",
        "   - Agrega la capacidad de comparar múltiples métricas\n",
        "\n",
        "Bonus: ¿Cómo modificarías las clases para manejar datos de TikTok Ads?"
      ],
      "metadata": {
        "id": "MV1YBbxMWlRr"
      }
    },
    {
      "cell_type": "code",
      "source": [
        "class AnalizadorRendimiento(AnalizadorCampañas):\n",
        "    # Tu código aquí\n",
        "    pass"
      ],
      "metadata": {
        "id": "Ub44cRseWf4x"
      },
      "execution_count": null,
      "outputs": []
    },
    {
      "cell_type": "code",
      "source": [],
      "metadata": {
        "id": "QLkVfnp1Wp7t"
      },
      "execution_count": null,
      "outputs": []
    }
  ]
}